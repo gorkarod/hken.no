{
 "cells": [
  {
   "cell_type": "code",
   "execution_count": 1,
   "metadata": {
    "collapsed": false,
    "scrolled": true
   },
   "outputs": [],
   "source": [
    "from nodewrapper import bundle, css \n",
    "from IPython.display import HTML"
   ]
  },
  {
   "cell_type": "code",
   "execution_count": 4,
   "metadata": {
    "collapsed": false
   },
   "outputs": [
    {
     "data": {
      "text/html": [
       "<style>.infoParent {\n",
       "  position: relative; }\n",
       "  .infoParent:hover .infoBox {\n",
       "    transform: translateY(0); }\n",
       "\n",
       ".infoBoxWrapper {\n",
       "  pointer-events: none;\n",
       "  overflow: hidden;\n",
       "  position: absolute;\n",
       "  bottom: 0;\n",
       "  left: 0;\n",
       "  right: 0;\n",
       "  z-index: 80; }\n",
       "  .infoBoxWrapper .infoBox {\n",
       "    display: block;\n",
       "    top: inherit;\n",
       "    transform: translateY(105%);\n",
       "    transition: transform 100ms ease;\n",
       "    background: rgba(0, 0, 0, 0.8);\n",
       "    font-size: 13px;\n",
       "    line-height: 1.2;\n",
       "    color: white;\n",
       "    padding: .3em;\n",
       "    margin: 0; }\n",
       "    .infoBoxWrapper .infoBox div {\n",
       "      display: inline-block; }\n",
       "    .infoBoxWrapper .infoBox .infoRow {\n",
       "      padding-right: 1em; }\n",
       "      .infoBoxWrapper .infoBox .infoRow .value {\n",
       "        font-weight: 500; }\n",
       "      .infoBoxWrapper .infoBox .infoRow .label {\n",
       "        padding-right: .2em; }\n",
       ".previewPanel {\n",
       "  display: flex;\n",
       "  flex: 3;\n",
       "  margin: -0.3vw;\n",
       "  padding: 0.6vw 0 0 0; }\n",
       "  .previewPanel .previewWrapper {\n",
       "    position: relative;\n",
       "    margin: 0.3vw; }\n",
       "    .previewPanel .previewWrapper svg.previewImg {\n",
       "      display: block; }\n",
       ".cropInfo {\n",
       "  top: 0;\n",
       "  left: 0;\n",
       "  position: absolute;\n",
       "  display: table; }\n",
       "  .cropInfo .infoRow {\n",
       "    display: table-row; }\n",
       "    .cropInfo .infoRow .label, .cropInfo .infoRow .value {\n",
       "      display: table-cell; }\n",
       "\n",
       ".overlayWrapper .dragKing {\n",
       "  z-index: 100;\n",
       "  position: fixed;\n",
       "  top: 0;\n",
       "  left: 0;\n",
       "  right: 0;\n",
       "  bottom: 0;\n",
       "  cursor: move; }\n",
       "\n",
       ".overlayWrapper svg.overlay {\n",
       "  height: 100%;\n",
       "  z-index: 10;\n",
       "  shape-rendering: crispEdges;\n",
       "  position: absolute;\n",
       "  top: 0;\n",
       "  left: 0;\n",
       "  right: 0; }\n",
       "  .overlayWrapper svg.overlay path, .overlayWrapper svg.overlay rect {\n",
       "    stroke-width: 1px;\n",
       "    vector-effect: non-scaling-stroke;\n",
       "    fill: transparent; }\n",
       "  .overlayWrapper svg.overlay .outside {\n",
       "    fill: rgba(0, 0, 0, 0.5); }\n",
       "  .overlayWrapper svg.overlay .centerPoint {\n",
       "    position: relative; }\n",
       "    .overlayWrapper svg.overlay .centerPoint .handle {\n",
       "      cursor: crosshair;\n",
       "      opacity: 0; }\n",
       "      .overlayWrapper svg.overlay .centerPoint .handle:hover + .cross {\n",
       "        stroke: yellow; }\n",
       "    .overlayWrapper svg.overlay .centerPoint .cross {\n",
       "      pointer-events: none;\n",
       "      stroke-width: 1px;\n",
       "      stroke: rgba(255, 255, 0, 0.5); }\n",
       "  .overlayWrapper svg.overlay .inside .box {\n",
       "    stroke: rgba(255, 255, 255, 0.3);\n",
       "    cursor: move; }\n",
       "  .overlayWrapper svg.overlay .inside:hover .box {\n",
       "    stroke: rgba(255, 255, 255, 0.8); }\n",
       "  .overlayWrapper svg.overlay .inside .handles {\n",
       "    overflow: visible; }\n",
       "  .overlayWrapper svg.overlay.inactive .inside, .overlayWrapper svg.overlay.inactive .handle {\n",
       "    display: none; }\n",
       ".cropboxWrapper {\n",
       "  max-width: 50em;\n",
       "  position: relative;\n",
       "  display: flex;\n",
       "  user-select: none;\n",
       "  -webkit-user-select: none;\n",
       "  margin: 1rem 0; }\n",
       "  .cropboxWrapper img {\n",
       "    display: block; }\n",
       "  .cropboxWrapper .masterImgWrapper {\n",
       "    flex: 11;\n",
       "    align-self: center; }\n",
       "</style><div class=\"cropboxWrapper\" style=\"flex-direction:column;display:flex;\"><div class=\"masterImgWrapper infoParent\"><img class=\"masterImg\" src=\"./kids_in_the_hall.jpg\"/><div class=\"overlayWrapper\"><svg class=\"overlay inactive\" viewBox=\"0 0 1 1\" preserveAspectRatio=\"none\" height=\"100%\" width=\"100%\"><path class=\"outside\" d=\"M0, 0H1V1H0ZM0.2, 0.3V0.7H0.6V0.3Z\"></path><g class=\"inside\"><path class=\"box\" d=\"M0.2, 0.3V0.7H0.6V0.3Z\"></path><svg class=\"handles\" viewBox=\"0 0 1 1\" preserveAspectRatio=\"none\" height=\"0.39999999999999997\" width=\"0.39999999999999997\" x=\"0.2\" y=\"0.3\"><rect class=\"1000\" width=\"0.1\" height=\"1.1\" x=\"-0.05\" y=\"-0.05\" style=\"cursor:ew-resize;\"></rect><rect class=\"0100\" width=\"1.1\" height=\"0.1\" x=\"-0.05\" y=\"-0.05\" style=\"cursor:ns-resize;\"></rect><rect class=\"0010\" width=\"0.1\" height=\"1.1\" x=\"0.95\" y=\"-0.05\" style=\"cursor:ew-resize;\"></rect><rect class=\"0001\" width=\"1.1\" height=\"0.1\" x=\"-0.05\" y=\"0.95\" style=\"cursor:ns-resize;\"></rect><rect class=\"1100\" width=\"0.1\" height=\"0.1\" x=\"-0.05\" y=\"-0.05\" style=\"cursor:nw-resize;\"></rect><rect class=\"0110\" width=\"0.1\" height=\"0.1\" x=\"0.95\" y=\"-0.05\" style=\"cursor:ne-resize;\"></rect><rect class=\"0011\" width=\"0.1\" height=\"0.1\" x=\"0.95\" y=\"0.95\" style=\"cursor:se-resize;\"></rect><rect class=\"1001\" width=\"0.1\" height=\"0.1\" x=\"-0.05\" y=\"0.95\" style=\"cursor:sw-resize;\"></rect></svg></g><g class=\"centerPoint\"><ellipse class=\"handle\" style=\"opacity:0;\" cx=\"0.3\" cy=\"0.5\" rx=\"0.05\" ry=\"0.082569558101473\"></ellipse><path class=\"cross\" d=\"M0, 0.5H1M0.3, 0V1\"></path></g></svg></div><div class=\"infoBoxWrapper\"><div class=\"infoBox\"><div class=\"infoRow\"><div class=\"label\">left:</div><div class=\"value\">0.300</div></div><div class=\"infoRow\"><div class=\"label\">top:</div><div class=\"value\">0.200</div></div><div class=\"infoRow\"><div class=\"label\">right:</div><div class=\"value\">0.700</div></div><div class=\"infoRow\"><div class=\"label\">bottom:</div><div class=\"value\">0.600</div></div><div class=\"infoRow\"><div class=\"label\">x:</div><div class=\"value\">0.500</div></div><div class=\"infoRow\"><div class=\"label\">y:</div><div class=\"value\">0.300</div></div></div></div></div><div class=\"previewPanel\" style=\"flex-direction:row;\"><div class=\"previewWrapper infoParent\" style=\"flex:1;\"><svg class=\"previewImg\" style=\"background-image:url(./kids_in_the_hall.jpg);background-position:33% 50%;background-repeat:no-repeat;background-size:250% auto;\" viewBox=\"0 0 1 1\"></svg><div class=\"infoBoxWrapper\"><div class=\"infoBox\"><div class=\"infoRow\"><div class=\"label\">position:</div><div class=\"value\">33% 50%</div></div><div class=\"infoRow\"><div class=\"label\">size:</div><div class=\"value\">250% auto</div></div><div class=\"infoRow\"><div class=\"label\">aspect ratio:</div><div class=\"value\">1</div></div></div></div></div><div class=\"previewWrapper infoParent\" style=\"flex:0.5;\"><svg class=\"previewImg\" style=\"background-image:url(./kids_in_the_hall.jpg);background-position:29% 50%;background-repeat:no-repeat;background-size:330% auto;\" viewBox=\"0 0 0.5 1\"></svg><div class=\"infoBoxWrapper\"><div class=\"infoBox\"><div class=\"infoRow\"><div class=\"label\">position:</div><div class=\"value\">29% 50%</div></div><div class=\"infoRow\"><div class=\"label\">size:</div><div class=\"value\">330% auto</div></div><div class=\"infoRow\"><div class=\"label\">aspect ratio:</div><div class=\"value\">0.5</div></div></div></div></div><div class=\"previewWrapper infoParent\" style=\"flex:2.5;\"><svg class=\"previewImg\" style=\"background-image:url(./kids_in_the_hall.jpg);background-position:25% 50%;background-repeat:no-repeat;background-size:165% auto;\" viewBox=\"0 0 2.5 1\"></svg><div class=\"infoBoxWrapper\"><div class=\"infoBox\"><div class=\"infoRow\"><div class=\"label\">position:</div><div class=\"value\">25% 50%</div></div><div class=\"infoRow\"><div class=\"label\">size:</div><div class=\"value\">165% auto</div></div><div class=\"infoRow\"><div class=\"label\">aspect ratio:</div><div class=\"value\">2.5</div></div></div></div></div></div></div>\n"
      ],
      "text/plain": [
       "<IPython.core.display.HTML object>"
      ]
     },
     "execution_count": 4,
     "metadata": {},
     "output_type": "execute_result"
    }
   ],
   "source": [
    "crop = {'h':[0.2, 0.3, 0.6], 'v':[0.3, 0.5, 0.7]}\n",
    "markup = css() + bundle(src='./kids_in_the_hall.jpg', crop=crop)\n",
    "HTML(markup)"
   ]
  },
  {
   "cell_type": "code",
   "execution_count": null,
   "metadata": {
    "collapsed": true
   },
   "outputs": [],
   "source": []
  }
 ],
 "metadata": {
  "kernelspec": {
   "display_name": "Python 3",
   "language": "python",
   "name": "python3"
  },
  "language_info": {
   "codemirror_mode": {
    "name": "ipython",
    "version": 3
   },
   "file_extension": ".py",
   "mimetype": "text/x-python",
   "name": "python",
   "nbconvert_exporter": "python",
   "pygments_lexer": "ipython3",
   "version": "3.5.1+"
  }
 },
 "nbformat": 4,
 "nbformat_minor": 0
}
