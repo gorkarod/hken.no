{
 "cells": [
  {
   "cell_type": "code",
   "execution_count": 148,
   "metadata": {
    "collapsed": true
   },
   "outputs": [],
   "source": [
    "import cv2\n",
    "from boundingbox import BoundingBox, ImageBoundingBox"
   ]
  },
  {
   "cell_type": "code",
   "execution_count": 149,
   "metadata": {
    "collapsed": false
   },
   "outputs": [],
   "source": [
    "class BaseCropEngine:\n",
    "\n",
    "    def __init__(self, padding=0.6):\n",
    "        self.bounds = BoundingBox(0, 0, 1, 1) * padding\n",
    "\n",
    "    @staticmethod\n",
    "    def opencv_image(image_file, size, color=cv2.COLOR_BGR2GRAY):\n",
    "        cvimg = cv2.imread(image_file)\n",
    "        height, width = cvimg.shape[:2]\n",
    "        if width > height:\n",
    "            height, width = size * height // width, size\n",
    "        else:\n",
    "            height, width = size, size * width // height\n",
    "        cvimg = cv2.resize(cvimg, (width, height))\n",
    "        return cv2.cvtColor(cvimg, color)\n",
    "\n",
    "    def find_features(self, image_file):\n",
    "        return [self.bounds, self.bounds * 0.5]\n",
    "\n",
    "\n",
    "class FeatureCropEngine(BaseCropEngine):\n",
    "\n",
    "    def __init__(self, n=10, padding=1.2, size=200, extra_kwargs=None):\n",
    "        self.imagesize = size\n",
    "        self.padding = padding\n",
    "        arguments = dict(\n",
    "            nfeatures=n,\n",
    "            scaleFactor=1.5,\n",
    "            patchSize=self.imagesize // 10,\n",
    "            edgeThreshold=self.imagesize // 10,\n",
    "            WTA_K=2,\n",
    "            scoreType=cv2.ORB_FAST_SCORE,\n",
    "        )\n",
    "        if extra_kwargs:\n",
    "            arguments.update(extra_kwargs)\n",
    "        self.feature_detector = cv2.ORB_create(**arguments)\n",
    "\n",
    "    def find_features(self, image_file):\n",
    "        cvimg = self.opencv_image(\n",
    "            image_file, self.imagesize)\n",
    "        height, width = cvimg.shape[:2]\n",
    "        keypoints, desc = self.feature_detector.detectAndCompute(\n",
    "            image=cvimg, mask=None)\n",
    "\n",
    "        def keyfunc(kp):\n",
    "            return kp.size * kp.response ** 2\n",
    "        keypoints = sorted(\n",
    "            keypoints,  key=keyfunc, reverse=True)\n",
    "\n",
    "        boxes = []\n",
    "        for keypoint in keypoints:\n",
    "            radius = keypoint.size / 2\n",
    "            x = keypoint.pt[0]\n",
    "            y = keypoint.pt[1]\n",
    "            box = ImageBoundingBox(\n",
    "                left=x - radius,\n",
    "                top=y - radius,\n",
    "                right=x + radius,\n",
    "                bottom=y + radius,\n",
    "            )\n",
    "            box *= self.padding\n",
    "            box = box.to_relative(width, height)\n",
    "            box.title = 'detail v:{k.response} r:{k.size}'.format(\n",
    "                k=keypoint)\n",
    "            boxes.append(box)\n",
    "\n",
    "        return boxes\n",
    "\n",
    "\n",
    "class FaceCropEngine(BaseCropEngine):\n",
    "\n",
    "    cascade_files = '/usr/share/opencv/haarcascades/haarcascade_{}.xml'\n",
    "    default_classifiers = [\n",
    "        'frontalface_default', 'profileface']\n",
    "\n",
    "    def __init__(self, classifiers=None, n=100, size=400, padding=1.3):\n",
    "        if classifiers is None:\n",
    "            classifiers = self.default_classifiers[:]\n",
    "        self.classifiers = {} \n",
    "        for name in classifiers:\n",
    "            cascade_file = self.cascade_files.format(name)\n",
    "            self.classifiers[name] = cv2.CascadeClassifier(cascade_file)\n",
    "\n",
    "        self.imagesize = size\n",
    "        self.minsize = (self.imagesize // 15,\n",
    "                        self.imagesize // 15)\n",
    "        self.padding = padding\n",
    "        self.number = n\n",
    "\n",
    "    def find_features(self, image_file):\n",
    "        cvimg = self.opencv_image(\n",
    "            image_file, self.imagesize)\n",
    "        height, width = cvimg.shape[:2]\n",
    "        boxes = []\n",
    "\n",
    "        for name, classifier in self.classifiers.items():\n",
    "            faces = classifier.detectMultiScale(\n",
    "                cvimg,\n",
    "                minSize=self.minsize,\n",
    "                minNeighbors=8,\n",
    "            )\n",
    "            for l, t, w, h in faces:\n",
    "                box = ImageBoundingBox(\n",
    "                    left=l, top=t, right=l + w, bottom=t + h)\n",
    "                box *= self.padding\n",
    "                box = box.to_relative(width, height)\n",
    "                box.title = name\n",
    "                boxes.append(box)\n",
    "\n",
    "        boxes = sorted(\n",
    "            boxes, key=lambda b: -b.size)\n",
    "        return boxes[:self.number]\n",
    "\n",
    "\n",
    "class HybridEngine(BaseCropEngine):\n",
    "\n",
    "    def __init__(self, padding=1.3):\n",
    "        self.face_engine = FaceCropEngine(padding=padding)\n",
    "        self.feature_engine = FeatureCropEngine(\n",
    "            padding=padding)\n",
    "        self.extra_engine = FeatureCropEngine(\n",
    "            n=5, padding=padding / 2)\n",
    "\n",
    "    def find_features(self, image_file, plot=None):\n",
    "        features = self.face_engine.find_features(\n",
    "            image_file)\n",
    "        if not features:\n",
    "            return self.feature_engine.find_features(image_file)\n",
    "        if sum(features).size < 0.15:\n",
    "            features += self.extra_engine.find_features(\n",
    "                image_file)\n",
    "        return features"
   ]
  },
  {
   "cell_type": "code",
   "execution_count": 150,
   "metadata": {
    "collapsed": false
   },
   "outputs": [],
   "source": [
    "from PIL import Image\n",
    "from nodewrapper import bundle, css \n",
    "from IPython.display import HTML"
   ]
  },
  {
   "cell_type": "code",
   "execution_count": 214,
   "metadata": {
    "collapsed": false,
    "scrolled": false
   },
   "outputs": [
    {
     "data": {
      "text/html": [
       "<style>.infoParent {\n",
       "  position: relative; }\n",
       "  .infoParent:hover .infoBox {\n",
       "    transform: translateY(0); }\n",
       "\n",
       ".infoBoxWrapper {\n",
       "  pointer-events: none;\n",
       "  overflow: hidden;\n",
       "  position: absolute;\n",
       "  bottom: 0;\n",
       "  left: 0;\n",
       "  right: 0;\n",
       "  z-index: 80; }\n",
       "  .infoBoxWrapper .infoBox {\n",
       "    display: block;\n",
       "    top: inherit;\n",
       "    transform: translateY(105%);\n",
       "    transition: transform 100ms ease;\n",
       "    background: rgba(0, 0, 0, 0.8);\n",
       "    font-size: 13px;\n",
       "    line-height: 1.2;\n",
       "    color: white;\n",
       "    padding: .3em;\n",
       "    margin: 0; }\n",
       "    .infoBoxWrapper .infoBox div {\n",
       "      display: inline-block; }\n",
       "    .infoBoxWrapper .infoBox .infoRow {\n",
       "      padding-right: 1em; }\n",
       "      .infoBoxWrapper .infoBox .infoRow .value {\n",
       "        font-weight: 500; }\n",
       "      .infoBoxWrapper .infoBox .infoRow .label {\n",
       "        padding-right: .2em; }\n",
       ".previewPanel {\n",
       "  display: flex;\n",
       "  flex: 3;\n",
       "  margin: -0.3vw;\n",
       "  padding: 0.6vw 0 0 0; }\n",
       "  .previewPanel .previewWrapper {\n",
       "    position: relative;\n",
       "    margin: 0.3vw; }\n",
       "    .previewPanel .previewWrapper svg.previewImg {\n",
       "      display: block; }\n",
       ".cropInfo {\n",
       "  top: 0;\n",
       "  left: 0;\n",
       "  position: absolute;\n",
       "  display: table; }\n",
       "  .cropInfo .infoRow {\n",
       "    display: table-row; }\n",
       "    .cropInfo .infoRow .label, .cropInfo .infoRow .value {\n",
       "      display: table-cell; }\n",
       "\n",
       "@keyframes spin {\n",
       "  from {\n",
       "    transform: rotate(0deg); }\n",
       "  to {\n",
       "    transform: rotate(360deg); } }\n",
       "\n",
       ".overlayWrapper svg.overlay .feature {\n",
       "  shape-rendering: geometricPrecision;\n",
       "  overflow: visible;\n",
       "  transition: all 200ms; }\n",
       "  .overlayWrapper svg.overlay .feature text {\n",
       "    transition: inherit;\n",
       "    opacity: 0;\n",
       "    pointer-events: none;\n",
       "    fill: white;\n",
       "    vector-effect: non-scaling-stroke;\n",
       "    stroke: black;\n",
       "    stroke-opacity: 0.4;\n",
       "    stroke-width: 4;\n",
       "    font-weight: 500;\n",
       "    paint-order: stroke; }\n",
       "  .overlayWrapper svg.overlay .feature circle, .overlayWrapper svg.overlay .feature path {\n",
       "    transition: inherit;\n",
       "    vector-effect: non-scaling-stroke;\n",
       "    fill: none;\n",
       "    stroke: white;\n",
       "    stroke-width: 1; }\n",
       "  .overlayWrapper svg.overlay .feature .front {\n",
       "    stroke-opacity: 0.5; }\n",
       "  .overlayWrapper svg.overlay .feature .back {\n",
       "    stroke-opacity: 0.0;\n",
       "    stroke-width: 25; }\n",
       "  .overlayWrapper svg.overlay .feature .cross {\n",
       "    pointer-events: none;\n",
       "    stroke-opacity: 0.0;\n",
       "    transform-origin: 50% 50%;\n",
       "    animation: spin 10000ms linear infinite; }\n",
       "  .overlayWrapper svg.overlay .feature:hover .cross {\n",
       "    stroke-opacity: 1; }\n",
       "  .overlayWrapper svg.overlay .feature:hover .front {\n",
       "    stroke-opacity: 1;\n",
       "    stroke-width: 2; }\n",
       "  .overlayWrapper svg.overlay .feature:hover text {\n",
       "    opacity: 1; }\n",
       "\n",
       ".overlayWrapper .dragKing {\n",
       "  z-index: 100;\n",
       "  position: fixed;\n",
       "  top: 0;\n",
       "  left: 0;\n",
       "  right: 0;\n",
       "  bottom: 0;\n",
       "  cursor: move; }\n",
       "\n",
       ".overlayWrapper svg.overlay {\n",
       "  height: 100%;\n",
       "  z-index: 10;\n",
       "  shape-rendering: crispEdges;\n",
       "  position: absolute;\n",
       "  top: 0;\n",
       "  left: 0;\n",
       "  right: 0; }\n",
       "  .overlayWrapper svg.overlay path, .overlayWrapper svg.overlay rect, .overlayWrapper svg.overlay ellipse {\n",
       "    stroke-width: 1px;\n",
       "    vector-effect: non-scaling-stroke;\n",
       "    fill: transparent; }\n",
       "  .overlayWrapper svg.overlay .outside {\n",
       "    fill: rgba(0, 0, 0, 0.5); }\n",
       "  .overlayWrapper svg.overlay .centerPoint {\n",
       "    position: relative; }\n",
       "    .overlayWrapper svg.overlay .centerPoint .handle {\n",
       "      cursor: crosshair;\n",
       "      opacity: 0; }\n",
       "      .overlayWrapper svg.overlay .centerPoint .handle:hover + .cross {\n",
       "        stroke: yellow; }\n",
       "    .overlayWrapper svg.overlay .centerPoint .cross {\n",
       "      pointer-events: none;\n",
       "      stroke-width: 1px;\n",
       "      stroke: rgba(255, 255, 0, 0.5); }\n",
       "  .overlayWrapper svg.overlay .inside .box {\n",
       "    stroke: rgba(255, 255, 255, 0.3);\n",
       "    cursor: move; }\n",
       "  .overlayWrapper svg.overlay .inside:hover .box {\n",
       "    stroke: rgba(255, 255, 255, 0.8); }\n",
       "  .overlayWrapper svg.overlay .inside .handles {\n",
       "    overflow: visible; }\n",
       "  .overlayWrapper svg.overlay.inactive .inside, .overlayWrapper svg.overlay.inactive .handle {\n",
       "    display: none; }\n",
       ".cropboxWrapper {\n",
       "  max-width: 50em;\n",
       "  position: relative;\n",
       "  display: flex;\n",
       "  user-select: none;\n",
       "  -webkit-user-select: none;\n",
       "  margin: 1rem 0; }\n",
       "  .cropboxWrapper img {\n",
       "    display: block; }\n",
       "  .cropboxWrapper .masterImgWrapper {\n",
       "    flex: 11;\n",
       "    align-self: center; }\n",
       "</style><div class=\"cropboxWrapper\" style=\"flex-direction:column;display:flex;\"><div class=\"masterImgWrapper infoParent\"><img class=\"masterImg\" src=\"12-NYH-nyhstudenter-03-SGS.jpg\"/><div class=\"overlayWrapper\"><svg class=\"overlay inactive\" viewBox=\"0 0 1 1\" preserveAspectRatio=\"none\" height=\"100%\" width=\"100%\"><path class=\"outside\" d=\"M0, 0H1V1H0ZM0.15, 0.09090909090909091V0.8318181818181818H0.915V0.09090909090909091Z\"></path><g class=\"inside\"><path class=\"box\" d=\"M0.15, 0.09090909090909091V0.8318181818181818H0.915V0.09090909090909091Z\"></path><svg class=\"handles\" viewBox=\"0 0 1 1\" preserveAspectRatio=\"none\" height=\"0.7409090909090909\" width=\"0.765\" x=\"0.15\" y=\"0.09090909090909091\"><rect class=\"1000\" width=\"0.1\" height=\"1.1\" x=\"-0.05\" y=\"-0.05\" style=\"cursor:ew-resize;\"></rect><rect class=\"0100\" width=\"1.1\" height=\"0.1\" x=\"-0.05\" y=\"-0.05\" style=\"cursor:ns-resize;\"></rect><rect class=\"0010\" width=\"0.1\" height=\"1.1\" x=\"0.95\" y=\"-0.05\" style=\"cursor:ew-resize;\"></rect><rect class=\"0001\" width=\"1.1\" height=\"0.1\" x=\"-0.05\" y=\"0.95\" style=\"cursor:ns-resize;\"></rect><rect class=\"1100\" width=\"0.1\" height=\"0.1\" x=\"-0.05\" y=\"-0.05\" style=\"cursor:nw-resize;\"></rect><rect class=\"0110\" width=\"0.1\" height=\"0.1\" x=\"0.95\" y=\"-0.05\" style=\"cursor:ne-resize;\"></rect><rect class=\"0011\" width=\"0.1\" height=\"0.1\" x=\"0.95\" y=\"0.95\" style=\"cursor:se-resize;\"></rect><rect class=\"1001\" width=\"0.1\" height=\"0.1\" x=\"-0.05\" y=\"0.95\" style=\"cursor:sw-resize;\"></rect></svg></g><g class=\"centerPoint\"><ellipse class=\"handle\" style=\"opacity:0;\" cx=\"0.7575000000000001\" cy=\"0.45\" rx=\"0.05\" ry=\"0.09090909090909091\"></ellipse><path class=\"cross\" d=\"M0, 0.45H1M0.7575000000000001, 0V1\"></path></g><svg class=\"feature\" preserveAspectRatio=\"none\" viewBox=\"0 0 2 2\" title=\"detail v:190.0 r:30.0\" x=\"0.66\" y=\"0.2727272727272727\" width=\"0.19499999999999995\" height=\"0.3545454545454546\"><text x=\"1\" y=\"-.1\" text-anchor=\"middle\" style=\"font-size:0.2564102564102565px;\">detail v:190.0 r:30.0</text><circle class=\"back\" r=\"1\" cx=\"1\" cy=\"1\"></circle><circle class=\"front\" r=\"1\" cx=\"1\" cy=\"1\"></circle><path class=\"cross\" d=\"M0,1h0.9m0.2,0h0.9M1,0v0.9m0,0.2v0.9\"></path></svg><svg class=\"feature\" preserveAspectRatio=\"none\" viewBox=\"0 0 2 2\" title=\"detail v:219.0 r:20.0\" x=\"0.785\" y=\"0.2\" width=\"0.13\" height=\"0.23636363636363633\"><text x=\"1\" y=\"-.1\" text-anchor=\"middle\" style=\"font-size:0.38461538461538464px;\">detail v:219.0 r:20.0</text><circle class=\"back\" r=\"1\" cx=\"1\" cy=\"1\"></circle><circle class=\"front\" r=\"1\" cx=\"1\" cy=\"1\"></circle><path class=\"cross\" d=\"M0,1h0.9m0.2,0h0.9M1,0v0.9m0,0.2v0.9\"></path></svg><svg class=\"feature\" preserveAspectRatio=\"none\" viewBox=\"0 0 2 2\" title=\"detail v:171.0 r:30.0\" x=\"0.15\" y=\"0.4772727272727273\" width=\"0.19499999999999998\" height=\"0.3545454545454545\"><text x=\"1\" y=\"-.1\" text-anchor=\"middle\" style=\"font-size:0.25641025641025644px;\">detail v:171.0 r:30.0</text><circle class=\"back\" r=\"1\" cx=\"1\" cy=\"1\"></circle><circle class=\"front\" r=\"1\" cx=\"1\" cy=\"1\"></circle><path class=\"cross\" d=\"M0,1h0.9m0.2,0h0.9M1,0v0.9m0,0.2v0.9\"></path></svg><svg class=\"feature\" preserveAspectRatio=\"none\" viewBox=\"0 0 2 2\" title=\"detail v:205.0 r:20.0\" x=\"0.665\" y=\"0.09090909090909091\" width=\"0.13\" height=\"0.23636363636363636\"><text x=\"1\" y=\"-.1\" text-anchor=\"middle\" style=\"font-size:0.38461538461538464px;\">detail v:205.0 r:20.0</text><circle class=\"back\" r=\"1\" cx=\"1\" cy=\"1\"></circle><circle class=\"front\" r=\"1\" cx=\"1\" cy=\"1\"></circle><path class=\"cross\" d=\"M0,1h0.9m0.2,0h0.9M1,0v0.9m0,0.2v0.9\"></path></svg><svg class=\"feature\" preserveAspectRatio=\"none\" viewBox=\"0 0 2 2\" title=\"detail v:203.0 r:20.0\" x=\"0.29\" y=\"0.11818181818181818\" width=\"0.13\" height=\"0.2363636363636364\"><text x=\"1\" y=\"-.1\" text-anchor=\"middle\" style=\"font-size:0.38461538461538464px;\">detail v:203.0 r:20.0</text><circle class=\"back\" r=\"1\" cx=\"1\" cy=\"1\"></circle><circle class=\"front\" r=\"1\" cx=\"1\" cy=\"1\"></circle><path class=\"cross\" d=\"M0,1h0.9m0.2,0h0.9M1,0v0.9m0,0.2v0.9\"></path></svg><svg class=\"feature\" preserveAspectRatio=\"none\" viewBox=\"0 0 2 2\" title=\"detail v:99.0 r:45.0\" x=\"0.6075\" y=\"0.20454545454545456\" width=\"0.2925\" height=\"0.5318181818181817\"><text x=\"1\" y=\"-.1\" text-anchor=\"middle\" style=\"font-size:0.17094017094017097px;\">detail v:99.0 r:45.0</text><circle class=\"back\" r=\"1\" cx=\"1\" cy=\"1\"></circle><circle class=\"front\" r=\"1\" cx=\"1\" cy=\"1\"></circle><path class=\"cross\" d=\"M0,1h0.9m0.2,0h0.9M1,0v0.9m0,0.2v0.9\"></path></svg><svg class=\"feature\" preserveAspectRatio=\"none\" viewBox=\"0 0 2 2\" title=\"detail v:98.0 r:45.0\" x=\"0.4275\" y=\"0.18409090909090908\" width=\"0.2925\" height=\"0.5318181818181819\"><text x=\"1\" y=\"-.1\" text-anchor=\"middle\" style=\"font-size:0.17094017094017097px;\">detail v:98.0 r:45.0</text><circle class=\"back\" r=\"1\" cx=\"1\" cy=\"1\"></circle><circle class=\"front\" r=\"1\" cx=\"1\" cy=\"1\"></circle><path class=\"cross\" d=\"M0,1h0.9m0.2,0h0.9M1,0v0.9m0,0.2v0.9\"></path></svg></svg></div><div class=\"infoBoxWrapper\"><div class=\"infoBox\"><div class=\"infoRow\"><div class=\"label\">left:</div><div class=\"value\">0.091</div></div><div class=\"infoRow\"><div class=\"label\">top:</div><div class=\"value\">0.150</div></div><div class=\"infoRow\"><div class=\"label\">right:</div><div class=\"value\">0.832</div></div><div class=\"infoRow\"><div class=\"label\">bottom:</div><div class=\"value\">0.915</div></div><div class=\"infoRow\"><div class=\"label\">x:</div><div class=\"value\">0.450</div></div><div class=\"infoRow\"><div class=\"label\">y:</div><div class=\"value\">0.758</div></div></div></div></div><div class=\"previewPanel\" style=\"flex-direction:row;\"><div class=\"previewWrapper infoParent\" style=\"flex:1;\"><svg class=\"previewImg\" style=\"background-image:url(12-NYH-nyhstudenter-03-SGS.jpg);background-position:81% 50%;background-repeat:no-repeat;background-size:182% auto;\" viewBox=\"0 0 1 1\"></svg><div class=\"infoBoxWrapper\"><div class=\"infoBox\"><div class=\"infoRow\"><div class=\"label\">position:</div><div class=\"value\">81% 50%</div></div><div class=\"infoRow\"><div class=\"label\">size:</div><div class=\"value\">182% auto</div></div><div class=\"infoRow\"><div class=\"label\">aspect ratio:</div><div class=\"value\">1</div></div></div></div></div><div class=\"previewWrapper infoParent\" style=\"flex:0.5;\"><svg class=\"previewImg\" style=\"background-image:url(12-NYH-nyhstudenter-03-SGS.jpg);background-position:86% 50%;background-repeat:no-repeat;background-size:364% auto;\" viewBox=\"0 0 0.5 1\"></svg><div class=\"infoBoxWrapper\"><div class=\"infoBox\"><div class=\"infoRow\"><div class=\"label\">position:</div><div class=\"value\">86% 50%</div></div><div class=\"infoRow\"><div class=\"label\">size:</div><div class=\"value\">364% auto</div></div><div class=\"infoRow\"><div class=\"label\">aspect ratio:</div><div class=\"value\">0.5</div></div></div></div></div><div class=\"previewWrapper infoParent\" style=\"flex:2.5;\"><svg class=\"previewImg\" style=\"background-image:url(12-NYH-nyhstudenter-03-SGS.jpg);background-position:50% 33%;background-repeat:no-repeat;background-size:100% auto;\" viewBox=\"0 0 2.5 1\"></svg><div class=\"infoBoxWrapper\"><div class=\"infoBox\"><div class=\"infoRow\"><div class=\"label\">position:</div><div class=\"value\">50% 33%</div></div><div class=\"infoRow\"><div class=\"label\">size:</div><div class=\"value\">100% auto</div></div><div class=\"infoRow\"><div class=\"label\">aspect ratio:</div><div class=\"value\">2.5</div></div></div></div></div></div></div>\n"
      ],
      "text/plain": [
       "<IPython.core.display.HTML object>"
      ]
     },
     "execution_count": 214,
     "metadata": {},
     "output_type": "execute_result"
    }
   ],
   "source": [
    "def croppify(image_file):\n",
    "    resize = 1000, 1000\n",
    "    crop_engine = HybridEngine()\n",
    "    image = Image.open(image_file).convert('RGB')\n",
    "    image.thumbnail(resize)\n",
    "    features = crop_engine.find_features(image_file)\n",
    "    crop = features_to_reactcrop(features)\n",
    "    return bundle(\n",
    "        src=image_file,\n",
    "        crop=crop,\n",
    "        features=[serialize_feature(f) for f in features],\n",
    "    )\n",
    "\n",
    "def serialize_feature(feature):\n",
    "    x, y = feature.center\n",
    "    try:\n",
    "        title = feature.title\n",
    "    except AttributeError:\n",
    "        title = 'no title'\n",
    "    return {\n",
    "        'x': feature.left,\n",
    "        'y': feature.top,\n",
    "        'width': feature.width,\n",
    "        'height': feature.height,\n",
    "        'size': feature.size,\n",
    "        'title': title,\n",
    "    }\n",
    "\n",
    "def features_to_reactcrop(features):\n",
    "    bounding_box = sum(features)\n",
    "    x, y = features[0].center\n",
    "    return {\n",
    "        'h': [bounding_box.left, x, bounding_box.right],\n",
    "        'v': [bounding_box.top, y, bounding_box.bottom],\n",
    "    }\n",
    "\n",
    "HTML(css() + croppify('12-NYH-nyhstudenter-03-SGS.jpg') )"
   ]
  },
  {
   "cell_type": "code",
   "execution_count": 202,
   "metadata": {
    "collapsed": false
   },
   "outputs": [
    {
     "data": {
      "text/html": [
       "<div class=\"cropboxWrapper\" style=\"flex-direction:column;display:flex;\"><div class=\"masterImgWrapper infoParent\"><img class=\"masterImg\" src=\"kids_in_the_hall.jpg\"/><div class=\"overlayWrapper\"><svg class=\"overlay inactive\" viewBox=\"0 0 1 1\" preserveAspectRatio=\"none\" height=\"100%\" width=\"100%\"><path class=\"outside\" d=\"M0, 0H1V1H0ZM0.17162500000000003, 0.24648760330578512V0.7245867768595041H0.6825V0.24648760330578512Z\"></path><g class=\"inside\"><path class=\"box\" d=\"M0.17162500000000003, 0.24648760330578512V0.7245867768595041H0.6825V0.24648760330578512Z\"></path><svg class=\"handles\" viewBox=\"0 0 1 1\" preserveAspectRatio=\"none\" height=\"0.478099173553719\" width=\"0.510875\" x=\"0.17162500000000003\" y=\"0.24648760330578512\"><rect class=\"1000\" width=\"0.1\" height=\"1.1\" x=\"-0.05\" y=\"-0.05\" style=\"cursor:ew-resize;\"></rect><rect class=\"0100\" width=\"1.1\" height=\"0.1\" x=\"-0.05\" y=\"-0.05\" style=\"cursor:ns-resize;\"></rect><rect class=\"0010\" width=\"0.1\" height=\"1.1\" x=\"0.95\" y=\"-0.05\" style=\"cursor:ew-resize;\"></rect><rect class=\"0001\" width=\"1.1\" height=\"0.1\" x=\"-0.05\" y=\"0.95\" style=\"cursor:ns-resize;\"></rect><rect class=\"1100\" width=\"0.1\" height=\"0.1\" x=\"-0.05\" y=\"-0.05\" style=\"cursor:nw-resize;\"></rect><rect class=\"0110\" width=\"0.1\" height=\"0.1\" x=\"0.95\" y=\"-0.05\" style=\"cursor:ne-resize;\"></rect><rect class=\"0011\" width=\"0.1\" height=\"0.1\" x=\"0.95\" y=\"0.95\" style=\"cursor:se-resize;\"></rect><rect class=\"1001\" width=\"0.1\" height=\"0.1\" x=\"-0.05\" y=\"0.95\" style=\"cursor:sw-resize;\"></rect></svg></g><g class=\"centerPoint\"><ellipse class=\"handle\" style=\"opacity:0;\" cx=\"0.31625000000000003\" cy=\"0.4855371900826446\" rx=\"0.05\" ry=\"0.082569558101473\"></ellipse><path class=\"cross\" d=\"M0, 0.4855371900826446H1M0.31625000000000003, 0V1\"></path></g><svg class=\"feature\" preserveAspectRatio=\"none\" viewBox=\"0 0 2 2\" title=\"frontalface_default\" x=\"0.17162500000000003\" y=\"0.24648760330578512\" width=\"0.28924999999999995\" height=\"0.478099173553719\"><text x=\"1\" y=\"-.1\" text-anchor=\"middle\" style=\"font-size:0.17286084701815044px;\">frontalface_default</text><circle class=\"back\" r=\"1\" cx=\"1\" cy=\"1\"></circle><circle class=\"front\" r=\"1\" cx=\"1\" cy=\"1\"></circle><path class=\"cross\" d=\"M0,1h0.9m0.2,0h0.9M1,0v0.9m0,0.2v0.9\"></path></svg><svg class=\"feature\" preserveAspectRatio=\"none\" viewBox=\"0 0 2 2\" title=\"detail v:132.0 r:30.0\" x=\"0.37875\" y=\"0.5516528925619835\" width=\"0.09750000000000003\" height=\"0.16115702479338845\"><text x=\"1\" y=\"-.1\" text-anchor=\"middle\" style=\"font-size:0.5128205128205127px;\">detail v:132.0 r:30.0</text><circle class=\"back\" r=\"1\" cx=\"1\" cy=\"1\"></circle><circle class=\"front\" r=\"1\" cx=\"1\" cy=\"1\"></circle><path class=\"cross\" d=\"M0,1h0.9m0.2,0h0.9M1,0v0.9m0,0.2v0.9\"></path></svg><svg class=\"feature\" preserveAspectRatio=\"none\" viewBox=\"0 0 2 2\" title=\"detail v:100.0 r:45.0\" x=\"0.489375\" y=\"0.3440082644628099\" width=\"0.14625\" height=\"0.24173553719008262\"><text x=\"1\" y=\"-.1\" text-anchor=\"middle\" style=\"font-size:0.34188034188034194px;\">detail v:100.0 r:45.0</text><circle class=\"back\" r=\"1\" cx=\"1\" cy=\"1\"></circle><circle class=\"front\" r=\"1\" cx=\"1\" cy=\"1\"></circle><path class=\"cross\" d=\"M0,1h0.9m0.2,0h0.9M1,0v0.9m0,0.2v0.9\"></path></svg><svg class=\"feature\" preserveAspectRatio=\"none\" viewBox=\"0 0 2 2\" title=\"detail v:141.0 r:20.0\" x=\"0.6175\" y=\"0.45041322314049587\" width=\"0.06499999999999995\" height=\"0.10743801652892565\"><text x=\"1\" y=\"-.1\" text-anchor=\"middle\" style=\"font-size:0.7692307692307699px;\">detail v:141.0 r:20.0</text><circle class=\"back\" r=\"1\" cx=\"1\" cy=\"1\"></circle><circle class=\"front\" r=\"1\" cx=\"1\" cy=\"1\"></circle><path class=\"cross\" d=\"M0,1h0.9m0.2,0h0.9M1,0v0.9m0,0.2v0.9\"></path></svg><svg class=\"feature\" preserveAspectRatio=\"none\" viewBox=\"0 0 2 2\" title=\"detail v:135.0 r:20.0\" x=\"0.4625\" y=\"0.40082644628099173\" width=\"0.06499999999999995\" height=\"0.1074380165289256\"><text x=\"1\" y=\"-.1\" text-anchor=\"middle\" style=\"font-size:0.7692307692307699px;\">detail v:135.0 r:20.0</text><circle class=\"back\" r=\"1\" cx=\"1\" cy=\"1\"></circle><circle class=\"front\" r=\"1\" cx=\"1\" cy=\"1\"></circle><path class=\"cross\" d=\"M0,1h0.9m0.2,0h0.9M1,0v0.9m0,0.2v0.9\"></path></svg><svg class=\"feature\" preserveAspectRatio=\"none\" viewBox=\"0 0 2 2\" title=\"detail v:135.0 r:20.0\" x=\"0.3925\" y=\"0.5743801652892562\" width=\"0.065\" height=\"0.1074380165289256\"><text x=\"1\" y=\"-.1\" text-anchor=\"middle\" style=\"font-size:0.7692307692307693px;\">detail v:135.0 r:20.0</text><circle class=\"back\" r=\"1\" cx=\"1\" cy=\"1\"></circle><circle class=\"front\" r=\"1\" cx=\"1\" cy=\"1\"></circle><path class=\"cross\" d=\"M0,1h0.9m0.2,0h0.9M1,0v0.9m0,0.2v0.9\"></path></svg></svg></div><div class=\"infoBoxWrapper\"><div class=\"infoBox\"><div class=\"infoRow\"><div class=\"label\">left:</div><div class=\"value\">0.246</div></div><div class=\"infoRow\"><div class=\"label\">top:</div><div class=\"value\">0.172</div></div><div class=\"infoRow\"><div class=\"label\">right:</div><div class=\"value\">0.725</div></div><div class=\"infoRow\"><div class=\"label\">bottom:</div><div class=\"value\">0.682</div></div><div class=\"infoRow\"><div class=\"label\">x:</div><div class=\"value\">0.486</div></div><div class=\"infoRow\"><div class=\"label\">y:</div><div class=\"value\">0.316</div></div></div></div></div><div class=\"previewPanel\" style=\"flex-direction:row;\"><div class=\"previewWrapper infoParent\" style=\"flex:1;\"><svg class=\"previewImg\" style=\"background-image:url(kids_in_the_hall.jpg);background-position:35% 41%;background-repeat:no-repeat;background-size:196% auto;\" viewBox=\"0 0 1 1\"></svg><div class=\"infoBoxWrapper\"><div class=\"infoBox\"><div class=\"infoRow\"><div class=\"label\">position:</div><div class=\"value\">35% 41%</div></div><div class=\"infoRow\"><div class=\"label\">size:</div><div class=\"value\">196% auto</div></div><div class=\"infoRow\"><div class=\"label\">aspect ratio:</div><div class=\"value\">1</div></div></div></div></div><div class=\"previewWrapper infoParent\" style=\"flex:0.5;\"><svg class=\"previewImg\" style=\"background-image:url(kids_in_the_hall.jpg);background-position:25% 50%;background-repeat:no-repeat;background-size:330% auto;\" viewBox=\"0 0 0.5 1\"></svg><div class=\"infoBoxWrapper\"><div class=\"infoBox\"><div class=\"infoRow\"><div class=\"label\">position:</div><div class=\"value\">25% 50%</div></div><div class=\"infoRow\"><div class=\"label\">size:</div><div class=\"value\">330% auto</div></div><div class=\"infoRow\"><div class=\"label\">aspect ratio:</div><div class=\"value\">0.5</div></div></div></div></div><div class=\"previewWrapper infoParent\" style=\"flex:2.5;\"><svg class=\"previewImg\" style=\"background-image:url(kids_in_the_hall.jpg);background-position:24% 47%;background-repeat:no-repeat;background-size:138% auto;\" viewBox=\"0 0 2.5 1\"></svg><div class=\"infoBoxWrapper\"><div class=\"infoBox\"><div class=\"infoRow\"><div class=\"label\">position:</div><div class=\"value\">24% 47%</div></div><div class=\"infoRow\"><div class=\"label\">size:</div><div class=\"value\">138% auto</div></div><div class=\"infoRow\"><div class=\"label\">aspect ratio:</div><div class=\"value\">2.5</div></div></div></div></div></div></div>\n"
      ],
      "text/plain": [
       "<IPython.core.display.HTML object>"
      ]
     },
     "execution_count": 202,
     "metadata": {},
     "output_type": "execute_result"
    }
   ],
   "source": [
    "HTML( croppify('kids_in_the_hall.jpg'))"
   ]
  },
  {
   "cell_type": "code",
   "execution_count": 203,
   "metadata": {
    "collapsed": false
   },
   "outputs": [
    {
     "data": {
      "text/html": [
       "<div class=\"cropboxWrapper\" style=\"flex-direction:column;display:flex;\"><div class=\"masterImgWrapper infoParent\"><img class=\"masterImg\" src=\"11-NYH-nyhklarefors-06-SGS.jpg\"/><div class=\"overlayWrapper\"><svg class=\"overlay inactive\" viewBox=\"0 0 1 1\" preserveAspectRatio=\"none\" height=\"100%\" width=\"100%\"><path class=\"outside\" d=\"M0, 0H1V1H0ZM0.075, 0.11842105263157894V0.7781954887218046H0.73125V0.11842105263157894Z\"></path><g class=\"inside\"><path class=\"box\" d=\"M0.075, 0.11842105263157894V0.7781954887218046H0.73125V0.11842105263157894Z\"></path><svg class=\"handles\" viewBox=\"0 0 1 1\" preserveAspectRatio=\"none\" height=\"0.6597744360902256\" width=\"0.65625\" x=\"0.075\" y=\"0.11842105263157894\"><rect class=\"1000\" width=\"0.1\" height=\"1.1\" x=\"-0.05\" y=\"-0.05\" style=\"cursor:ew-resize;\"></rect><rect class=\"0100\" width=\"1.1\" height=\"0.1\" x=\"-0.05\" y=\"-0.05\" style=\"cursor:ns-resize;\"></rect><rect class=\"0010\" width=\"0.1\" height=\"1.1\" x=\"0.95\" y=\"-0.05\" style=\"cursor:ew-resize;\"></rect><rect class=\"0001\" width=\"1.1\" height=\"0.1\" x=\"-0.05\" y=\"0.95\" style=\"cursor:ns-resize;\"></rect><rect class=\"1100\" width=\"0.1\" height=\"0.1\" x=\"-0.05\" y=\"-0.05\" style=\"cursor:nw-resize;\"></rect><rect class=\"0110\" width=\"0.1\" height=\"0.1\" x=\"0.95\" y=\"-0.05\" style=\"cursor:ne-resize;\"></rect><rect class=\"0011\" width=\"0.1\" height=\"0.1\" x=\"0.95\" y=\"0.95\" style=\"cursor:se-resize;\"></rect><rect class=\"1001\" width=\"0.1\" height=\"0.1\" x=\"-0.05\" y=\"0.95\" style=\"cursor:sw-resize;\"></rect></svg></g><g class=\"centerPoint\"><ellipse class=\"handle\" style=\"opacity:0;\" cx=\"0.585\" cy=\"0.3721804511278195\" rx=\"0.05\" ry=\"0.075\"></ellipse><path class=\"cross\" d=\"M0, 0.3721804511278195H1M0.585, 0V1\"></path></g><svg class=\"feature\" preserveAspectRatio=\"none\" viewBox=\"0 0 2 2\" title=\"detail v:179.0 r:45.0\" x=\"0.43875\" y=\"0.15225563909774437\" width=\"0.2925\" height=\"0.4398496240601503\"><text x=\"1\" y=\"-.1\" text-anchor=\"middle\" style=\"font-size:0.17094017094017097px;\">detail v:179.0 r:45.0</text><circle class=\"back\" r=\"1\" cx=\"1\" cy=\"1\"></circle><circle class=\"front\" r=\"1\" cx=\"1\" cy=\"1\"></circle><path class=\"cross\" d=\"M0,1h0.9m0.2,0h0.9M1,0v0.9m0,0.2v0.9\"></path></svg><svg class=\"feature\" preserveAspectRatio=\"none\" viewBox=\"0 0 2 2\" title=\"detail v:198.0 r:30.0\" x=\"0.075\" y=\"0.4849624060150376\" width=\"0.195\" height=\"0.29323308270676696\"><text x=\"1\" y=\"-.1\" text-anchor=\"middle\" style=\"font-size:0.25641025641025644px;\">detail v:198.0 r:30.0</text><circle class=\"back\" r=\"1\" cx=\"1\" cy=\"1\"></circle><circle class=\"front\" r=\"1\" cx=\"1\" cy=\"1\"></circle><path class=\"cross\" d=\"M0,1h0.9m0.2,0h0.9M1,0v0.9m0,0.2v0.9\"></path></svg><svg class=\"feature\" preserveAspectRatio=\"none\" viewBox=\"0 0 2 2\" title=\"detail v:156.0 r:45.0\" x=\"0.34875\" y=\"0.11842105263157894\" width=\"0.2925\" height=\"0.43984962406015043\"><text x=\"1\" y=\"-.1\" text-anchor=\"middle\" style=\"font-size:0.17094017094017097px;\">detail v:156.0 r:45.0</text><circle class=\"back\" r=\"1\" cx=\"1\" cy=\"1\"></circle><circle class=\"front\" r=\"1\" cx=\"1\" cy=\"1\"></circle><path class=\"cross\" d=\"M0,1h0.9m0.2,0h0.9M1,0v0.9m0,0.2v0.9\"></path></svg><svg class=\"feature\" preserveAspectRatio=\"none\" viewBox=\"0 0 2 2\" title=\"detail v:185.0 r:30.0\" x=\"0.4875\" y=\"0.21428571428571427\" width=\"0.195\" height=\"0.29323308270676696\"><text x=\"1\" y=\"-.1\" text-anchor=\"middle\" style=\"font-size:0.25641025641025644px;\">detail v:185.0 r:30.0</text><circle class=\"back\" r=\"1\" cx=\"1\" cy=\"1\"></circle><circle class=\"front\" r=\"1\" cx=\"1\" cy=\"1\"></circle><path class=\"cross\" d=\"M0,1h0.9m0.2,0h0.9M1,0v0.9m0,0.2v0.9\"></path></svg><svg class=\"feature\" preserveAspectRatio=\"none\" viewBox=\"0 0 2 2\" title=\"detail v:208.0 r:20.0\" x=\"0.11\" y=\"0.5263157894736842\" width=\"0.13\" height=\"0.19548872180451127\"><text x=\"1\" y=\"-.1\" text-anchor=\"middle\" style=\"font-size:0.38461538461538464px;\">detail v:208.0 r:20.0</text><circle class=\"back\" r=\"1\" cx=\"1\" cy=\"1\"></circle><circle class=\"front\" r=\"1\" cx=\"1\" cy=\"1\"></circle><path class=\"cross\" d=\"M0,1h0.9m0.2,0h0.9M1,0v0.9m0,0.2v0.9\"></path></svg><svg class=\"feature\" preserveAspectRatio=\"none\" viewBox=\"0 0 2 2\" title=\"detail v:199.0 r:20.0\" x=\"0.25\" y=\"0.42857142857142855\" width=\"0.13\" height=\"0.19548872180451132\"><text x=\"1\" y=\"-.1\" text-anchor=\"middle\" style=\"font-size:0.38461538461538464px;\">detail v:199.0 r:20.0</text><circle class=\"back\" r=\"1\" cx=\"1\" cy=\"1\"></circle><circle class=\"front\" r=\"1\" cx=\"1\" cy=\"1\"></circle><path class=\"cross\" d=\"M0,1h0.9m0.2,0h0.9M1,0v0.9m0,0.2v0.9\"></path></svg><svg class=\"feature\" preserveAspectRatio=\"none\" viewBox=\"0 0 2 2\" title=\"detail v:196.0 r:20.0\" x=\"0.265\" y=\"0.39849624060150374\" width=\"0.13\" height=\"0.19548872180451132\"><text x=\"1\" y=\"-.1\" text-anchor=\"middle\" style=\"font-size:0.38461538461538464px;\">detail v:196.0 r:20.0</text><circle class=\"back\" r=\"1\" cx=\"1\" cy=\"1\"></circle><circle class=\"front\" r=\"1\" cx=\"1\" cy=\"1\"></circle><path class=\"cross\" d=\"M0,1h0.9m0.2,0h0.9M1,0v0.9m0,0.2v0.9\"></path></svg></svg></div><div class=\"infoBoxWrapper\"><div class=\"infoBox\"><div class=\"infoRow\"><div class=\"label\">left:</div><div class=\"value\">0.118</div></div><div class=\"infoRow\"><div class=\"label\">top:</div><div class=\"value\">0.075</div></div><div class=\"infoRow\"><div class=\"label\">right:</div><div class=\"value\">0.778</div></div><div class=\"infoRow\"><div class=\"label\">bottom:</div><div class=\"value\">0.731</div></div><div class=\"infoRow\"><div class=\"label\">x:</div><div class=\"value\">0.372</div></div><div class=\"infoRow\"><div class=\"label\">y:</div><div class=\"value\">0.585</div></div></div></div></div><div class=\"previewPanel\" style=\"flex-direction:row;\"><div class=\"previewWrapper infoParent\" style=\"flex:1;\"><svg class=\"previewImg\" style=\"background-image:url(11-NYH-nyhklarefors-06-SGS.jpg);background-position:22% 0%;background-repeat:no-repeat;background-size:152% auto;\" viewBox=\"0 0 1 1\"></svg><div class=\"infoBoxWrapper\"><div class=\"infoBox\"><div class=\"infoRow\"><div class=\"label\">position:</div><div class=\"value\">22% 0%</div></div><div class=\"infoRow\"><div class=\"label\">size:</div><div class=\"value\">152% auto</div></div><div class=\"infoRow\"><div class=\"label\">aspect ratio:</div><div class=\"value\">1</div></div></div></div></div><div class=\"previewWrapper infoParent\" style=\"flex:0.5;\"><svg class=\"previewImg\" style=\"background-image:url(11-NYH-nyhklarefors-06-SGS.jpg);background-position:60% 50%;background-repeat:no-repeat;background-size:300% auto;\" viewBox=\"0 0 0.5 1\"></svg><div class=\"infoBoxWrapper\"><div class=\"infoBox\"><div class=\"infoRow\"><div class=\"label\">position:</div><div class=\"value\">60% 50%</div></div><div class=\"infoRow\"><div class=\"label\">size:</div><div class=\"value\">300% auto</div></div><div class=\"infoRow\"><div class=\"label\">aspect ratio:</div><div class=\"value\">0.5</div></div></div></div></div><div class=\"previewWrapper infoParent\" style=\"flex:2.5;\"><svg class=\"previewImg\" style=\"background-image:url(11-NYH-nyhklarefors-06-SGS.jpg);background-position:50% 30%;background-repeat:no-repeat;background-size:100% auto;\" viewBox=\"0 0 2.5 1\"></svg><div class=\"infoBoxWrapper\"><div class=\"infoBox\"><div class=\"infoRow\"><div class=\"label\">position:</div><div class=\"value\">50% 30%</div></div><div class=\"infoRow\"><div class=\"label\">size:</div><div class=\"value\">100% auto</div></div><div class=\"infoRow\"><div class=\"label\">aspect ratio:</div><div class=\"value\">2.5</div></div></div></div></div></div></div>\n"
      ],
      "text/plain": [
       "<IPython.core.display.HTML object>"
      ]
     },
     "execution_count": 203,
     "metadata": {},
     "output_type": "execute_result"
    }
   ],
   "source": [
    "HTML( croppify('11-NYH-nyhklarefors-06-SGS.jpg'))"
   ]
  },
  {
   "cell_type": "code",
   "execution_count": 204,
   "metadata": {
    "collapsed": false,
    "scrolled": false
   },
   "outputs": [
    {
     "data": {
      "text/html": [
       "<div class=\"cropboxWrapper\" style=\"flex-direction:column;display:flex;\"><div class=\"masterImgWrapper infoParent\"><img class=\"masterImg\" src=\"11-NYH-nyhklarefors-01-SGS.jpg\"/><div class=\"overlayWrapper\"><svg class=\"overlay inactive\" viewBox=\"0 0 1 1\" preserveAspectRatio=\"none\" height=\"100%\" width=\"100%\"><path class=\"outside\" d=\"M0, 0H1V1H0ZM0.15, 0.06766917293233082V0.6597744360902256H0.88875V0.06766917293233082Z\"></path><g class=\"inside\"><path class=\"box\" d=\"M0.15, 0.06766917293233082V0.6597744360902256H0.88875V0.06766917293233082Z\"></path><svg class=\"handles\" viewBox=\"0 0 1 1\" preserveAspectRatio=\"none\" height=\"0.5921052631578947\" width=\"0.73875\" x=\"0.15\" y=\"0.06766917293233082\"><rect class=\"1000\" width=\"0.1\" height=\"1.1\" x=\"-0.05\" y=\"-0.05\" style=\"cursor:ew-resize;\"></rect><rect class=\"0100\" width=\"1.1\" height=\"0.1\" x=\"-0.05\" y=\"-0.05\" style=\"cursor:ns-resize;\"></rect><rect class=\"0010\" width=\"0.1\" height=\"1.1\" x=\"0.95\" y=\"-0.05\" style=\"cursor:ew-resize;\"></rect><rect class=\"0001\" width=\"1.1\" height=\"0.1\" x=\"-0.05\" y=\"0.95\" style=\"cursor:ns-resize;\"></rect><rect class=\"1100\" width=\"0.1\" height=\"0.1\" x=\"-0.05\" y=\"-0.05\" style=\"cursor:nw-resize;\"></rect><rect class=\"0110\" width=\"0.1\" height=\"0.1\" x=\"0.95\" y=\"-0.05\" style=\"cursor:ne-resize;\"></rect><rect class=\"0011\" width=\"0.1\" height=\"0.1\" x=\"0.95\" y=\"0.95\" style=\"cursor:se-resize;\"></rect><rect class=\"1001\" width=\"0.1\" height=\"0.1\" x=\"-0.05\" y=\"0.95\" style=\"cursor:sw-resize;\"></rect></svg></g><g class=\"centerPoint\"><ellipse class=\"handle\" style=\"opacity:0;\" cx=\"0.78\" cy=\"0.2706766917293233\" rx=\"0.05\" ry=\"0.075\"></ellipse><path class=\"cross\" d=\"M0, 0.2706766917293233H1M0.78, 0V1\"></path></g><svg class=\"feature\" preserveAspectRatio=\"none\" viewBox=\"0 0 2 2\" title=\"detail v:182.0 r:30.0\" x=\"0.6825\" y=\"0.12406015037593984\" width=\"0.19499999999999995\" height=\"0.29323308270676696\"><text x=\"1\" y=\"-.1\" text-anchor=\"middle\" style=\"font-size:0.2564102564102565px;\">detail v:182.0 r:30.0</text><circle class=\"back\" r=\"1\" cx=\"1\" cy=\"1\"></circle><circle class=\"front\" r=\"1\" cx=\"1\" cy=\"1\"></circle><path class=\"cross\" d=\"M0,1h0.9m0.2,0h0.9M1,0v0.9m0,0.2v0.9\"></path></svg><svg class=\"feature\" preserveAspectRatio=\"none\" viewBox=\"0 0 2 2\" title=\"detail v:148.0 r:45.0\" x=\"0.59625\" y=\"0.2199248120300752\" width=\"0.2925000000000001\" height=\"0.4398496240601504\"><text x=\"1\" y=\"-.1\" text-anchor=\"middle\" style=\"font-size:0.1709401709401709px;\">detail v:148.0 r:45.0</text><circle class=\"back\" r=\"1\" cx=\"1\" cy=\"1\"></circle><circle class=\"front\" r=\"1\" cx=\"1\" cy=\"1\"></circle><path class=\"cross\" d=\"M0,1h0.9m0.2,0h0.9M1,0v0.9m0,0.2v0.9\"></path></svg><svg class=\"feature\" preserveAspectRatio=\"none\" viewBox=\"0 0 2 2\" title=\"detail v:176.0 r:30.0\" x=\"0.1725\" y=\"0.09022556390977443\" width=\"0.195\" height=\"0.2932330827067669\"><text x=\"1\" y=\"-.1\" text-anchor=\"middle\" style=\"font-size:0.25641025641025644px;\">detail v:176.0 r:30.0</text><circle class=\"back\" r=\"1\" cx=\"1\" cy=\"1\"></circle><circle class=\"front\" r=\"1\" cx=\"1\" cy=\"1\"></circle><path class=\"cross\" d=\"M0,1h0.9m0.2,0h0.9M1,0v0.9m0,0.2v0.9\"></path></svg><svg class=\"feature\" preserveAspectRatio=\"none\" viewBox=\"0 0 2 2\" title=\"detail v:139.0 r:45.0\" x=\"0.21375\" y=\"0.20300751879699247\" width=\"0.2925\" height=\"0.43984962406015043\"><text x=\"1\" y=\"-.1\" text-anchor=\"middle\" style=\"font-size:0.17094017094017097px;\">detail v:139.0 r:45.0</text><circle class=\"back\" r=\"1\" cx=\"1\" cy=\"1\"></circle><circle class=\"front\" r=\"1\" cx=\"1\" cy=\"1\"></circle><path class=\"cross\" d=\"M0,1h0.9m0.2,0h0.9M1,0v0.9m0,0.2v0.9\"></path></svg><svg class=\"feature\" preserveAspectRatio=\"none\" viewBox=\"0 0 2 2\" title=\"detail v:208.0 r:20.0\" x=\"0.16\" y=\"0.08270676691729323\" width=\"0.12999999999999998\" height=\"0.19548872180451127\"><text x=\"1\" y=\"-.1\" text-anchor=\"middle\" style=\"font-size:0.3846153846153847px;\">detail v:208.0 r:20.0</text><circle class=\"back\" r=\"1\" cx=\"1\" cy=\"1\"></circle><circle class=\"front\" r=\"1\" cx=\"1\" cy=\"1\"></circle><path class=\"cross\" d=\"M0,1h0.9m0.2,0h0.9M1,0v0.9m0,0.2v0.9\"></path></svg><svg class=\"feature\" preserveAspectRatio=\"none\" viewBox=\"0 0 2 2\" title=\"detail v:202.0 r:20.0\" x=\"0.15\" y=\"0.06766917293233082\" width=\"0.13000000000000003\" height=\"0.19548872180451127\"><text x=\"1\" y=\"-.1\" text-anchor=\"middle\" style=\"font-size:0.3846153846153845px;\">detail v:202.0 r:20.0</text><circle class=\"back\" r=\"1\" cx=\"1\" cy=\"1\"></circle><circle class=\"front\" r=\"1\" cx=\"1\" cy=\"1\"></circle><path class=\"cross\" d=\"M0,1h0.9m0.2,0h0.9M1,0v0.9m0,0.2v0.9\"></path></svg><svg class=\"feature\" preserveAspectRatio=\"none\" viewBox=\"0 0 2 2\" title=\"detail v:201.0 r:20.0\" x=\"0.48\" y=\"0.3609022556390977\" width=\"0.13\" height=\"0.19548872180451127\"><text x=\"1\" y=\"-.1\" text-anchor=\"middle\" style=\"font-size:0.38461538461538464px;\">detail v:201.0 r:20.0</text><circle class=\"back\" r=\"1\" cx=\"1\" cy=\"1\"></circle><circle class=\"front\" r=\"1\" cx=\"1\" cy=\"1\"></circle><path class=\"cross\" d=\"M0,1h0.9m0.2,0h0.9M1,0v0.9m0,0.2v0.9\"></path></svg></svg></div><div class=\"infoBoxWrapper\"><div class=\"infoBox\"><div class=\"infoRow\"><div class=\"label\">left:</div><div class=\"value\">0.068</div></div><div class=\"infoRow\"><div class=\"label\">top:</div><div class=\"value\">0.150</div></div><div class=\"infoRow\"><div class=\"label\">right:</div><div class=\"value\">0.660</div></div><div class=\"infoRow\"><div class=\"label\">bottom:</div><div class=\"value\">0.889</div></div><div class=\"infoRow\"><div class=\"label\">x:</div><div class=\"value\">0.271</div></div><div class=\"infoRow\"><div class=\"label\">y:</div><div class=\"value\">0.780</div></div></div></div></div><div class=\"previewPanel\" style=\"flex-direction:row;\"><div class=\"previewWrapper infoParent\" style=\"flex:1;\"><svg class=\"previewImg\" style=\"background-image:url(11-NYH-nyhklarefors-01-SGS.jpg);background-position:67% 50%;background-repeat:no-repeat;background-size:150% auto;\" viewBox=\"0 0 1 1\"></svg><div class=\"infoBoxWrapper\"><div class=\"infoBox\"><div class=\"infoRow\"><div class=\"label\">position:</div><div class=\"value\">67% 50%</div></div><div class=\"infoRow\"><div class=\"label\">size:</div><div class=\"value\">150% auto</div></div><div class=\"infoRow\"><div class=\"label\">aspect ratio:</div><div class=\"value\">1</div></div></div></div></div><div class=\"previewWrapper infoParent\" style=\"flex:0.5;\"><svg class=\"previewImg\" style=\"background-image:url(11-NYH-nyhklarefors-01-SGS.jpg);background-position:83% 50%;background-repeat:no-repeat;background-size:300% auto;\" viewBox=\"0 0 0.5 1\"></svg><div class=\"infoBoxWrapper\"><div class=\"infoBox\"><div class=\"infoRow\"><div class=\"label\">position:</div><div class=\"value\">83% 50%</div></div><div class=\"infoRow\"><div class=\"label\">size:</div><div class=\"value\">300% auto</div></div><div class=\"infoRow\"><div class=\"label\">aspect ratio:</div><div class=\"value\">0.5</div></div></div></div></div><div class=\"previewWrapper infoParent\" style=\"flex:2.5;\"><svg class=\"previewImg\" style=\"background-image:url(11-NYH-nyhklarefors-01-SGS.jpg);background-position:100% 17%;background-repeat:no-repeat;background-size:101% auto;\" viewBox=\"0 0 2.5 1\"></svg><div class=\"infoBoxWrapper\"><div class=\"infoBox\"><div class=\"infoRow\"><div class=\"label\">position:</div><div class=\"value\">100% 17%</div></div><div class=\"infoRow\"><div class=\"label\">size:</div><div class=\"value\">101% auto</div></div><div class=\"infoRow\"><div class=\"label\">aspect ratio:</div><div class=\"value\">2.5</div></div></div></div></div></div></div>\n"
      ],
      "text/plain": [
       "<IPython.core.display.HTML object>"
      ]
     },
     "execution_count": 204,
     "metadata": {},
     "output_type": "execute_result"
    }
   ],
   "source": [
    "HTML(croppify('11-NYH-nyhklarefors-01-SGS.jpg'))"
   ]
  },
  {
   "cell_type": "code",
   "execution_count": 205,
   "metadata": {
    "collapsed": false
   },
   "outputs": [
    {
     "data": {
      "text/html": [
       "<div class=\"cropboxWrapper\" style=\"flex-direction:column;display:flex;\"><div class=\"masterImgWrapper infoParent\"><img class=\"masterImg\" src=\"10-KUL-kulkantinesa-01-SGS.jpg\"/><div class=\"overlayWrapper\"><svg class=\"overlay inactive\" viewBox=\"0 0 1 1\" preserveAspectRatio=\"none\" height=\"100%\" width=\"100%\"><path class=\"outside\" d=\"M0, 0H1V1H0ZM0.1125, 0.13113636363636363V0.6852272727272727H0.826875V0.13113636363636363Z\"></path><g class=\"inside\"><path class=\"box\" d=\"M0.1125, 0.13113636363636363V0.6852272727272727H0.826875V0.13113636363636363Z\"></path><svg class=\"handles\" viewBox=\"0 0 1 1\" preserveAspectRatio=\"none\" height=\"0.5540909090909091\" width=\"0.714375\" x=\"0.1125\" y=\"0.13113636363636363\"><rect class=\"1000\" width=\"0.1\" height=\"1.1\" x=\"-0.05\" y=\"-0.05\" style=\"cursor:ew-resize;\"></rect><rect class=\"0100\" width=\"1.1\" height=\"0.1\" x=\"-0.05\" y=\"-0.05\" style=\"cursor:ns-resize;\"></rect><rect class=\"0010\" width=\"0.1\" height=\"1.1\" x=\"0.95\" y=\"-0.05\" style=\"cursor:ew-resize;\"></rect><rect class=\"0001\" width=\"1.1\" height=\"0.1\" x=\"-0.05\" y=\"0.95\" style=\"cursor:ns-resize;\"></rect><rect class=\"1100\" width=\"0.1\" height=\"0.1\" x=\"-0.05\" y=\"-0.05\" style=\"cursor:nw-resize;\"></rect><rect class=\"0110\" width=\"0.1\" height=\"0.1\" x=\"0.95\" y=\"-0.05\" style=\"cursor:ne-resize;\"></rect><rect class=\"0011\" width=\"0.1\" height=\"0.1\" x=\"0.95\" y=\"0.95\" style=\"cursor:se-resize;\"></rect><rect class=\"1001\" width=\"0.1\" height=\"0.1\" x=\"-0.05\" y=\"0.95\" style=\"cursor:sw-resize;\"></rect></svg></g><g class=\"centerPoint\"><ellipse class=\"handle\" style=\"opacity:0;\" cx=\"0.61375\" cy=\"0.25227272727272726\" rx=\"0.05\" ry=\"0.09090909090909091\"></ellipse><path class=\"cross\" d=\"M0, 0.25227272727272726H1M0.61375, 0V1\"></path></g><svg class=\"feature\" preserveAspectRatio=\"none\" viewBox=\"0 0 2 2\" title=\"profileface\" x=\"0.547125\" y=\"0.13113636363636363\" width=\"0.13324999999999998\" height=\"0.24227272727272728\"><text x=\"1\" y=\"-.1\" text-anchor=\"middle\" style=\"font-size:0.3752345215759851px;\">profileface</text><circle class=\"back\" r=\"1\" cx=\"1\" cy=\"1\"></circle><circle class=\"front\" r=\"1\" cx=\"1\" cy=\"1\"></circle><path class=\"cross\" d=\"M0,1h0.9m0.2,0h0.9M1,0v0.9m0,0.2v0.9\"></path></svg><svg class=\"feature\" preserveAspectRatio=\"none\" viewBox=\"0 0 2 2\" title=\"frontalface_default\" x=\"0.5451250000000001\" y=\"0.15477272727272726\" width=\"0.10724999999999985\" height=\"0.19500000000000003\"><text x=\"1\" y=\"-.1\" text-anchor=\"middle\" style=\"font-size:0.4662004662004669px;\">frontalface_default</text><circle class=\"back\" r=\"1\" cx=\"1\" cy=\"1\"></circle><circle class=\"front\" r=\"1\" cx=\"1\" cy=\"1\"></circle><path class=\"cross\" d=\"M0,1h0.9m0.2,0h0.9M1,0v0.9m0,0.2v0.9\"></path></svg><svg class=\"feature\" preserveAspectRatio=\"none\" viewBox=\"0 0 2 2\" title=\"detail v:226.0 r:20.0\" x=\"0.3575\" y=\"0.1590909090909091\" width=\"0.065\" height=\"0.1181818181818182\"><text x=\"1\" y=\"-.1\" text-anchor=\"middle\" style=\"font-size:0.7692307692307693px;\">detail v:226.0 r:20.0</text><circle class=\"back\" r=\"1\" cx=\"1\" cy=\"1\"></circle><circle class=\"front\" r=\"1\" cx=\"1\" cy=\"1\"></circle><path class=\"cross\" d=\"M0,1h0.9m0.2,0h0.9M1,0v0.9m0,0.2v0.9\"></path></svg><svg class=\"feature\" preserveAspectRatio=\"none\" viewBox=\"0 0 2 2\" title=\"detail v:225.0 r:20.0\" x=\"0.1125\" y=\"0.15\" width=\"0.06499999999999999\" height=\"0.1181818181818182\"><text x=\"1\" y=\"-.1\" text-anchor=\"middle\" style=\"font-size:0.7692307692307694px;\">detail v:225.0 r:20.0</text><circle class=\"back\" r=\"1\" cx=\"1\" cy=\"1\"></circle><circle class=\"front\" r=\"1\" cx=\"1\" cy=\"1\"></circle><path class=\"cross\" d=\"M0,1h0.9m0.2,0h0.9M1,0v0.9m0,0.2v0.9\"></path></svg><svg class=\"feature\" preserveAspectRatio=\"none\" viewBox=\"0 0 2 2\" title=\"detail v:173.0 r:30.0\" x=\"0.49875\" y=\"0.19772727272727272\" width=\"0.09749999999999992\" height=\"0.17727272727272728\"><text x=\"1\" y=\"-.1\" text-anchor=\"middle\" style=\"font-size:0.5128205128205132px;\">detail v:173.0 r:30.0</text><circle class=\"back\" r=\"1\" cx=\"1\" cy=\"1\"></circle><circle class=\"front\" r=\"1\" cx=\"1\" cy=\"1\"></circle><path class=\"cross\" d=\"M0,1h0.9m0.2,0h0.9M1,0v0.9m0,0.2v0.9\"></path></svg><svg class=\"feature\" preserveAspectRatio=\"none\" viewBox=\"0 0 2 2\" title=\"detail v:90.0 r:45.0\" x=\"0.680625\" y=\"0.4193181818181818\" width=\"0.14625\" height=\"0.2659090909090909\"><text x=\"1\" y=\"-.1\" text-anchor=\"middle\" style=\"font-size:0.34188034188034194px;\">detail v:90.0 r:45.0</text><circle class=\"back\" r=\"1\" cx=\"1\" cy=\"1\"></circle><circle class=\"front\" r=\"1\" cx=\"1\" cy=\"1\"></circle><path class=\"cross\" d=\"M0,1h0.9m0.2,0h0.9M1,0v0.9m0,0.2v0.9\"></path></svg></svg></div><div class=\"infoBoxWrapper\"><div class=\"infoBox\"><div class=\"infoRow\"><div class=\"label\">left:</div><div class=\"value\">0.131</div></div><div class=\"infoRow\"><div class=\"label\">top:</div><div class=\"value\">0.113</div></div><div class=\"infoRow\"><div class=\"label\">right:</div><div class=\"value\">0.685</div></div><div class=\"infoRow\"><div class=\"label\">bottom:</div><div class=\"value\">0.827</div></div><div class=\"infoRow\"><div class=\"label\">x:</div><div class=\"value\">0.252</div></div><div class=\"infoRow\"><div class=\"label\">y:</div><div class=\"value\">0.614</div></div></div></div></div><div class=\"previewPanel\" style=\"flex-direction:row;\"><div class=\"previewWrapper infoParent\" style=\"flex:1;\"><svg class=\"previewImg\" style=\"background-image:url(10-KUL-kulkantinesa-01-SGS.jpg);background-position:62% 50%;background-repeat:no-repeat;background-size:182% auto;\" viewBox=\"0 0 1 1\"></svg><div class=\"infoBoxWrapper\"><div class=\"infoBox\"><div class=\"infoRow\"><div class=\"label\">position:</div><div class=\"value\">62% 50%</div></div><div class=\"infoRow\"><div class=\"label\">size:</div><div class=\"value\">182% auto</div></div><div class=\"infoRow\"><div class=\"label\">aspect ratio:</div><div class=\"value\">1</div></div></div></div></div><div class=\"previewWrapper infoParent\" style=\"flex:0.5;\"><svg class=\"previewImg\" style=\"background-image:url(10-KUL-kulkantinesa-01-SGS.jpg);background-position:66% 50%;background-repeat:no-repeat;background-size:364% auto;\" viewBox=\"0 0 0.5 1\"></svg><div class=\"infoBoxWrapper\"><div class=\"infoBox\"><div class=\"infoRow\"><div class=\"label\">position:</div><div class=\"value\">66% 50%</div></div><div class=\"infoRow\"><div class=\"label\">size:</div><div class=\"value\">364% auto</div></div><div class=\"infoRow\"><div class=\"label\">aspect ratio:</div><div class=\"value\">0.5</div></div></div></div></div><div class=\"previewWrapper infoParent\" style=\"flex:2.5;\"><svg class=\"previewImg\" style=\"background-image:url(10-KUL-kulkantinesa-01-SGS.jpg);background-position:37% 29%;background-repeat:no-repeat;background-size:131% auto;\" viewBox=\"0 0 2.5 1\"></svg><div class=\"infoBoxWrapper\"><div class=\"infoBox\"><div class=\"infoRow\"><div class=\"label\">position:</div><div class=\"value\">37% 29%</div></div><div class=\"infoRow\"><div class=\"label\">size:</div><div class=\"value\">131% auto</div></div><div class=\"infoRow\"><div class=\"label\">aspect ratio:</div><div class=\"value\">2.5</div></div></div></div></div></div></div>\n"
      ],
      "text/plain": [
       "<IPython.core.display.HTML object>"
      ]
     },
     "execution_count": 205,
     "metadata": {},
     "output_type": "execute_result"
    }
   ],
   "source": [
    "HTML(croppify('10-KUL-kulkantinesa-01-SGS.jpg'))"
   ]
  },
  {
   "cell_type": "code",
   "execution_count": null,
   "metadata": {
    "collapsed": true
   },
   "outputs": [],
   "source": []
  }
 ],
 "metadata": {
  "kernelspec": {
   "display_name": "Python 3",
   "language": "python",
   "name": "python3"
  },
  "language_info": {
   "codemirror_mode": {
    "name": "ipython",
    "version": 3
   },
   "file_extension": ".py",
   "mimetype": "text/x-python",
   "name": "python",
   "nbconvert_exporter": "python",
   "pygments_lexer": "ipython3",
   "version": "3.5.1+"
  }
 },
 "nbformat": 4,
 "nbformat_minor": 0
}
