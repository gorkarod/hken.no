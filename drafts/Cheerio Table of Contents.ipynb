{
 "cells": [
  {
   "cell_type": "code",
   "execution_count": 2,
   "metadata": {
    "collapsed": false
   },
   "outputs": [],
   "source": [
    "var cheerio = require('cheerio')\n",
    "%load_ext babel"
   ]
  },
  {
   "cell_type": "code",
   "execution_count": 86,
   "metadata": {
    "collapsed": false
   },
   "outputs": [],
   "source": [
    "%%babel\n",
    "const code = `<h2>How it works</h2>\n",
    "<p>A very simple cropping algorithm would be simply to crop evenly from both sides\n",
    "either horizontally or vertically until we get the final output shape. We can\n",
    "improve this by providing a single point of interest (POI), and crop the image\n",
    "using this as a center point if possible.</p>\n",
    "<h1>Hello</h1>\n",
    "<h2>Hello</h2>\n",
    "<p>The disadvantage of this is that we end up with a very wide crop. This looks\n",
    "good in a full screen or full page layout, but if the final image is smaller,\n",
    "it’s better to crop away empty space around the main motive.</p>\n",
    "<p>It turns out that we can get good results by combining the point of interest\n",
    "with a «crop box». Anything outside of the crop box should be cropped away\n",
    "if possible. But when the output format so wide or narrow that we also have to\n",
    "crop into the crop box itself, it’s done in a way that always keeps the POI\n",
    "inside the image frame.</p>\n",
    "<h3>Algorithm</h3>\n",
    "<p>The algorithm itself is just some simple arithmetic. Here’s the javascript\n",
    "implementation that I use for this demo. This function uses a coordinate system\n",
    "where the width and height is both 1. It therefore has to be wrapped in a\n",
    "function that converts the relative values to the actual width and height of the\n",
    "image and of the output format.</p>\n",
    "`\n",
    "console.log(code)"
   ]
  },
  {
   "cell_type": "code",
   "execution_count": 87,
   "metadata": {
    "collapsed": false
   },
   "outputs": [],
   "source": [
    "var $ = cheerio.load(code)"
   ]
  },
  {
   "cell_type": "code",
   "execution_count": 102,
   "metadata": {
    "collapsed": false
   },
   "outputs": [
    {
     "name": "stdout",
     "output_type": "stream",
     "text": [
      "{\"tag\":\"H2\",\"level\":2,\"text\":\"How it works\",\"id\":\"1-how-it-works\"}\n",
      "{\"tag\":\"H1\",\"level\":1,\"text\":\"Hello\",\"id\":\"2-hello\"}\n",
      "{\"tag\":\"H2\",\"level\":2,\"text\":\"Hello\",\"id\":\"3-hello\"}\n",
      "{\"tag\":\"H3\",\"level\":3,\"text\":\"Algorithm\",\"id\":\"4-algorithm\"}\n"
     ]
    }
   ],
   "source": [
    "%%babel\n",
    "const add_id = (i, el) => {\n",
    "    const element = $(el)\n",
    "    const text = element.text()\n",
    "    const index = toc.length + 1\n",
    "    const tag = $(element).prop('tagName')\n",
    "    const level = parseInt(tag[1])\n",
    "    const id = (index) + '-' + text.replace(/\\s+/g, '-').toLowerCase()\n",
    "    const dict = { tag: tag, level:level, text:text, id:id }\n",
    "    toc.push(dict)\n",
    "    element.attr('id', id)\n",
    "}\n",
    "const toc = []\n",
    "$(':header').each(add_id)\n",
    "dump = toc.map(i => JSON.stringify(i)).join('\\n')\n",
    "console.log(dump)"
   ]
  },
  {
   "cell_type": "code",
   "execution_count": 98,
   "metadata": {
    "collapsed": false
   },
   "outputs": [
    {
     "name": "stdout",
     "output_type": "stream",
     "text": [
      "<h2 id=\"1-how-it-works\">How it works</h2>\n",
      "<p>A very simple cropping algorithm would be simply to crop evenly from both sides\n",
      "either horizontally or vertically until we get the final output shape. We can\n",
      "improve this by providing a single point of interest (POI), and crop the image\n",
      "using this as a center point if possible.</p>\n",
      "<h1 id=\"2-hello\">Hello</h1>\n",
      "<h2 id=\"3-hello\">Hello</h2>\n",
      "<p>The disadvantage of this is that we end up with a very wide crop. This looks\n",
      "good in a full screen or full page layout, but if the final image is smaller,\n",
      "it&#x2019;s better to crop away empty space around the main motive.</p>\n",
      "<p>It turns out that we can get good results by combining the point of interest\n",
      "with a &#xAB;crop box&#xBB;. Anything outside of the crop box should be cropped away\n",
      "if possible. But when the output format so wide or narrow that we also have to\n",
      "crop into the crop box itself, it&#x2019;s done in a way that always keeps the POI\n",
      "inside the image frame.</p>\n",
      "<h3 id=\"4-algorithm\">Algorithm</h3>\n",
      "<p>The algorithm itself is just some simple arithmetic. Here&#x2019;s the javascript\n",
      "implementation that I use for this demo. This function uses a coordinate system\n",
      "where the width and height is both 1. It therefore has to be wrapped in a\n",
      "function that converts the relative values to the actual width and height of the\n",
      "image and of the output format.</p>\n",
      "\n"
     ]
    }
   ],
   "source": [
    "console.log($.html())"
   ]
  },
  {
   "cell_type": "code",
   "execution_count": null,
   "metadata": {
    "collapsed": true
   },
   "outputs": [],
   "source": []
  }
 ],
 "metadata": {
  "kernelspec": {
   "display_name": "NodeJS",
   "language": "javascript",
   "name": "nodejs"
  },
  "language_info": {
   "codemirror_mode": "javascript",
   "file_extension": "js",
   "mimetype": "text/javascript",
   "name": "nodejs",
   "pygments_lexer": "javascript",
   "version": "0.10"
  }
 },
 "nbformat": 4,
 "nbformat_minor": 0
}
