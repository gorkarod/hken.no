{
 "cells": [
  {
   "cell_type": "code",
   "execution_count": 1,
   "metadata": {
    "collapsed": false
   },
   "outputs": [],
   "source": [
    "import pathlib\n",
    "import jinja2\n",
    "from xml.dom import minidom\n",
    "from tqdm import tqdm\n",
    "from IPython.display import HTML\n",
    "import re\n",
    "import html\n"
   ]
  },
  {
   "cell_type": "code",
   "execution_count": 9,
   "metadata": {
    "collapsed": false
   },
   "outputs": [
    {
     "data": {
      "text/plain": [
       "'0.1 0 4 3.98'"
      ]
     },
     "execution_count": 9,
     "metadata": {},
     "output_type": "execute_result"
    }
   ],
   "source": [
    "def close_enough(match, limit = 0.01):\n",
    "    f = float(match.group())\n",
    "    i = round(f) \n",
    "    if abs(f - i) < limit:\n",
    "        return str(i)\n",
    "    else: \n",
    "        return str(f)\n",
    "    \n",
    "re.sub(r'\\d*\\.\\d+', close_enough, '0.1 0.001 3.999 3.98')"
   ]
  },
  {
   "cell_type": "code",
   "execution_count": 14,
   "metadata": {
    "collapsed": false,
    "scrolled": false
   },
   "outputs": [
    {
     "name": "stderr",
     "output_type": "stream",
     "text": [
      "\n",
      "\n",
      "  0%|          | 0/715 [00:00<?, ?it/s]\u001b[A\u001b[A\n",
      "\n",
      "  5%|▍         | 33/715 [00:00<00:02, 325.13it/s]\u001b[A\u001b[A\n",
      "\n",
      "  9%|▊         | 62/715 [00:00<00:02, 309.55it/s]\u001b[A\u001b[A\n",
      "\n",
      " 13%|█▎        | 91/715 [00:00<00:02, 303.26it/s]\u001b[A\u001b[A\n",
      "\n",
      " 17%|█▋        | 125/715 [00:00<00:01, 310.97it/s]\u001b[A\u001b[A\n",
      "\n",
      " 22%|██▏       | 158/715 [00:00<00:01, 310.84it/s]\u001b[A\u001b[A\n",
      "\n",
      " 26%|██▌       | 186/715 [00:00<00:01, 299.23it/s]\u001b[A\u001b[A\n",
      "\n",
      " 30%|██▉       | 213/715 [00:00<00:01, 273.05it/s]\u001b[A\u001b[A\n",
      "\n",
      " 33%|███▎      | 239/715 [00:00<00:01, 250.27it/s]\u001b[A\u001b[A\n",
      "\n",
      " 37%|███▋      | 264/715 [00:00<00:01, 247.18it/s]\u001b[A\u001b[A\n",
      "\n",
      " 40%|████      | 288/715 [00:01<00:01, 222.23it/s]\u001b[A\u001b[A\n",
      "\n",
      " 43%|████▎     | 311/715 [00:01<00:02, 194.76it/s]\u001b[A\u001b[A\n",
      "\n",
      " 46%|████▋     | 332/715 [00:01<00:02, 182.77it/s]\u001b[A\u001b[A\n",
      "\n",
      " 49%|████▉     | 351/715 [00:01<00:02, 157.72it/s]\u001b[A\u001b[A\n",
      "\n",
      " 51%|█████▏    | 368/715 [00:01<00:02, 158.39it/s]\u001b[A\u001b[A\n",
      "\n",
      " 54%|█████▍    | 385/715 [00:01<00:02, 151.79it/s]\u001b[A\u001b[A\n",
      "\n",
      " 56%|█████▌    | 401/715 [00:01<00:02, 149.73it/s]\u001b[A\u001b[A\n",
      "\n",
      " 58%|█████▊    | 417/715 [00:01<00:02, 146.64it/s]\u001b[A\u001b[A\n",
      "\n",
      " 61%|██████▏   | 439/715 [00:02<00:01, 161.90it/s]\u001b[A\u001b[A\n",
      "\n",
      " 64%|██████▍   | 459/715 [00:02<00:01, 167.57it/s]\u001b[A\u001b[A\n",
      "\n",
      " 67%|██████▋   | 477/715 [00:02<00:01, 164.47it/s]\u001b[A\u001b[A\n",
      "\n",
      " 69%|██████▉   | 494/715 [00:02<00:01, 159.48it/s]\u001b[A\u001b[A\n",
      "\n",
      " 72%|███████▏  | 512/715 [00:02<00:01, 164.01it/s]\u001b[A\u001b[A\n",
      "\n",
      " 74%|███████▍  | 529/715 [00:02<00:01, 159.79it/s]\u001b[A\u001b[A\n",
      "\n",
      " 76%|███████▋  | 546/715 [00:02<00:01, 157.89it/s]\u001b[A\u001b[A\n",
      "\n",
      " 79%|███████▊  | 562/715 [00:02<00:01, 151.42it/s]\u001b[A\u001b[A\n",
      "\n",
      " 81%|████████  | 578/715 [00:02<00:00, 153.48it/s]\u001b[A\u001b[A\n",
      "\n",
      " 83%|████████▎ | 594/715 [00:03<00:00, 151.11it/s]\u001b[A\u001b[A\n",
      "\n",
      " 85%|████████▌ | 610/715 [00:03<00:00, 142.95it/s]\u001b[A\u001b[A\n",
      "\n",
      " 87%|████████▋ | 625/715 [00:03<00:00, 144.62it/s]\u001b[A\u001b[A\n",
      "\n",
      " 90%|████████▉ | 640/715 [00:03<00:00, 134.93it/s]\u001b[A\u001b[A\n",
      "\n",
      " 91%|█████████▏| 654/715 [00:03<00:00, 129.34it/s]\u001b[A\u001b[A\n",
      "\n",
      " 93%|█████████▎| 668/715 [00:03<00:00, 125.36it/s]\u001b[A\u001b[A\n",
      "\n",
      " 95%|█████████▌| 681/715 [00:03<00:00, 111.11it/s]\u001b[A\u001b[A\n",
      "\n",
      " 97%|█████████▋| 693/715 [00:03<00:00, 106.65it/s]\u001b[A\u001b[A\n",
      "\n",
      " 99%|█████████▊| 706/715 [00:04<00:00, 111.80it/s]\u001b[A\u001b[A\n",
      "\n",
      "100%|██████████| 715/715 [00:04<00:00, 172.36it/s]\u001b[A\u001b[A"
     ]
    }
   ],
   "source": [
    "def clean_svg(path):\n",
    "    svg_keep = {'viewBox'}\n",
    "    dom = minidom.parse(str(path)).documentElement\n",
    "    clean_attrs(dom, None, {'viewBox'})\n",
    "    clean_children(dom)\n",
    "    flatten(dom)\n",
    "    return dom\n",
    "\n",
    "\n",
    "def flatten(element):\n",
    "    kill = []\n",
    "    for child in list(element.childNodes)[::-1]:\n",
    "        if child.nodeName == 'g':\n",
    "            flatten(child)\n",
    "            for subchild in list(child.childNodes):\n",
    "                clone = child.removeChild(subchild)\n",
    "                element.insertBefore(clone, child)\n",
    "            element.removeChild(child)\n",
    "            child.unlink()\n",
    "                \n",
    "\n",
    "def clean_children(element):\n",
    "    element_remove = {'stroke', 'style', 'stroke-linejoin', 'stroke-miterlimit', 'fill', 'stroke-width'}\n",
    "    for child in list(element.childNodes):\n",
    "        if child.nodeType != child.ELEMENT_NODE:\n",
    "            element.removeChild(child)\n",
    "        else:\n",
    "            clean_attrs(child, element_remove)\n",
    "            clean_children(child)\n",
    "        \n",
    "def clean_attrs(child, remove, keep=None):\n",
    "    for attr in list(child.attributes.keys()):\n",
    "        if remove and attr in remove:\n",
    "            child.attributes.removeNamedItem(attr)\n",
    "        elif keep and not attr in keep:\n",
    "            child.attributes.removeNamedItem(attr)\n",
    "        else:\n",
    "            attr = child.attributes.get(attr)\n",
    "            value = re.sub(r' +', ' ', attr.value.strip())\n",
    "            value = re.sub(r'\\d*\\.\\d+', close_enough, value)\n",
    "            attr.value = value\n",
    "        \n",
    "def pascal_case(name):\n",
    "    return re.sub(r'[_\\W]', '', name.title())\n",
    "\n",
    "TEMPLATE = \"\"\"\n",
    "import React from 'react'\n",
    "\n",
    "const {{ name }} = () => (\n",
    "  {{ xml|indent(2) }}\n",
    ")\n",
    "export default {{ name }}\n",
    "\"\"\"\n",
    "react_template = jinja2.Template(TEMPLATE.strip())\n",
    "\n",
    "    \n",
    "    \n",
    "def make_html_element(name, svg_node):\n",
    "    svg_node.attributes['id'] = name\n",
    "    svg_node.attributes['class'] = 'icon'\n",
    "    xml = svg_node.toprettyxml('  ')\n",
    "    name = pascal_case(name)\n",
    "    return '<span class=icon> {1}<div class=popup><h2>{0}</h2><pre><code>{2}</code></pre></div></span>'.format(\n",
    "        name, xml, html.escape(xml))\n",
    "\n",
    "def make_react_component(name, svg_node, writedir):\n",
    "    component_name = pascal_case(name)\n",
    "    svg_node.attributes['className'] = 'Icon'\n",
    "    svg_node.attributes['id'] = component_name\n",
    "    xml = svg_node.toprettyxml('  ').replace('/>', ' />')\n",
    "    result = react_template.render(name=component_name, xml=xml) \n",
    "    component_path = (writedir / component_name).with_suffix('.js')\n",
    "    component_path.write_text(result + '\\n')\n",
    "    \n",
    "def make_svg_file(name, svg_node, writedir):\n",
    "    svg_node.attributes['style'] = 'fill:none; stroke:black; stroke-width:2;'\n",
    "    xml_header = '<?xml version=\"1.0\" encoding=\"utf-8\"?>'\n",
    "    content = '\\n'.join([xml_header, svg_node.toprettyxml('  ')])\n",
    "    writeto = (writedir / name).with_suffix('.svg')\n",
    "    writeto.write_text(content)\n",
    "\n",
    "def clean_files(readdir, n=None):\n",
    "    files = sorted([fn for fn in readdir.iterdir() if fn.suffix == '.svg'])[:n]\n",
    "    return ((fn.stem, clean_svg(fn)) for fn in tqdm(files))\n",
    "\n",
    "def main(readdir, output_format, n=None):\n",
    "    svgs = clean_files(readdir, n)\n",
    "    \n",
    "    if output_format.upper() == 'SVG':\n",
    "        writedir = pathlib.Path('.') / 'icons2'\n",
    "        writedir.mkdir(exist_ok=True)\n",
    "        for name, svg_node in svgs:\n",
    "            make_svg_file(name, svg_node, writedir)\n",
    "\n",
    "    elif output_format.upper() == 'HTML':\n",
    "        styles = (\n",
    "            '<style>'\n",
    "            'svg { fill:none; stroke:black; stroke-width:2;width: 3em; }'\n",
    "            '.icon { position: relative }'\n",
    "            '.popup { '\n",
    "                'width: 30em; opacity: 0; background: white; z-index: 10000; '\n",
    "                'position: fixed; top: 10em; left: 1em; border: 2px solid; '\n",
    "                'background: white; padding: 10px; pointer-events: none;' \n",
    "            '}'\n",
    "            'code, pre { background: none; }'\n",
    "            '.icon:hover .popup { opacity: 0.8 }'\n",
    "            '</style>'\n",
    "        )\n",
    "        \n",
    "        html_header = styles\n",
    "        svg_nodes = [make_html_element(name, svg_node) for name, svg_node in svgs]\n",
    "        html = html_header + ''.join(svg_nodes)\n",
    "        return HTML(html)\n",
    "    \n",
    "    elif output_format.upper() == 'REACT':\n",
    "        writedir = pathlib.Path('.') / '..' / 'components' / 'icons' / 'lineicons'\n",
    "        #writedir = pathlib.Path('.') / 'components'\n",
    "        writedir.mkdir(exist_ok=True)\n",
    "        for name, svg_node in svgs:\n",
    "            make_react_component(name, svg_node, writedir)\n",
    "    \n",
    "    else: \n",
    "        output = '' \n",
    "        for name, svg_node in svgs:\n",
    "            output += '\\n'.join([name, svg_node.toprettyxml('  '), ''])\n",
    "        print(output)\n",
    "\n",
    "\n",
    "    \n",
    "    \n",
    "#readdir = pathlib.Path.home() / 'Desktop' / 'icons'\n",
    "readdir = pathlib.Path('./icons')\n",
    "main(readdir, 'svg')"
   ]
  },
  {
   "cell_type": "code",
   "execution_count": 4,
   "metadata": {
    "collapsed": false
   },
   "outputs": [
    {
     "name": "stderr",
     "output_type": "stream",
     "text": [
      "ERROR: No traceback has been produced, nothing to debug.\n"
     ]
    }
   ],
   "source": [
    "%debug"
   ]
  },
  {
   "cell_type": "markdown",
   "metadata": {},
   "source": [
    "# import html\n",
    "s ='<code></code>'\n",
    "#c = s.encode('ascii', 'xmlcharrefreplace')\n",
    "html.escape(s)\n"
   ]
  },
  {
   "cell_type": "code",
   "execution_count": 5,
   "metadata": {
    "collapsed": false
   },
   "outputs": [
    {
     "ename": "NameError",
     "evalue": "name 'data' is not defined",
     "output_type": "error",
     "traceback": [
      "\u001b[1;31m---------------------------------------------------------------------------\u001b[0m",
      "\u001b[1;31mNameError\u001b[0m                                 Traceback (most recent call last)",
      "\u001b[1;32m<ipython-input-5-390b4aee200d>\u001b[0m in \u001b[0;36m<module>\u001b[1;34m()\u001b[0m\n\u001b[1;32m----> 1\u001b[1;33m \u001b[0melement\u001b[0m \u001b[1;33m=\u001b[0m \u001b[0mdata\u001b[0m\u001b[1;33m[\u001b[0m\u001b[1;36m2\u001b[0m\u001b[1;33m]\u001b[0m\u001b[1;33m[\u001b[0m\u001b[1;36m1\u001b[0m\u001b[1;33m]\u001b[0m\u001b[1;33m\u001b[0m\u001b[0m\n\u001b[0m\u001b[0;32m      2\u001b[0m \u001b[1;32mfor\u001b[0m \u001b[0mchild\u001b[0m \u001b[1;32min\u001b[0m \u001b[0melement\u001b[0m\u001b[1;33m.\u001b[0m\u001b[0mchildNodes\u001b[0m\u001b[1;33m:\u001b[0m\u001b[1;33m\u001b[0m\u001b[0m\n\u001b[0;32m      3\u001b[0m     \u001b[0mprint\u001b[0m\u001b[1;33m(\u001b[0m\u001b[0mchild\u001b[0m\u001b[1;33m.\u001b[0m\u001b[0mnodeName\u001b[0m\u001b[1;33m)\u001b[0m\u001b[1;33m\u001b[0m\u001b[0m\n",
      "\u001b[1;31mNameError\u001b[0m: name 'data' is not defined"
     ]
    }
   ],
   "source": [
    "element = data[2][1]\n",
    "for child in element.childNodes:\n",
    "    print(child.nodeName)"
   ]
  },
  {
   "cell_type": "code",
   "execution_count": null,
   "metadata": {
    "collapsed": false
   },
   "outputs": [],
   "source": [
    "def significant_digits(num, digits=3):\n",
    "    return '{num:.{digits}f}'.format(num=float(num), digits=digits)\n",
    "\n",
    "significant_digits('213.23')"
   ]
  },
  {
   "cell_type": "code",
   "execution_count": null,
   "metadata": {
    "collapsed": false
   },
   "outputs": [],
   "source": [
    "import re\n",
    "data = {}\n",
    "for path in dom.getElementsByTagName('path'):\n",
    "    path_d = path.attributes['d'].value\n",
    "    icon_id = path.attributes['id'].value\n",
    "    path_d = re.sub(r'-?\\d+\\.\\d+', lambda m: significant_digits(m.group(), 3), path_d)\n",
    "    data[icon_id.lower()] = path_d\n",
    "\n",
    "data"
   ]
  },
  {
   "cell_type": "code",
   "execution_count": null,
   "metadata": {
    "collapsed": false
   },
   "outputs": [],
   "source": [
    "icon_id.value"
   ]
  },
  {
   "cell_type": "code",
   "execution_count": null,
   "metadata": {
    "collapsed": false
   },
   "outputs": [],
   "source": [
    "ldir = pathlib.Path('..') / 'components' / 'lineicons'\n",
    "icons = [i.stem for i in ldir.iterdir()]\n",
    "exports = '\\n'.join('export {{ {0} }} from \"./{0}.js\"'.format(icon) for icon in icons)\n",
    "index = ldir / 'index.js'\n",
    "index.write_text(exports)"
   ]
  },
  {
   "cell_type": "code",
   "execution_count": null,
   "metadata": {
    "collapsed": true
   },
   "outputs": [],
   "source": []
  }
 ],
 "metadata": {
  "kernelspec": {
   "display_name": "Python 3",
   "language": "python",
   "name": "python3"
  },
  "language_info": {
   "codemirror_mode": {
    "name": "ipython",
    "version": 3
   },
   "file_extension": ".py",
   "mimetype": "text/x-python",
   "name": "python",
   "nbconvert_exporter": "python",
   "pygments_lexer": "ipython3",
   "version": "3.5.1+"
  }
 },
 "nbformat": 4,
 "nbformat_minor": 0
}
