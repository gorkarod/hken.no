{
 "cells": [
  {
   "cell_type": "markdown",
   "metadata": {},
   "source": [
    "Algorithm on [wikipedia]\n",
    "original [article]\n",
    "\n",
    "![diagram]\n",
    "\n",
    "[article]:https://www.fourmilab.ch/babbage/sketch.html\n",
    "[wikipedia]:https://en.wikipedia.org/wiki/Bernoulli_number#Algorithmic_description\n",
    "[diagram]:https://upload.wikimedia.org/wikipedia/commons/c/cf/Diagram_for_the_computation_of_Bernoulli_numbers.jpg"
   ]
  },
  {
   "cell_type": "raw",
   "metadata": {},
   "source": [
    "n   approximation\n",
    "0 \t+1.00000000000\n",
    "1 \t±0.50000000000\n",
    "2 \t+0.16666666667\n",
    "4 \t−0.03333333333\n",
    "6 \t+0.02380952381\n",
    "8 \t−0.03333333333\n",
    "10 \t+0.07575757576\n",
    "12 \t−0.25311355311\n",
    "14 \t+1.16666666667\n",
    "16 \t−7.09215686275\n",
    "18 \t+54.9711779448"
   ]
  },
  {
   "cell_type": "code",
   "execution_count": 197,
   "metadata": {
    "collapsed": false
   },
   "outputs": [
    {
     "name": "stdout",
     "output_type": "stream",
     "text": [
      " n     approximation\n",
      " 0    +1.00000000000\n",
      " 1    +0.50000000000\n",
      " 2    +0.16666666667\n",
      " 4    -0.03333333333\n",
      " 6    +0.02380952381\n",
      " 8    -0.03333333333\n",
      "10    +0.07575757576\n",
      "12    -0.25311355311\n",
      "14    +1.16666666667\n",
      "16    -7.09215686275\n",
      "18   +54.97117794486\n"
     ]
    }
   ],
   "source": [
    "from fractions import Fraction\n",
    "# reference implementation\n",
    "def B(n):\n",
    "    A = [] \n",
    "    for m in range(n+1):\n",
    "        A.append(Fraction(1, m+1))\n",
    "        for j in range(m, 0, -1):\n",
    "            A[j-1] = j * (A[j-1] - A[j])\n",
    "    return float(A[0])\n",
    "\n",
    "\n",
    "\n",
    "numbers = [0, 1] + list(range(2, 20, 2))\n",
    "values = [(n, B(n)) for n in numbers]\n",
    "print('{:>2}{:>18}'.format('n', 'approximation'))\n",
    "print('\\n'.join('{:2}{:+18.11f}'.format(*v) for v in values))"
   ]
  },
  {
   "cell_type": "code",
   "execution_count": 420,
   "metadata": {
    "collapsed": false
   },
   "outputs": [
    {
     "name": "stdout",
     "output_type": "stream",
     "text": [
      " n                     numerator / denominator\n",
      " 0                             1 / 1          \n",
      " 1                             1 / 2          \n",
      " 2                             1 / 6          \n",
      " 4                            -1 / 30         \n",
      " 6                             1 / 42         \n",
      " 8                            -1 / 30         \n",
      "10                             5 / 66         \n",
      "12                          -691 / 2730       \n",
      "14                             7 / 6          \n",
      "16                         -3617 / 510        \n",
      "18                         43867 / 798        \n",
      "20                       -174611 / 330        \n",
      "22                        854513 / 138        \n",
      "24                    -236364091 / 2730       \n",
      "26                       8553103 / 6          \n",
      "28                  -23749461029 / 870        \n",
      "30                 8615841276005 / 14322      \n",
      "32                -7709321041217 / 510        \n",
      "34                 2577687858367 / 6          \n",
      "36         -26315271553053477373 / 1919190    \n",
      "38              2929993913841559 / 6          \n",
      "40        -261082718496449122051 / 13530      \n",
      "42        1520097643918070802691 / 1806       \n",
      "44      -27833269579301024235023 / 690        \n",
      "46      596451111593912163277961 / 282        \n",
      "48 -5609403368997817686249127547 / 46410      \n",
      "50   495057205241079648212477525 / 66         \n"
     ]
    }
   ],
   "source": [
    "def bernoulli2():\n",
    "    A, m = [], 0\n",
    "    while True:\n",
    "        A.append(Fraction(1, m + 1))\n",
    "        for j in range(m, 0, -1):\n",
    "          A[j - 1] = j * (A[j - 1] - A[j])\n",
    "        yield A[0] # (which is Bm)\n",
    "        m += 1\n",
    "\n",
    "BM = 50 \n",
    "values = [('n', 'numerator', 'denominator')] \n",
    "values.extend(\n",
    "    (n, b.numerator, b.denominator) for (n, b) \n",
    "    in zip(range(BM + 1), bernoulli2()) if b)\n",
    "fl = [max(len(str(f)) for f in v) for v in zip(*values)]\n",
    "print('\\n'.join('{0:>{3}} {1:>{4}} / {2:<{5}}'.format(*v, *fl) for v in values))"
   ]
  },
  {
   "cell_type": "code",
   "execution_count": 425,
   "metadata": {
    "collapsed": false,
    "scrolled": false
   },
   "outputs": [
    {
     "name": "stdout",
     "output_type": "stream",
     "text": [
      " 0 1\n",
      " 1 1/2\n",
      " 2 1/6\n",
      " 4 -1/30\n",
      " 6 1/42\n",
      " 8 -1/30\n",
      "10 5/66\n",
      "12 -691/2730\n",
      "14 7/6\n",
      "16 -3617/510\n",
      "18 43867/798\n",
      "20 -174611/330\n",
      "22 854513/138\n",
      "24 -236364091/2730\n",
      "26 8553103/6\n",
      "28 -23749461029/870\n",
      "30 8615841276005/14322\n",
      "32 -7709321041217/510\n",
      "34 2577687858367/6\n",
      "36 -26315271553053477373/1919190\n",
      "38 2929993913841559/6\n",
      "40 -261082718496449122051/13530\n",
      "42 1520097643918070802691/1806\n",
      "44 -27833269579301024235023/690\n",
      "46 596451111593912163277961/282\n",
      "48 -5609403368997817686249127547/46410\n",
      "50 495057205241079648212477525/66\n"
     ]
    },
    {
     "data": {
      "text/plain": [
       "Fraction(495057205241079648212477525, 66)"
      ]
     },
     "execution_count": 425,
     "metadata": {},
     "output_type": "execute_result"
    }
   ],
   "source": [
    "def b(m, r=[]):\n",
    "    if m >= len(r):\n",
    "        s, p = 0, 1 \n",
    "        for k in range(m):\n",
    "            s = s + b(k) * p / (m - k + 1)\n",
    "            p = p * (m - k) // (k + 1)\n",
    "        r.append(Fraction(1 - s))\n",
    "        if r[m]: \n",
    "            print('{:2} {}'.format(m, r[m]) , end='\\n')\n",
    "    return r[m] \n",
    "\n",
    "b(50)"
   ]
  },
  {
   "cell_type": "code",
   "execution_count": 378,
   "metadata": {
    "collapsed": false
   },
   "outputs": [
    {
     "data": {
      "text/plain": [
       "5.0"
      ]
     },
     "execution_count": 378,
     "metadata": {},
     "output_type": "execute_result"
    }
   ],
   "source": [
    "5/1"
   ]
  },
  {
   "cell_type": "code",
   "execution_count": null,
   "metadata": {
    "collapsed": true
   },
   "outputs": [],
   "source": []
  }
 ],
 "metadata": {
  "kernelspec": {
   "display_name": "Python 3",
   "language": "python",
   "name": "python3"
  },
  "language_info": {
   "codemirror_mode": {
    "name": "ipython",
    "version": 3
   },
   "file_extension": ".py",
   "mimetype": "text/x-python",
   "name": "python",
   "nbconvert_exporter": "python",
   "pygments_lexer": "ipython3",
   "version": "3.5.1+"
  }
 },
 "nbformat": 4,
 "nbformat_minor": 0
}
