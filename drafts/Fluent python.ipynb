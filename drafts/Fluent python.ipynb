{
 "cells": [
  {
   "cell_type": "code",
   "execution_count": 1,
   "metadata": {
    "collapsed": true
   },
   "outputs": [],
   "source": [
    "import collections\n",
    "import queue\n",
    "import random\n",
    "import time\n",
    "DEPARTURE_INTERVAL = 5"
   ]
  },
  {
   "cell_type": "code",
   "execution_count": 2,
   "metadata": {
    "collapsed": true
   },
   "outputs": [],
   "source": [
    "Event = collections.namedtuple('Event', 'time proc action')"
   ]
  },
  {
   "cell_type": "code",
   "execution_count": 3,
   "metadata": {
    "collapsed": true
   },
   "outputs": [],
   "source": [
    "def taxi_process(ident, trips, start_time=0):\n",
    "    \"\"\"Yield to simulator issuing event at each state change\"\"\"\n",
    "    time = yield Event(start_time, ident, 'leave garage')\n",
    "    for i in range(trips):\n",
    "        time = yield Event(time, ident, 'pick up passenger')\n",
    "        time = yield Event(time, ident, 'drop off passenger')\n",
    "        \n",
    "    yield Event(time, ident, 'going home')\n",
    "    #end of taxi process"
   ]
  },
  {
   "cell_type": "code",
   "execution_count": 4,
   "metadata": {
    "collapsed": false
   },
   "outputs": [],
   "source": [
    "class Simulator:\n",
    "    \n",
    "    def __init__(self, procs_map):\n",
    "        self.events = queue.PriorityQueue()\n",
    "        self.procs = dict(procs_map)\n",
    "        \n",
    "    def run(self, end_time):\n",
    "        \"\"\"Schedule and display events until time is up\"\"\"\n",
    "        for _, proc in sorted(self.procs.items()):\n",
    "            first_event = next(proc)\n",
    "            self.events.put(first_event)\n",
    "            \n",
    "        sim_time = 0\n",
    "        while sim_time < end_time:\n",
    "            if self.events.empty():\n",
    "                print('*** End of events ***')\n",
    "                break\n",
    "            \n",
    "            current_event = self.events.get()\n",
    "            sim_time, proc_id, previous_action = current_event\n",
    "            msg = 'taxi: {proc_id:<3}{indent}{event}' \n",
    "            print(msg.format(indent = ' ' * proc_id, proc_id=proc_id, event=current_event))\n",
    "            active_proc = self.procs[proc_id]\n",
    "            next_time = sim_time + compute_duration(previous_action)\n",
    "            try: \n",
    "                next_event = active_proc.send(next_time)\n",
    "            except StopIteration:\n",
    "                del self.procs[proc_id]\n",
    "            else: \n",
    "                self.events.put(next_event)\n",
    "        else:\n",
    "            msg = '*** end of simulation time: {} events pending ***'\n",
    "            print(msg.format(self.events.qsize()))\n"
   ]
  },
  {
   "cell_type": "code",
   "execution_count": 5,
   "metadata": {
    "collapsed": true
   },
   "outputs": [],
   "source": [
    "DURATIONS = {\n",
    "    'leave garage': 5,\n",
    "    'drop off passenger': 5,\n",
    "    'pick up passenger': 20,\n",
    "    'going home': 1, \n",
    "}\n",
    "def compute_duration(previous_event):\n",
    "    interval = DURATIONS[previous_event]\n",
    "    return int(random.expovariate(1/interval)) + 1\n",
    "\n",
    "def main_taxis(end_time=180, num_taxis=3, seed=None):\n",
    "    if seed is not None:\n",
    "        random.seed(seed)\n",
    "    taxis = {i: taxi_process(i, (i + 1) * 2, i * DEPARTURE_INTERVAL) \n",
    "             for i in range(num_taxis)}\n",
    "    sim = Simulator(taxis)\n",
    "    sim.run(end_time)"
   ]
  },
  {
   "cell_type": "code",
   "execution_count": 6,
   "metadata": {
    "collapsed": false,
    "scrolled": false
   },
   "outputs": [
    {
     "name": "stdout",
     "output_type": "stream",
     "text": [
      "taxi: 0  Event(time=0, proc=0, action='leave garage')\n",
      "taxi: 0  Event(time=4, proc=0, action='pick up passenger')\n",
      "taxi: 1   Event(time=5, proc=1, action='leave garage')\n",
      "taxi: 1   Event(time=9, proc=1, action='pick up passenger')\n",
      "taxi: 2    Event(time=10, proc=2, action='leave garage')\n",
      "taxi: 2    Event(time=14, proc=2, action='pick up passenger')\n",
      "taxi: 2    Event(time=23, proc=2, action='drop off passenger')\n",
      "taxi: 2    Event(time=28, proc=2, action='pick up passenger')\n",
      "taxi: 2    Event(time=37, proc=2, action='drop off passenger')\n",
      "taxi: 2    Event(time=42, proc=2, action='pick up passenger')\n",
      "taxi: 2    Event(time=44, proc=2, action='drop off passenger')\n",
      "taxi: 2    Event(time=48, proc=2, action='pick up passenger')\n",
      "taxi: 2    Event(time=50, proc=2, action='drop off passenger')\n",
      "taxi: 2    Event(time=62, proc=2, action='pick up passenger')\n",
      "taxi: 1   Event(time=64, proc=1, action='drop off passenger')\n",
      "taxi: 1   Event(time=65, proc=1, action='pick up passenger')\n",
      "taxi: 0  Event(time=68, proc=0, action='drop off passenger')\n",
      "taxi: 0  Event(time=77, proc=0, action='pick up passenger')\n",
      "taxi: 1   Event(time=101, proc=1, action='drop off passenger')\n",
      "taxi: 1   Event(time=105, proc=1, action='pick up passenger')\n",
      "taxi: 1   Event(time=117, proc=1, action='drop off passenger')\n",
      "taxi: 1   Event(time=120, proc=1, action='pick up passenger')\n",
      "taxi: 1   Event(time=126, proc=1, action='drop off passenger')\n",
      "taxi: 1   Event(time=129, proc=1, action='going home')\n",
      "taxi: 0  Event(time=138, proc=0, action='drop off passenger')\n",
      "taxi: 0  Event(time=142, proc=0, action='going home')\n",
      "taxi: 2    Event(time=149, proc=2, action='drop off passenger')\n",
      "taxi: 2    Event(time=152, proc=2, action='pick up passenger')\n",
      "taxi: 2    Event(time=160, proc=2, action='drop off passenger')\n",
      "taxi: 2    Event(time=161, proc=2, action='going home')\n",
      "*** End of events ***\n"
     ]
    }
   ],
   "source": [
    "main_taxis(500, 3)"
   ]
  },
  {
   "cell_type": "code",
   "execution_count": 21,
   "metadata": {
    "collapsed": false
   },
   "outputs": [
    {
     "name": "stdout",
     "output_type": "stream",
     "text": [
      "STARTING download_many_procedural\n",
      "\n",
      "20 flags downloaded in 3.59s\n"
     ]
    }
   ],
   "source": [
    "import os, time, sys, requests, pathlib, shutil, collections\n",
    "\n",
    "POP20_CC = ('cn in us id br pk ng bd ru jp mx ph vn et eg de ir tr cd fr').upper().split()\n",
    "BASE_URL = 'http://flupy.org/data/flags'\n",
    "DEST_DIR = pathlib.Path('flags/')\n",
    "\n",
    "def save_flag(img, filename):\n",
    "    path = DEST_DIR / filename\n",
    "    path.write_bytes(img)\n",
    "        \n",
    "def get_flag(cc):\n",
    "    url = '{}/{cc}/{cc}.gif'.format(BASE_URL, cc=cc.lower())\n",
    "    resp = requests.get(url)\n",
    "    return resp.content\n",
    "\n",
    "def show(text):\n",
    "    print(text, end=' ')\n",
    "   \n",
    "def single_download(cc):\n",
    "    image = get_flag(cc)\n",
    "    save_flag(image, cc.lower() + '.gif')\n",
    "    return cc\n",
    "    \n",
    "def download_many_procedural(cc_list):\n",
    "    res = map(single_download, sorted(cc_list))\n",
    "    return len(list(res))\n",
    "\n",
    "    \n",
    "def main_flags(download_many):\n",
    "    shutil.rmtree(str(DEST_DIR), True)\n",
    "    DEST_DIR.mkdir()\n",
    "    print('STARTING {}'.format(download_many.__name__))\n",
    "    t0 = time.time()\n",
    "    count = download_many(POP20_CC)\n",
    "    elapsed = time.time() - t0\n",
    "    msg = '\\n{} flags downloaded in {:.2f}s'\n",
    "    print(msg.format(count, elapsed))\n",
    "\n",
    "main_flags(download_many_procedural)"
   ]
  },
  {
   "cell_type": "code",
   "execution_count": 8,
   "metadata": {
    "collapsed": false
   },
   "outputs": [
    {
     "name": "stdout",
     "output_type": "stream",
     "text": [
      "STARTING download_many_threads\n",
      "\n",
      "20 flags downloaded in 0.69s\n"
     ]
    }
   ],
   "source": [
    "from concurrent import futures\n",
    "MAX_WORKERS = 50 \n",
    "\n",
    "def download_many_threads(cc_list):\n",
    "    workers = min(MAX_WORKERS, len(cc_list))\n",
    "    with futures.ThreadPoolExecutor(workers) as executor:\n",
    "        res = executor.map(single_download, sorted(cc_list))\n",
    "    return len(list(res))\n",
    "\n",
    "main_flags(download_many_threads)"
   ]
  },
  {
   "cell_type": "code",
   "execution_count": 9,
   "metadata": {
    "collapsed": false
   },
   "outputs": [
    {
     "name": "stdout",
     "output_type": "stream",
     "text": [
      "STARTING download_many_proc\n",
      "\n",
      "20 flags downloaded in 0.97s\n"
     ]
    }
   ],
   "source": [
    "def download_many_proc(cc_list):\n",
    "    workers = min(MAX_WORKERS, len(cc_list))\n",
    "    with futures.ProcessPoolExecutor(workers) as executor:\n",
    "        res = executor.map(single_download, sorted(cc_list))\n",
    "    return len(list(res))\n",
    "\n",
    "main_flags(download_many_proc)"
   ]
  },
  {
   "cell_type": "code",
   "execution_count": 10,
   "metadata": {
    "collapsed": false
   },
   "outputs": [
    {
     "name": "stdout",
     "output_type": "stream",
     "text": [
      "STARTING download_many_threads_v2\n",
      "Scheduled for BD: <Future at 0x7f9815c70080 state=running>\n",
      "Scheduled for BR: <Future at 0x7f9815c73438 state=running>\n",
      "Scheduled for CD: <Future at 0x7f9815c736d8 state=pending>\n",
      "Scheduled for CN: <Future at 0x7f9815c73be0 state=pending>\n",
      "Scheduled for DE: <Future at 0x7f9815cbbc18 state=pending>\n",
      "Scheduled for EG: <Future at 0x7f9815cbba20 state=pending>\n",
      "Scheduled for ET: <Future at 0x7f9815cbb898 state=pending>\n",
      "Scheduled for FR: <Future at 0x7f98145f3eb8 state=pending>\n",
      "Scheduled for ID: <Future at 0x7f98145f3400 state=pending>\n",
      "Scheduled for IN: <Future at 0x7f98145f34a8 state=pending>\n",
      "Scheduled for IR: <Future at 0x7f98145f30b8 state=pending>\n",
      "Scheduled for JP: <Future at 0x7f98145f32e8 state=pending>\n",
      "Scheduled for MX: <Future at 0x7f98145f3780 state=pending>\n",
      "Scheduled for NG: <Future at 0x7f98145f3c88 state=pending>\n",
      "Scheduled for PH: <Future at 0x7f98145f39e8 state=pending>\n",
      "Scheduled for PK: <Future at 0x7f98145f3048 state=pending>\n",
      "Scheduled for RU: <Future at 0x7f98145f3160 state=pending>\n",
      "Scheduled for TR: <Future at 0x7f98145f3898 state=pending>\n",
      "Scheduled for US: <Future at 0x7f98145f3c50 state=pending>\n",
      "Scheduled for VN: <Future at 0x7f98145f3be0 state=pending>\n",
      "<Future at 0x7f9815c70080 state=finished returned str> result: 'BD'\n",
      "<Future at 0x7f9815c73438 state=finished returned str> result: 'BR'\n",
      "<Future at 0x7f9815c73be0 state=finished returned str> result: 'CN'\n",
      "<Future at 0x7f9815c736d8 state=finished returned str> result: 'CD'\n",
      "<Future at 0x7f9815cbbc18 state=finished returned str> result: 'DE'\n",
      "<Future at 0x7f9815cbba20 state=finished returned str> result: 'EG'\n",
      "<Future at 0x7f9815cbb898 state=finished returned str> result: 'ET'\n",
      "<Future at 0x7f98145f3eb8 state=finished returned str> result: 'FR'\n",
      "<Future at 0x7f98145f3400 state=finished returned str> result: 'ID'\n",
      "<Future at 0x7f98145f34a8 state=finished returned str> result: 'IN'\n",
      "<Future at 0x7f98145f30b8 state=finished returned str> result: 'IR'\n",
      "<Future at 0x7f98145f32e8 state=finished returned str> result: 'JP'\n",
      "<Future at 0x7f98145f3780 state=finished returned str> result: 'MX'\n",
      "<Future at 0x7f98145f3c88 state=finished returned str> result: 'NG'\n",
      "<Future at 0x7f98145f3048 state=finished returned str> result: 'PK'\n",
      "<Future at 0x7f98145f39e8 state=finished returned str> result: 'PH'\n",
      "<Future at 0x7f98145f3160 state=finished returned str> result: 'RU'\n",
      "<Future at 0x7f98145f3898 state=finished returned str> result: 'TR'\n",
      "<Future at 0x7f98145f3be0 state=finished returned str> result: 'VN'\n",
      "<Future at 0x7f98145f3c50 state=finished returned str> result: 'US'\n",
      "\n",
      "20 flags downloaded in 4.73s\n"
     ]
    }
   ],
   "source": [
    "def download_many_threads_v2(cc_list):\n",
    "#     cc_list = cc_list[:5]\n",
    "    with futures.ThreadPoolExecutor(2) as ex:\n",
    "        to_do = []\n",
    "        for cc in sorted(cc_list):\n",
    "            future = ex.submit(single_download, cc)\n",
    "            to_do.append(future)\n",
    "            msg = 'Scheduled for {}: {}'\n",
    "            print(msg.format(cc, future))\n",
    "        \n",
    "        results = []\n",
    "        for future in futures.as_completed(to_do):\n",
    "            res = future.result()\n",
    "            msg = '{} result: {!r}'\n",
    "            print(msg.format(future, res))\n",
    "            results.append(res)\n",
    "            \n",
    "    return len(results)\n",
    "            \n",
    "main_flags(download_many_threads_v2)"
   ]
  },
  {
   "cell_type": "code",
   "execution_count": 20,
   "metadata": {
    "collapsed": false,
    "scrolled": false
   },
   "outputs": [
    {
     "name": "stderr",
     "output_type": "stream",
     "text": [
      "100%|██████████| 1000/1000 [00:01<00:00, 543.77it/s]\n"
     ]
    }
   ],
   "source": [
    "from tqdm import tqdm\n",
    "def sleep_for_a_while(procid):\n",
    "    delay = random.expovariate(5)\n",
    "#     print(delay)\n",
    "    time.sleep(delay)\n",
    "\n",
    "with futures.ThreadPoolExecutor(200) as ex:\n",
    "    res = ex.map(sleep_for_a_while, range(1000))\n",
    "    res = tqdm(res, total=1000)\n",
    "    list(res)"
   ]
  },
  {
   "cell_type": "code",
   "execution_count": 33,
   "metadata": {
    "collapsed": false
   },
   "outputs": [],
   "source": [
    "from enum import Enum\n",
    "from collections import namedtuple\n",
    "Result = namedtuple('Result', 'status msg')\n",
    "class HTTPStatus(Enum):\n",
    "    ok = 'ok'\n",
    "    not_found = 'not found'"
   ]
  },
  {
   "cell_type": "code",
   "execution_count": 48,
   "metadata": {
    "collapsed": false
   },
   "outputs": [
    {
     "name": "stderr",
     "output_type": "stream",
     "text": [
      "100%|██████████| 10/10 [00:00<00:00, 10.94it/s]\n"
     ]
    },
    {
     "data": {
      "text/plain": [
       "'download_many_procedural_v2 completed in 0.9044125080108643s'"
      ]
     },
     "execution_count": 48,
     "metadata": {},
     "output_type": "execute_result"
    }
   ],
   "source": [
    "ALL_CC = \"\"\"\n",
    "AD AE AF AG AL AM AO AR AT AU AZ BA BB BD BE BF BG BH BI BJ BN BO BR BS BT\n",
    "BW BY BZ CA CD CF CG CH CI CL CM CN CO CR CU CV CY CZ DE DJ DK DM DZ EC EE\n",
    "EG ER ES ET FI FJ FM FR GA GB GD GE GH GM GN GQ GR GT GW GY HN HR HT HU ID\n",
    "IE IL IN IQ IR IS IT JM JO JP KE KG KH KI KM KN KP KR KW KZ LA LB LC LI LK\n",
    "LR LS LT LU LV LY MA MC MD ME MG MH MK ML MM MN MR MT MU MV MW MX MY MZ NA\n",
    "NE NG NI NL NO NP NR NZ OM PA PE PG PH PK PL PT PW PY QA RO RS RU RW SA SB\n",
    "SC SD SE SG SI SK SL SM SN SO SR SS ST SV SY SZ TD TG TH TJ TL TM TN TO TR\n",
    "TT TV TW TZ UA UG US UY UZ VA VC VE VN VU WS YE ZA ZM ZW\n",
    "\"\"\".split()\n",
    "\n",
    "def get_flag_v2(cc):\n",
    "    url = '{}/{cc}/{cc}.gif'.format(BASE_URL, cc=cc.lower())\n",
    "    resp = requests.get(url)\n",
    "    if resp.status_code != 200:\n",
    "        resp.raise_for_status()\n",
    "    return resp.content\n",
    "\n",
    "def single_download_v2(cc, base_url, verbose=False):\n",
    "    try: \n",
    "        image = get_flag_v2(cc)\n",
    "    except requests.exceptions.HTTPError as err:\n",
    "        res = err.response\n",
    "        if res.status_code == 404:\n",
    "            status = HTTPStatus.not_found\n",
    "            msg = 'not found'\n",
    "        else:\n",
    "            raise\n",
    "    else: \n",
    "        save_flag(image, cc.lower() + '.gif')\n",
    "        status = HTTPStatus.ok\n",
    "        msg = 'OK'\n",
    "        \n",
    "    if verbose:\n",
    "        print(cc, msg)\n",
    "        \n",
    "    return Result(status, cc) \n",
    "    \n",
    "def download_many_procedural_v2(cc_list, base_url, verbose, max_req):\n",
    "    counter = collections.Counter()\n",
    "    cc_iter = sorted(cc_list)\n",
    "    if not verbose:\n",
    "        cc_iter = tqdm(cc_iter)\n",
    "    for cc in cc_iter:\n",
    "        try:\n",
    "            res = single_download_v2(cc, base_url, verbose)\n",
    "        except requests.exceptions.HTTPError as err:\n",
    "            error_msg = 'HTTP error {res.status_code} - {res.reason}'\n",
    "            error_msg = error_msg.format(res=err.response)\n",
    "        except requests.exceptions.ConnectionError as err:\n",
    "            error_msg = 'Connection error'\n",
    "        else:\n",
    "            error_msg = ''\n",
    "            status = res.status\n",
    "        counter[status] += 1\n",
    "        if verbose and error_msg:\n",
    "            print('*** Error for {}: {}'.format(cc, error_msg))\n",
    "    \n",
    "    return counter\n",
    "            \n",
    "    res = map(single_download, sorted(cc_list))\n",
    "    return len(list(res))\n",
    "\n",
    "    \n",
    "    \n",
    "VERBOSE = False\n",
    "MAX_PROC = 1\n",
    "\n",
    "def main_flags_v2(download_many):\n",
    "    shutil.rmtree(str(DEST_DIR), True)\n",
    "    DEST_DIR.mkdir()\n",
    "    t0 = time.time()\n",
    "    count = download_many(ALL_CC[:10], BASE_URL, VERBOSE, MAX_PROC)\n",
    "    duration = time.time() - t0\n",
    "    return '{} completed in {}s'.format(download_many.__name__, duration)\n",
    "\n",
    "    \n",
    "main_flags_v2(download_many_procedural_v2)"
   ]
  },
  {
   "cell_type": "code",
   "execution_count": null,
   "metadata": {
    "collapsed": true
   },
   "outputs": [],
   "source": []
  }
 ],
 "metadata": {
  "kernelspec": {
   "display_name": "Python 3",
   "language": "python",
   "name": "python3"
  },
  "language_info": {
   "codemirror_mode": {
    "name": "ipython",
    "version": 3
   },
   "file_extension": ".py",
   "mimetype": "text/x-python",
   "name": "python",
   "nbconvert_exporter": "python",
   "pygments_lexer": "ipython3",
   "version": "3.5.1+"
  }
 },
 "nbformat": 4,
 "nbformat_minor": 0
}
