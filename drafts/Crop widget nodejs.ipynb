{
 "cells": [
  {
   "cell_type": "code",
   "execution_count": 1,
   "metadata": {
    "collapsed": true
   },
   "outputs": [],
   "source": [
    "%load_ext babel"
   ]
  },
  {
   "cell_type": "code",
   "execution_count": 2,
   "metadata": {
    "collapsed": false
   },
   "outputs": [],
   "source": [
    "const path = require('path')\n",
    "process.env.NODE_PATH += \":\" + path.resolve(path.join('..', 'node_modules'))\n",
    "process.env.NODE_PATH += \":\" + path.resolve('..')\n",
    "require('module').Module._initPaths();\n",
    "const React = require('react')"
   ]
  },
  {
   "cell_type": "code",
   "execution_count": 3,
   "metadata": {
    "collapsed": false
   },
   "outputs": [
    {
     "data": {
      "text/html": [
       "<h1>Hello World!</h1>"
      ]
     },
     "metadata": {},
     "output_type": "display_data"
    }
   ],
   "source": [
    "%%babel\n",
    "import ReactDOM from 'react-dom/server'\n",
    "const renderJsx = jsx => display(ReactDOM.renderToStaticMarkup(jsx), 'text/html')\n",
    "renderJsx(<h1>Hello World!</h1>)"
   ]
  },
  {
   "cell_type": "code",
   "execution_count": 4,
   "metadata": {
    "collapsed": false
   },
   "outputs": [],
   "source": [
    "%%babel\n",
    "import { Provider } from 'react-redux'\n",
    "import { createStore } from 'redux'"
   ]
  },
  {
   "cell_type": "code",
   "execution_count": 17,
   "metadata": {
    "collapsed": false
   },
   "outputs": [
    {
     "ename": "Javascript Error",
     "evalue": "Unexpected token import",
     "output_type": "error",
     "traceback": [
      "SyntaxError: Unexpected token import\n    at exports.runInThisContext (vm.js:53:16)\n    at Module._compile (module.js:387:25)\n    at Object.Module._extensions..js (module.js:422:10)\n    at Module.load (module.js:357:32)\n    at Function.Module._load (module.js:314:12)\n    at Module.require (module.js:367:17)\n    at require (internal/module.js:20:19)\n    at /home/haakenlid/projects/jupyternotebooks/node-jupyter/build/context.js:66:16\n    at require (/home/haakenlid/projects/jupyternotebooks/node-jupyter/build/context.js:53:27)\n    at Object.Contextify.sandbox.run (/home/haakenlid/projects/jupyternotebooks/node-jupyter/node_modules/contextify/lib/contextify.js:12:24)"
     ]
    }
   ],
   "source": [
    "%%babel\n",
    "import { cropBoxReducer } from 'components/CropBox/reducers'"
   ]
  },
  {
   "cell_type": "code",
   "execution_count": null,
   "metadata": {
    "collapsed": true
   },
   "outputs": [],
   "source": []
  }
 ],
 "metadata": {
  "kernelspec": {
   "display_name": "NodeJS",
   "language": "javascript",
   "name": "nodejs"
  },
  "language_info": {
   "codemirror_mode": "javascript",
   "file_extension": "js",
   "mimetype": "text/javascript",
   "name": "nodejs",
   "pygments_lexer": "javascript",
   "version": "0.10"
  }
 },
 "nbformat": 4,
 "nbformat_minor": 0
}
