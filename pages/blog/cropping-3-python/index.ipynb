{
 "cells": [
  {
   "cell_type": "raw",
   "metadata": {},
   "source": [
    "---\n",
    "title: 'How to use computer vision to crop images'\n",
    "date: '2016-03-23'\n",
    "tags: ['python', 'opencv', 'jupyter', 'images']\n",
    "---"
   ]
  },
  {
   "cell_type": "code",
   "execution_count": 1,
   "metadata": {
    "collapsed": false,
    "hidden": true
   },
   "outputs": [
    {
     "data": {
      "text/html": [
       "<style>.infoParent {\n",
       "  position: relative; }\n",
       "  .infoParent:hover .infoBox {\n",
       "    transform: translateY(0); }\n",
       "\n",
       ".infoBoxWrapper {\n",
       "  pointer-events: none;\n",
       "  overflow: hidden;\n",
       "  position: absolute;\n",
       "  bottom: 0;\n",
       "  left: 0;\n",
       "  right: 0;\n",
       "  z-index: 80; }\n",
       "  .infoBoxWrapper .infoBox {\n",
       "    display: block;\n",
       "    top: inherit;\n",
       "    transform: translateY(105%);\n",
       "    transition: transform 100ms ease;\n",
       "    background: rgba(0, 0, 0, 0.8);\n",
       "    font-size: 13px;\n",
       "    line-height: 1.2;\n",
       "    color: white;\n",
       "    padding: .3em;\n",
       "    margin: 0; }\n",
       "    .infoBoxWrapper .infoBox div {\n",
       "      display: inline-block; }\n",
       "    .infoBoxWrapper .infoBox .infoRow {\n",
       "      padding-right: 1em; }\n",
       "      .infoBoxWrapper .infoBox .infoRow .value {\n",
       "        font-weight: 500; }\n",
       "      .infoBoxWrapper .infoBox .infoRow .label {\n",
       "        padding-right: .2em; }\n",
       ".previewPanel {\n",
       "  display: flex;\n",
       "  flex: 3;\n",
       "  margin: -0.3vw;\n",
       "  padding: 0.6vw 0 0 0; }\n",
       "  .previewPanel .previewWrapper {\n",
       "    position: relative;\n",
       "    margin: 0.3vw; }\n",
       "    .previewPanel .previewWrapper svg.previewImg {\n",
       "      display: block; }\n",
       ".cropInfo {\n",
       "  top: 0;\n",
       "  left: 0;\n",
       "  position: absolute;\n",
       "  display: table; }\n",
       "  .cropInfo .infoRow {\n",
       "    display: table-row; }\n",
       "    .cropInfo .infoRow .label, .cropInfo .infoRow .value {\n",
       "      display: table-cell; }\n",
       "\n",
       "symbol {\n",
       "  overflow: visible; }\n",
       "\n",
       "@keyframes spin {\n",
       "  from {\n",
       "    transform: rotate(0deg); }\n",
       "  to {\n",
       "    transform: rotate(360deg); } }\n",
       "\n",
       ".overlayWrapper svg.overlay .feature {\n",
       "  shape-rendering: geometricPrecision;\n",
       "  overflow: visible;\n",
       "  transition: all 500ms; }\n",
       "  .overlayWrapper svg.overlay .feature text {\n",
       "    transition: inherit;\n",
       "    opacity: 0;\n",
       "    pointer-events: none; }\n",
       "    .overlayWrapper svg.overlay .feature text tspan {\n",
       "      fill: white;\n",
       "      vector-effect: non-scaling-stroke;\n",
       "      stroke: black;\n",
       "      stroke-opacity: 0.4;\n",
       "      stroke-width: 4;\n",
       "      font-weight: 500;\n",
       "      paint-order: stroke; }\n",
       "  .overlayWrapper svg.overlay .feature circle, .overlayWrapper svg.overlay .feature path, .overlayWrapper svg.overlay .feature rect, .overlayWrapper svg.overlay .feature use {\n",
       "    overflow: visible;\n",
       "    vector-effect: non-scaling-stroke;\n",
       "    fill: none;\n",
       "    stroke: white; }\n",
       "  .overlayWrapper svg.overlay .feature .front {\n",
       "    transition: all 300ms;\n",
       "    stroke-opacity: 0.8;\n",
       "    stroke-width: 1.2;\n",
       "    pointer-events: none; }\n",
       "  .overlayWrapper svg.overlay .feature .back {\n",
       "    stroke-opacity: 0.0;\n",
       "    stroke-width: 15;\n",
       "    pointer-events: stroke; }\n",
       "  .overlayWrapper svg.overlay .feature .cross {\n",
       "    transition: all 300ms;\n",
       "    pointer-events: none;\n",
       "    stroke-opacity: 0.0; }\n",
       "  .overlayWrapper svg.overlay .feature:hover .cross {\n",
       "    stroke-opacity: 1; }\n",
       "  .overlayWrapper svg.overlay .feature:hover .front {\n",
       "    stroke-opacity: 1;\n",
       "    stroke-width: 3; }\n",
       "  .overlayWrapper svg.overlay .feature:hover text {\n",
       "    opacity: 1; }\n",
       "\n",
       ".overlayWrapper .dragKing {\n",
       "  z-index: 100;\n",
       "  position: fixed;\n",
       "  top: 0;\n",
       "  left: 0;\n",
       "  right: 0;\n",
       "  bottom: 0;\n",
       "  cursor: move; }\n",
       "\n",
       ".overlayWrapper svg.overlay {\n",
       "  height: 100%;\n",
       "  z-index: 10;\n",
       "  shape-rendering: auto;\n",
       "  position: absolute;\n",
       "  top: 0;\n",
       "  left: 0;\n",
       "  right: 0; }\n",
       "  .overlayWrapper svg.overlay path, .overlayWrapper svg.overlay rect, .overlayWrapper svg.overlay ellipse {\n",
       "    vector-effect: non-scaling-stroke;\n",
       "    fill: transparent; }\n",
       "  .overlayWrapper svg.overlay .outside {\n",
       "    fill: rgba(0, 0, 0, 0.5); }\n",
       "  .overlayWrapper svg.overlay .centerPoint {\n",
       "    position: relative; }\n",
       "    .overlayWrapper svg.overlay .centerPoint .handle {\n",
       "      cursor: crosshair;\n",
       "      opacity: 0; }\n",
       "      .overlayWrapper svg.overlay .centerPoint .handle:hover + .cross {\n",
       "        stroke: yellow; }\n",
       "    .overlayWrapper svg.overlay .centerPoint .cross {\n",
       "      pointer-events: none;\n",
       "      stroke: rgba(255, 255, 0, 0.5); }\n",
       "  .overlayWrapper svg.overlay .inside .box {\n",
       "    stroke: rgba(255, 255, 255, 0.3);\n",
       "    cursor: move; }\n",
       "  .overlayWrapper svg.overlay .inside:hover .box {\n",
       "    stroke: rgba(255, 255, 255, 0.8); }\n",
       "  .overlayWrapper svg.overlay .inside .handles {\n",
       "    overflow: visible; }\n",
       "  .overlayWrapper svg.overlay.inactive .inside, .overlayWrapper svg.overlay.inactive .handle {\n",
       "    pointer-events: none; }\n",
       ".cropboxWrapper {\n",
       "  max-width: 50em;\n",
       "  position: relative;\n",
       "  display: flex;\n",
       "  user-select: none;\n",
       "  -webkit-user-select: none;\n",
       "  margin: 1rem 0; }\n",
       "  .cropboxWrapper img {\n",
       "    display: block; }\n",
       "  .cropboxWrapper .masterImgWrapper {\n",
       "    flex: 11;\n",
       "    align-self: center; }\n",
       "</style>"
      ],
      "text/plain": [
       "<IPython.core.display.HTML object>"
      ]
     },
     "execution_count": 1,
     "metadata": {},
     "output_type": "execute_result"
    }
   ],
   "source": [
    "from utils import reactjs\n",
    "reactjs.css()"
   ]
  },
  {
   "cell_type": "markdown",
   "metadata": {},
   "source": [
    "![washington](./cropping-3-python-hero-image.jpg)"
   ]
  },
  {
   "cell_type": "markdown",
   "metadata": {},
   "source": [
    "## The problem of cropping\n",
    "Cropping of images is often one of the last things to do before publishing an\n",
    "article. We have to finalise all images and text content before knowing how much\n",
    "space to use for each component and how it all fits together.\n",
    "h\n",
    "In digital publishing, the same images are often reused in a multitude of shapes\n",
    "and sizes for different channels. A typical blog post or news article will have\n",
    "a main article view. But in a responsive page layout, the images often will have\n",
    "different shapes on different screen sizes. With a website redesign, legacy\n",
    "content might also have to be converted to a new layout in bulk. That could\n",
    "involve a new shape for primary and supporting images. There's section front\n",
    "pages, search result pages, «related content»-teasers and social media previews.\n",
    "Many of these layouts require that images must be cropped into a specific shape.\n",
    "\n",
    "Even a human designer or editor is doing the image cropping manually, it can be\n",
    "difficult to know which parts of a photo to crop away and which parts to keep."
   ]
  },
  {
   "cell_type": "markdown",
   "metadata": {},
   "source": [
    "### An Algorithm of Aesthetics\n",
    "When there's a large set of images that must be cropped, it's sometimes\n",
    "unfeasible to manually decide how to best crop each individual photo. Instead we\n",
    "can use an automated process to classify images and determine which features and\n",
    "point of interest that is most important, and as a consequence, which sections\n",
    "of the image that are less interesting.\n",
    "\n",
    "In this article I'll show how we can use the open source OpenCV computer vision\n",
    "library and the Python programming language to analyze photos to automate image\n",
    "cropping."
   ]
  },
  {
   "cell_type": "markdown",
   "metadata": {},
   "source": [
    "* Existing solutions\n",
    "    * cropping as a service\n",
    "        https://github.com/thumbor/thumbor\n",
    "    \n",
    "* What I want\n",
    "    * self-contained\n",
    "    * flexible\n",
    "    * tweakable"
   ]
  },
  {
   "cell_type": "markdown",
   "metadata": {},
   "source": [
    "## The Open Source Computer Vision library\n",
    "OpenCV is a very large library of tools and algoritms for computer vision. It's\n",
    "written in C++ and has bindings for Java, C++ and Python. Like many other\n",
    "scientific packagages that are written by and for academics and scientist, the\n",
    "documentation and the apis can be somewhat hard to understand without the\n",
    "relevant academic background.\n",
    "\n",
    "Installing OpenCV is also much less straightforward than your typical python\n",
    "package. To use the latest version with python 3 support you have to install a\n",
    "lot of supporting libraries and configure and build OpenCV itself using cmake.\n",
    "There are also prebuilt versions available for some versions and operating\n",
    "systems. I found the [installation guides at pyimagesearch.com][install] very helpful when\n",
    "to get opencv3.0 and python3.5 bindings installed on ubuntu.\n",
    "\n",
    "The OpenCV library gives you a very large toolbox of algorithms for doing all\n",
    "sorts of computer vision, video and image analysis. In this article I'm just\n",
    "going to use two of them: The [ORB] keypoint detector and descriptor extractor and\n",
    "the [Viola-Jones] object detection framework (Haar Cascade Classifier).\n",
    "\n",
    "When reading the OpenCV documentation, you'll run into a lot of academic terms\n",
    "like \"Haar Cascade\" and acronyms such as BRIEF (Binary Robust Independent\n",
    "Elementary Features). All of these are described in various scientific papers,\n",
    "and to really undestand how the algorithms work takes a lot of effort. The good\n",
    "news is that you don't really have to understand how everything works to be able\n",
    "to actually use OpenCV. A good place to find beginner friendly tutorials is\n",
    "[pyimagesearch.com].\n",
    "\n",
    "[install]: http://www.pyimagesearch.com/2015/07/20/install-opencv-3-0-and-python-3-4-on-ubuntu/\n",
    "[Viola-Jones]: https://en.wikipedia.org/wiki/Viola%E2%80%93Jones_object_detection_framework\n",
    "[ORB]: https://en.wikipedia.org/wiki/ORB_(feature_descriptor)\n",
    "[pyimagesearch.com]: http://pyimagesearch.com"
   ]
  },
  {
   "cell_type": "markdown",
   "metadata": {},
   "source": [
    "* Specific libraries:\n",
    "    * Haar-cascade classifiers\n",
    "    http://docs.opencv.org/3.1.0/d7/d8b/tutorial_py_face_detection.html#gsc.tab=0\n",
    "    https://en.wikipedia.org/wiki/Viola%E2%80%93Jones_object_detection_framework\n",
    "    * ORB feature detection\n",
    "    https://en.wikipedia.org/wiki/ORB_(feature_descriptor)\n",
    "    http://docs.opencv.org/3.0-beta/doc/py_tutorials/py_feature2d/py_orb/py_orb.html"
   ]
  },
  {
   "cell_type": "markdown",
   "metadata": {},
   "source": [
    "### Playing around with OpenCV in Jupyter\n",
    "Since OpenCV is a computer _vision_ library, you can play around with images and\n",
    "\n",
    "algorithms and get quick visual results. Algorithms such as Viola-Jones and ORB\n",
    "are optimized for speed so that they can be used for real time video. Thus they\n",
    "are can also process static images very fast.\n",
    "\n",
    "Whenever I want to learn a new python library, I  use [Jupyter\n",
    "notebooks] to do some exploratory programming. This is also a tool\n",
    "that is used a lot in academia and science, since it's very well suited for\n",
    "exploring data and sharing code.\n",
    "\n",
    "Jupyter can also be used to edit markdown. In fact this blog post is written in\n",
    "jupyter (you can see the source [here][source]).\n",
    "\n",
    "The apis and output data structures in OpenCV do not seem to follow any common\n",
    "structure, so for a python programmer it can be quite confusing to use. Since I\n",
    "want to use both Viola-Jones (`cv2.CascadeClassifier`) and ORB\n",
    "(`cv2.ORBClassifier`) to detect salient features or points of interest in images.\n",
    "\n",
    "[source]: https://github.com/haakenlid/hken.no/blob/master/pages/blog/cropping-3-python/index.ipynb\n",
    "[Jupyter notebooks]: http://jupyter.org"
   ]
  },
  {
   "cell_type": "markdown",
   "metadata": {},
   "source": [
    "## Feature detector interface \n",
    "\n",
    "Since the OpenCV apis are complex and each algorithm is implemented differently, we'll create some wrapper classes that presents a uniform interface. This would be an example of the Facade or Adapter design pattern. \n",
    "\n",
    "We'll start by defining a base class that defines the interface that all the detectors will use. To make it more explicit we'll define it as an Abstract Base Class, using the standard library `abc` module. I'm also using type annotations, which is a fairly new feature in python 3."
   ]
  },
  {
   "cell_type": "code",
   "execution_count": 2,
   "metadata": {
    "collapsed": false
   },
   "outputs": [],
   "source": [
    "import abc   # abstract base classes\n",
    "from typing import List  # type annotations\n",
    "from utils.cropengine import Feature  # I'll explain this one soon.\n",
    "\n",
    "FileName = str  # type alias\n",
    "\n",
    "class FeatureDetector(abc.ABC):\n",
    "    \"\"\"Abstract base class for the feature detectors.\"\"\"\n",
    "\n",
    "    @abc.abstractmethod\n",
    "    def detect_features(self, fn: FileName) -> List[Feature]:\n",
    "        \"\"\"Find the most salient features of the image.\"\"\"\n",
    "        ...\n",
    "        "
   ]
  },
  {
   "cell_type": "markdown",
   "metadata": {},
   "source": [
    "All our feature detector classes will be subclasses of `FeatureDetector` and must override the `detect_features` method, using the same method signature."
   ]
  },
  {
   "cell_type": "markdown",
   "metadata": {},
   "source": [
    "### Input data"
   ]
  },
  {
   "cell_type": "markdown",
   "metadata": {},
   "source": [
    "Here's the function we'll use to prepare image files for image analyzis. The function reads an image file and optionally resamples it to a standard image size. This is useful for normalizing images to a standard size, as well as for performance. "
   ]
  },
  {
   "cell_type": "code",
   "execution_count": 3,
   "metadata": {
    "collapsed": false
   },
   "outputs": [],
   "source": [
    "import cv2    # The opencv python bindings\n",
    "import numpy  # Python scienticic computing library\n",
    "\n",
    "# OpenCv represents all images as n-dimensional numpy arrays.\n",
    "# For clarity and convenience, we'll just call it \"CvImage\"\n",
    "CVImage = numpy.ndarray\n",
    "\n",
    "def opencv_image(fn: str, resize: int=0) -> CVImage:\n",
    "    \"\"\"Read image file to grayscale openCV int array.\n",
    "\n",
    "    The OpenCV algorithms works on a two dimensional\n",
    "    numpy array integers where 0 is black and 255 is\n",
    "    white. Color images will be converted to grayscale.\n",
    "    \"\"\"\n",
    "    cv_image = cv2.imread(fn)\n",
    "    cv_image = cv2.cvtColor(\n",
    "        cv_image, cv2.COLOR_BGR2GRAY)\n",
    "    if resize > 0:\n",
    "        w, h = cv_image.shape[1::-1]  # type: int, int\n",
    "        multiplier = (resize ** 2 / (w * h)) ** 0.5\n",
    "        dimensions = tuple(\n",
    "            int(round(d * multiplier)) for d in (w, h))\n",
    "        cv_image = cv2.resize(\n",
    "            cv_image, dimensions,\n",
    "            interpolation=cv2.INTER_AREA)\n",
    "    return cv_image\n",
    "\n",
    "def resize_feature(feature: Feature, cv_image: CVImage) -> Feature:\n",
    "    \"\"\"Convert a Feature to a relative coordinate system.\n",
    "\n",
    "    The output will be in a normalized coordinate system\n",
    "    where the image width and height are both 1.\n",
    "    Any part of the Feature that overflows the image\n",
    "    frame will be truncated.\n",
    "    \"\"\"\n",
    "    img_h, img_w = cv_image.shape[:2]  # type: int, int\n",
    "    feature = Feature(\n",
    "        label=feature.label,\n",
    "        weight=feature.weight / (img_w * img_h),\n",
    "        left=max(0, feature.left / img_w),\n",
    "        top=max(0, feature.top / img_h),\n",
    "        right=min(1, feature.right / img_w),\n",
    "        bottom=min(1, feature.bottom / img_h),\n",
    "    )\n",
    "    return feature\n",
    "\n"
   ]
  },
  {
   "cell_type": "markdown",
   "metadata": {},
   "source": [
    "Let's try this function on an example image. First we use a utility function `show_image` to display the source image. Then, we'll convert it to a very low resolution numpy array, and then we'll convert the array back to an image format, so we can compare with the original."
   ]
  },
  {
   "cell_type": "code",
   "execution_count": 4,
   "metadata": {
    "collapsed": false
   },
   "outputs": [
    {
     "data": {
      "text/html": [
       "<img src=\"./monkey-race-wide.jpg\" width=800px />"
      ],
      "text/plain": [
       "<IPython.core.display.HTML object>"
      ]
     },
     "execution_count": 4,
     "metadata": {},
     "output_type": "execute_result"
    }
   ],
   "source": [
    "from utils import display\n",
    "example_image = './monkey-race-wide.jpg'\n",
    "display.show_image(example_image)"
   ]
  },
  {
   "cell_type": "code",
   "execution_count": 5,
   "metadata": {
    "collapsed": false
   },
   "outputs": [
    {
     "data": {
      "text/html": [
       "<img src=\"data:image/png/;base64,iVBORw0KGgoAAAANSUhEUgAAAyAAAAH0CAAAAADgKxakAAAFh0lEQVR4nO3VQSqGARSG0Y/+gZGYmliAkqyfHRgoypxMJEIhSXbwzL5bdM4G3rr1dLcul/XdD2xcD2wsFwMbzwMb7wMbXwMbe+tPbK8/AX+XQCAIBIJAIAgEgkAgCASCQCAIBIJAIAgEgkAgCASCQCAIBIJAIAgEgkAgCASCQCAIBIJAIAgEgkAgCASCQCAIBIJAIAgEgkAgCASCQCAIBIJAIAgEgkAgCASCQCAIBIJAIAgEgkAgCASCQCAIBIJAIAgEgkAgCASCQCAIBIJAIAgEgkAgCASCQCAIBIJAIAgEgkAgCASCQCAIBIJAIAgEgkAgCASCQCAIBIJAIAgEgkAgCASCQCAIBIJAIAgEgkAgCASCQCAIBIJAIAgEgkAgCASCQCAIBIJAIAgEgkAgCASCQCAIBIJAIAgEgkAgCASCQCAIBMLmbmDkdmDjZmBjORzYmDjW0cDGy8DG9/oTPggEgUAQCASBQBAIBIFAEAgEgUAQCASBQBAIBIFAEAgEgUAQCASBQBAIBIFAEAgEgUAQCASBQBAIBIFAEAgEgUAQCASBQBAIBIFAEAgEgUAQCASBQBAIBIFAEAgEgUAQCASBQBAIBIFAEAgEgUAQCASBQBAIBIFAEAgEgUAQCASBQBAIBIFAEAgEgUAQCASBQBAIBIFAEAgEgUAQCASBQBAIBIFAEAgEgUAQCASBQBAIBIFAEAgEgUAQCASBQBAIBIFAEAgEgUAQCASBQBAIBIFAEAgEgUAQCASBQBAIBIFAEAgEgUAQCASBQBAIBIFAEAgEgUAQCITN/sDIx8DG8cDGcjWwsTOw8fBPNj7Xn/BBIAgEgkAgCASCQCAIBIJAIAgEgkAgCASCQCAIBIJAIAgEgkAgCASCQCAIBIJAIAgEgkAgCASCQCAIBIJAIAgEgkAgCASCQCAIBIJAIAgEgkAgCASCQCAIBIJAIAgEgkAgCASCQCAIBIJAIAgEgkAgCASCQCAIBIJAIAgEgkAgCASCQCAIBIJAIAgEgkAgCASCQCAIBIJAIAgEgkAgCASCQCAIBIJAIAgEgkAgCASCQCAIBIJAIAgEgkAgCASCQCAIBIJAIAgEgkAgCASCQCAIBIJAIAgEgkAgCASCQCAIBIJAIAgEgkAgCASCQCAIBIJAIAgEgkAgCATC5nxg5HFg42xgY9kd2PgZ2Hgb2Hgd2Dhdf8IHgSAQCAKBIBAIAoEgEAgCgSAQCAKBIBAIAoEgEAgCgSAQCAKBIBAIAoEgEAgCgSAQCAKBIBAIAoEgEAgCgSAQCAKBIBAIAoEgEAgCgSAQCAKBIBAIAoEgEAgCgSAQCAKBIBAIAoEgEAgCgSAQCAKBIBAIAoEgEAgCgSAQCAKBIBAIAoEgEAgCgSAQCAKBIBAIAoEgEAgCgSAQCAKBIBAIAoEgEAgCgSAQCAKBIBAIAoEgEAgCgSAQCAKBIBAIAoEgEAgCgSAQCAKBIBAIAoEgEAgCgSAQCAKBIBAIAoEgEAgCgSAQCAKBIBAIAoEgEAgCgSAQCAKBsDkYGJnYOBnYWJ4GNr7+ycbbwMb3+hM+CASBQBAIBIFAEAgEgUAQCASBQBAIBIFAEAgEgUAQCASBQBAIBIFAEAgEgUAQCASBQBAIBIFAEAgEgUAQCASBQBAIBIFAEAgEgUAQCASBQBAIBIFAEAgEgUAQCASBQBAIBIFAEAgEgUAQCASBQBAIBIFAEAgEgUAQCASBQBAIBIFAEAgEgUAQCASBQBAIBIFAEAgEgUAQCASBQBAIBIFAEAgEgUAQCASBQBAIBIFAEAgEgUAQCASBQBAIBIFAEAgEgUAQCASBQBAIBIFAEAgEgUAQCASBQBAIBIFAEAgEgUAQCASBQBAIBIFAEAgEgUAQCASBQPgFT/Yfg5pRO1YAAAAASUVORK5CYII=\" width=800px />"
      ],
      "text/plain": [
       "<IPython.core.display.HTML object>"
      ]
     },
     "execution_count": 5,
     "metadata": {},
     "output_type": "execute_result"
    }
   ],
   "source": [
    "img_array = opencv_image(example_image, 6)\n",
    "display.show_image(img_array) # convert to png and display"
   ]
  },
  {
   "cell_type": "markdown",
   "metadata": {},
   "source": [
    "Let's see what the raw numpy array looks like."
   ]
  },
  {
   "cell_type": "code",
   "execution_count": 6,
   "metadata": {
    "collapsed": false
   },
   "outputs": [
    {
     "data": {
      "text/plain": [
       "array([[208, 181, 137,  85,  68,  58,  52,  68],\n",
       "       [179, 149,  96, 116,  55,  98,  83,  79],\n",
       "       [196, 170, 142,  97,  63,  76,  54,  46],\n",
       "       [129, 109,  41,  55,  53,  50,  36,  86],\n",
       "       [155, 155, 157, 139, 133, 127, 114, 110]], dtype=uint8)"
      ]
     },
     "execution_count": 6,
     "metadata": {},
     "output_type": "execute_result"
    }
   ],
   "source": [
    "img_array # This is the data type that opencv uses."
   ]
  },
  {
   "cell_type": "markdown",
   "metadata": {},
   "source": [
    "When we prepare the image for a computer vision algorithm, we'll try to find the smallest input size that still gives us acceptable results. Shrinking the input image can save a lot of execution time, but at some point, downsampling will result in low quality output from the algorithms. In this case, there's not much useful data left from the original image."
   ]
  },
  {
   "cell_type": "markdown",
   "metadata": {},
   "source": [
    "### Output data\n",
    "We know what the input looks like, let's figure out what output data we expect from our feature detector. \n",
    "To make the output portable, we'll ultimately store and transmit it in json format. It will be an array of objects."
   ]
  },
  {
   "cell_type": "code",
   "execution_count": 7,
   "metadata": {
    "collapsed": false
   },
   "outputs": [],
   "source": [
    "# This is what the json data looks like. \n",
    "# Conveniently it's also valid python code.\n",
    "data = [\n",
    "  {\n",
    "    \"label\": \"keypoint one\",\n",
    "    \"x\": 0.25,\n",
    "    \"y\": 0.25,\n",
    "    \"width\": 0.30,\n",
    "    \"height\": 0.50,\n",
    "    \"weight\": 2\n",
    "  },\n",
    "  {\n",
    "    \"label\": \"keypoint two\",\n",
    "    \"x\": 0.20,\n",
    "    \"y\": 0.20,\n",
    "    \"width\": 0.15,\n",
    "    \"height\": 0.25,\n",
    "    \"weight\": 1\n",
    "  }\n",
    "]"
   ]
  },
  {
   "cell_type": "markdown",
   "metadata": {},
   "source": [
    "Each feature is represented as a rectangle in a coordinate system where (0, 0) is the upper left corner of the image and (1, 1) is the lower right corner of the image. This is convenient since we are going to use this data to render html and svg graphics.\n",
    "\n",
    "* `label` is a string that will be used as a css class for the feature, so we can distinguish various types of features.\n",
    "* `x` and `y` are the coordinates of the upper left corner of the feature\n",
    "* `weight` is a quantity representing the relative importance or saliency of a given feature.\n",
    "\n",
    "To visualize these feature, we'll use reactjs and node to create a svg and html widget. "
   ]
  },
  {
   "cell_type": "code",
   "execution_count": 8,
   "metadata": {
    "collapsed": false,
    "scrolled": false
   },
   "outputs": [
    {
     "data": {
      "text/html": [
       "<div class=\"cropboxWrapper\" style=\"flex-direction:column;display:flex;\"><div class=\"masterImgWrapper infoParent\"><img class=\"masterImg\" src=\"./monkey-race-wide.jpg\"/><div class=\"overlayWrapper\"><svg class=\"overlay inactive\" viewBox=\"0 0 1 1\" preserveAspectRatio=\"none\" height=\"100%\" width=\"100%\"><symbol id=\"profile-face\" viewBox=\"0 0 100 100\"><path d=\"m15.3 69.6c-2.7-1.8-10.1-3.3-7.91-7.2 2.91-5.2 9.11-11.9\n",
       "              8.21-17.5-4-24.2 10-39.8 33.9-39.9 24-.09 37.5 12.8 37.5 38.2 0\n",
       "              35.7-51.1 60.8-59.8 48.5-8.8-12.6-7.6-17.4-11.9-22.1z\"></path></symbol><symbol id=\"frontal-face\" viewBox=\"0 0 100 100\"><path d=\"m50 5c-12.8 0-25.8 7.73-30 16.9-4.19 9.17-.562 14.4-.768\n",
       "              29.3-.205 15 6.92 30 13.4 34.9 6.49 4.88 11.3 8.89 17.3 8.89 6.04\n",
       "              0 10.8-4.01 17.3-8.89 6.6-4.9 13.7-19.9 13.5-34.9-.2-14.9\n",
       "              3.5-20.1-.7-29.3s-17.2-16.9-30-16.9z\"></path></symbol><path class=\"outside\" fill-rule=\"evenodd\" d=\"M0, 0H1V1H0ZM0.2, 0.2V0.75H0.55V0.2Z\"></path><g class=\"inside\"><path class=\"box\" d=\"M0.2, 0.2V0.75H0.55V0.2Z\"></path><svg class=\"handles\" viewBox=\"0 0 1 1\" preserveAspectRatio=\"none\" height=\"0.55\" width=\"0.35000000000000003\" x=\"0.2\" y=\"0.2\"><rect class=\"1000\" width=\"0.1\" height=\"1.1\" x=\"-0.05\" y=\"-0.05\" style=\"cursor:ew-resize;\"></rect><rect class=\"0100\" width=\"1.1\" height=\"0.1\" x=\"-0.05\" y=\"-0.05\" style=\"cursor:ns-resize;\"></rect><rect class=\"0010\" width=\"0.1\" height=\"1.1\" x=\"0.95\" y=\"-0.05\" style=\"cursor:ew-resize;\"></rect><rect class=\"0001\" width=\"1.1\" height=\"0.1\" x=\"-0.05\" y=\"0.95\" style=\"cursor:ns-resize;\"></rect><rect class=\"1100\" width=\"0.1\" height=\"0.1\" x=\"-0.05\" y=\"-0.05\" style=\"cursor:nw-resize;\"></rect><rect class=\"0110\" width=\"0.1\" height=\"0.1\" x=\"0.95\" y=\"-0.05\" style=\"cursor:ne-resize;\"></rect><rect class=\"0011\" width=\"0.1\" height=\"0.1\" x=\"0.95\" y=\"0.95\" style=\"cursor:se-resize;\"></rect><rect class=\"1001\" width=\"0.1\" height=\"0.1\" x=\"-0.05\" y=\"0.95\" style=\"cursor:sw-resize;\"></rect></svg></g><g class=\"centerPoint\"><ellipse class=\"handle\" style=\"opacity:0;\" cx=\"0.4\" cy=\"0.5\" rx=\"0.05\" ry=\"0.08\"></ellipse><path class=\"cross\" d=\"M0, 0.5H1M0.4, 0V1\"></path></g><svg class=\"feature keypoint one\" preserveAspectRatio=\"none\" viewBox=\"0 0 2 2\" x=\"0.25\" y=\"0.25\" width=\"0.3\" height=\"0.5\"><g><circle r=\"1\" cx=\"1\" cy=\"1\" class=\"back\"></circle><circle r=\"1\" cx=\"1\" cy=\"1\" class=\"front\"></circle><path class=\"cross\" d=\"M0,1h0.9m0.2,0h0.9M1,0v0.9m0,0.2v0.9\" transform=\"rotate(45 1 1)\"></path></g><text x=\"1\" y=\"0.08\" text-anchor=\"middle\"><tspan class=\"label\" x=\"1\" dy=\"0.16\" style=\"font-size:0.13333333333333333px;\">label: keypoint one</tspan><tspan class=\"weight\" x=\"1\" dy=\"0.16\" style=\"font-size:0.13333333333333333px;\">weight: 2</tspan></text></svg><svg class=\"feature keypoint two\" preserveAspectRatio=\"none\" viewBox=\"0 0 2 2\" x=\"0.2\" y=\"0.2\" width=\"0.15\" height=\"0.25\"><g><circle r=\"1\" cx=\"1\" cy=\"1\" class=\"back\"></circle><circle r=\"1\" cx=\"1\" cy=\"1\" class=\"front\"></circle><path class=\"cross\" d=\"M0,1h0.9m0.2,0h0.9M1,0v0.9m0,0.2v0.9\" transform=\"rotate(45 1 1)\"></path></g><text x=\"1\" y=\"0.16\" text-anchor=\"middle\"><tspan class=\"label\" x=\"1\" dy=\"0.32\" style=\"font-size:0.26666666666666666px;\">label: keypoint two</tspan><tspan class=\"weight\" x=\"1\" dy=\"0.32\" style=\"font-size:0.26666666666666666px;\">weight: 1</tspan></text></svg></svg></div><div class=\"infoBoxWrapper\"><div class=\"infoBox\"><div class=\"infoRow\"><div class=\"label\">left:</div><div class=\"value\">0.200</div></div><div class=\"infoRow\"><div class=\"label\">top:</div><div class=\"value\">0.200</div></div><div class=\"infoRow\"><div class=\"label\">right:</div><div class=\"value\">0.750</div></div><div class=\"infoRow\"><div class=\"label\">bottom:</div><div class=\"value\">0.550</div></div><div class=\"infoRow\"><div class=\"label\">x:</div><div class=\"value\">0.500</div></div><div class=\"infoRow\"><div class=\"label\">y:</div><div class=\"value\">0.400</div></div></div></div></div></div>\n"
      ],
      "text/plain": [
       "<IPython.core.display.HTML object>"
      ]
     },
     "execution_count": 8,
     "metadata": {},
     "output_type": "execute_result"
    }
   ],
   "source": [
    "from utils.reactjs import render  \n",
    "# Renders the widget with react, redux and node.js\n",
    "features = [Feature.deserialize(item) for item in data]\n",
    "render(example_image, features)"
   ]
  },
  {
   "cell_type": "markdown",
   "metadata": {},
   "source": [
    "As you can see, the `Feature` class can be serialized and deserialized, which makes it possible to convert to json and back. In addition, the class implements implements some dunderscore methods, such as `__add__`,  `__mul__` and `__and__` so that we can perform operations using the built-in operators `+`, `*`, `&` etc. "
   ]
  },
  {
   "cell_type": "markdown",
   "metadata": {},
   "source": [
    "Multiplication will change the size and weight of the Feature, but the center point and label will not change."
   ]
  },
  {
   "cell_type": "code",
   "execution_count": 9,
   "metadata": {
    "collapsed": false
   },
   "outputs": [
    {
     "data": {
      "text/plain": [
       "Feature(top=0.4, left=0.34, right=0.46, weight=0.8, bottom=0.6, label='keypoint one')"
      ]
     },
     "execution_count": 9,
     "metadata": {},
     "output_type": "execute_result"
    }
   ],
   "source": [
    "features[0] * 0.4"
   ]
  },
  {
   "cell_type": "markdown",
   "metadata": {},
   "source": [
    "Adding two features together will give us a new Box that circumscribes both features."
   ]
  },
  {
   "cell_type": "code",
   "execution_count": 10,
   "metadata": {
    "collapsed": false
   },
   "outputs": [
    {
     "data": {
      "text/plain": [
       "Box(bottom=0.75, left=0.2, right=0.55, top=0.2)"
      ]
     },
     "execution_count": 10,
     "metadata": {},
     "output_type": "execute_result"
    }
   ],
   "source": [
    "features[0] + features[1]"
   ]
  },
  {
   "cell_type": "markdown",
   "metadata": {},
   "source": [
    "The `&` operator will return a Box that is the intersection of the two operand features."
   ]
  },
  {
   "cell_type": "code",
   "execution_count": 11,
   "metadata": {
    "collapsed": false
   },
   "outputs": [
    {
     "data": {
      "text/plain": [
       "Box(bottom=0.45, left=0.25, right=0.35, top=0.25)"
      ]
     },
     "execution_count": 11,
     "metadata": {},
     "output_type": "execute_result"
    }
   ],
   "source": [
    "features[0] & features[1]"
   ]
  },
  {
   "cell_type": "markdown",
   "metadata": {},
   "source": [
    "### Putting it together\n",
    "For convenience we'll add two useful static methods to the `FeatureDetector` class "
   ]
  },
  {
   "cell_type": "code",
   "execution_count": 12,
   "metadata": {
    "collapsed": true
   },
   "outputs": [],
   "source": [
    "FeatureDetector._opencv_image = staticmethod(opencv_image)\n",
    "FeatureDetector._resize_feature = staticmethod(resize_feature)"
   ]
  },
  {
   "cell_type": "markdown",
   "metadata": {},
   "source": [
    "Let's make an actual feature detector class. We'll not use any computer vision algoritms. Instead we'll just return some mock features. The widget sort of resembles a gun sight, so why not let it look even more so."
   ]
  },
  {
   "cell_type": "code",
   "execution_count": 13,
   "metadata": {
    "collapsed": false
   },
   "outputs": [
    {
     "data": {
      "text/html": [
       "<div class=\"cropboxWrapper\" style=\"flex-direction:column;display:flex;\"><div class=\"masterImgWrapper infoParent\"><img class=\"masterImg\" src=\"./monkey-race-wide.jpg\"/><div class=\"overlayWrapper\"><svg class=\"overlay inactive\" viewBox=\"0 0 1 1\" preserveAspectRatio=\"none\" height=\"100%\" width=\"100%\"><symbol id=\"profile-face\" viewBox=\"0 0 100 100\"><path d=\"m15.3 69.6c-2.7-1.8-10.1-3.3-7.91-7.2 2.91-5.2 9.11-11.9\n",
       "              8.21-17.5-4-24.2 10-39.8 33.9-39.9 24-.09 37.5 12.8 37.5 38.2 0\n",
       "              35.7-51.1 60.8-59.8 48.5-8.8-12.6-7.6-17.4-11.9-22.1z\"></path></symbol><symbol id=\"frontal-face\" viewBox=\"0 0 100 100\"><path d=\"m50 5c-12.8 0-25.8 7.73-30 16.9-4.19 9.17-.562 14.4-.768\n",
       "              29.3-.205 15 6.92 30 13.4 34.9 6.49 4.88 11.3 8.89 17.3 8.89 6.04\n",
       "              0 10.8-4.01 17.3-8.89 6.6-4.9 13.7-19.9 13.5-34.9-.2-14.9\n",
       "              3.5-20.1-.7-29.3s-17.2-16.9-30-16.9z\"></path></symbol><path class=\"outside\" fill-rule=\"evenodd\" d=\"M0, 0H1V1H0ZM0.18774703557312256, 0V1H0.8122529644268774V0Z\"></path><g class=\"inside\"><path class=\"box\" d=\"M0.18774703557312256, 0V1H0.8122529644268774V0Z\"></path><svg class=\"handles\" viewBox=\"0 0 1 1\" preserveAspectRatio=\"none\" height=\"1\" width=\"0.6245059288537549\" x=\"0.18774703557312256\" y=\"0\"><rect class=\"1000\" width=\"0.1\" height=\"1.1\" x=\"-0.05\" y=\"-0.05\" style=\"cursor:ew-resize;\"></rect><rect class=\"0100\" width=\"1.1\" height=\"0.1\" x=\"-0.05\" y=\"-0.05\" style=\"cursor:ns-resize;\"></rect><rect class=\"0010\" width=\"0.1\" height=\"1.1\" x=\"0.95\" y=\"-0.05\" style=\"cursor:ew-resize;\"></rect><rect class=\"0001\" width=\"1.1\" height=\"0.1\" x=\"-0.05\" y=\"0.95\" style=\"cursor:ns-resize;\"></rect><rect class=\"1100\" width=\"0.1\" height=\"0.1\" x=\"-0.05\" y=\"-0.05\" style=\"cursor:nw-resize;\"></rect><rect class=\"0110\" width=\"0.1\" height=\"0.1\" x=\"0.95\" y=\"-0.05\" style=\"cursor:ne-resize;\"></rect><rect class=\"0011\" width=\"0.1\" height=\"0.1\" x=\"0.95\" y=\"0.95\" style=\"cursor:se-resize;\"></rect><rect class=\"1001\" width=\"0.1\" height=\"0.1\" x=\"-0.05\" y=\"0.95\" style=\"cursor:sw-resize;\"></rect></svg></g><g class=\"centerPoint\"><ellipse class=\"handle\" style=\"opacity:0;\" cx=\"0.5\" cy=\"0.5\" rx=\"0.05\" ry=\"0.08\"></ellipse><path class=\"cross\" d=\"M0, 0.5H1M0.5, 0V1\"></path></g><svg class=\"feature mock keypoint\" preserveAspectRatio=\"none\" viewBox=\"0 0 2 2\" x=\"0.188\" y=\"0\" width=\"0.625\" height=\"1\"><g><circle r=\"1\" cx=\"1\" cy=\"1\" class=\"back\"></circle><circle r=\"1\" cx=\"1\" cy=\"1\" class=\"front\"></circle><path class=\"cross\" d=\"M0,1h0.9m0.2,0h0.9M1,0v0.9m0,0.2v0.9\" transform=\"rotate(45 1 1)\"></path></g><text x=\"1\" y=\"0.0384\" text-anchor=\"middle\"><tspan class=\"label\" x=\"1\" dy=\"0.0768\" style=\"font-size:0.064px;\">label: mock keypoint</tspan><tspan class=\"weight\" x=\"1\" dy=\"0.0768\" style=\"font-size:0.064px;\">weight: 10</tspan></text></svg><svg class=\"feature mock keypoint\" preserveAspectRatio=\"none\" viewBox=\"0 0 2 2\" x=\"0.25\" y=\"0.1\" width=\"0.5\" height=\"0.8\"><g><circle r=\"1\" cx=\"1\" cy=\"1\" class=\"back\"></circle><circle r=\"1\" cx=\"1\" cy=\"1\" class=\"front\"></circle><path class=\"cross\" d=\"M0,1h0.9m0.2,0h0.9M1,0v0.9m0,0.2v0.9\" transform=\"rotate(45 1 1)\"></path></g><text x=\"1\" y=\"0.048\" text-anchor=\"middle\"><tspan class=\"label\" x=\"1\" dy=\"0.096\" style=\"font-size:0.08px;\">label: mock keypoint</tspan><tspan class=\"weight\" x=\"1\" dy=\"0.096\" style=\"font-size:0.08px;\">weight: 8</tspan></text></svg><svg class=\"feature mock keypoint\" preserveAspectRatio=\"none\" viewBox=\"0 0 2 2\" x=\"0.313\" y=\"0.2\" width=\"0.375\" height=\"0.6\"><g><circle r=\"1\" cx=\"1\" cy=\"1\" class=\"back\"></circle><circle r=\"1\" cx=\"1\" cy=\"1\" class=\"front\"></circle><path class=\"cross\" d=\"M0,1h0.9m0.2,0h0.9M1,0v0.9m0,0.2v0.9\" transform=\"rotate(45 1 1)\"></path></g><text x=\"1\" y=\"0.064\" text-anchor=\"middle\"><tspan class=\"label\" x=\"1\" dy=\"0.128\" style=\"font-size:0.10666666666666667px;\">label: mock keypoint</tspan><tspan class=\"weight\" x=\"1\" dy=\"0.128\" style=\"font-size:0.10666666666666667px;\">weight: 6</tspan></text></svg><svg class=\"feature mock keypoint\" preserveAspectRatio=\"none\" viewBox=\"0 0 2 2\" x=\"0.375\" y=\"0.3\" width=\"0.25\" height=\"0.4\"><g><circle r=\"1\" cx=\"1\" cy=\"1\" class=\"back\"></circle><circle r=\"1\" cx=\"1\" cy=\"1\" class=\"front\"></circle><path class=\"cross\" d=\"M0,1h0.9m0.2,0h0.9M1,0v0.9m0,0.2v0.9\" transform=\"rotate(45 1 1)\"></path></g><text x=\"1\" y=\"0.096\" text-anchor=\"middle\"><tspan class=\"label\" x=\"1\" dy=\"0.192\" style=\"font-size:0.16px;\">label: mock keypoint</tspan><tspan class=\"weight\" x=\"1\" dy=\"0.192\" style=\"font-size:0.16px;\">weight: 4</tspan></text></svg><svg class=\"feature mock keypoint\" preserveAspectRatio=\"none\" viewBox=\"0 0 2 2\" x=\"0.438\" y=\"0.4\" width=\"0.125\" height=\"0.2\"><g><circle r=\"1\" cx=\"1\" cy=\"1\" class=\"back\"></circle><circle r=\"1\" cx=\"1\" cy=\"1\" class=\"front\"></circle><path class=\"cross\" d=\"M0,1h0.9m0.2,0h0.9M1,0v0.9m0,0.2v0.9\" transform=\"rotate(45 1 1)\"></path></g><text x=\"1\" y=\"0.192\" text-anchor=\"middle\"><tspan class=\"label\" x=\"1\" dy=\"0.384\" style=\"font-size:0.32px;\">label: mock keypoint</tspan><tspan class=\"weight\" x=\"1\" dy=\"0.384\" style=\"font-size:0.32px;\">weight: 2</tspan></text></svg></svg></div><div class=\"infoBoxWrapper\"><div class=\"infoBox\"><div class=\"infoRow\"><div class=\"label\">left:</div><div class=\"value\">0.000</div></div><div class=\"infoRow\"><div class=\"label\">top:</div><div class=\"value\">0.188</div></div><div class=\"infoRow\"><div class=\"label\">right:</div><div class=\"value\">1.000</div></div><div class=\"infoRow\"><div class=\"label\">bottom:</div><div class=\"value\">0.812</div></div><div class=\"infoRow\"><div class=\"label\">x:</div><div class=\"value\">0.500</div></div><div class=\"infoRow\"><div class=\"label\">y:</div><div class=\"value\">0.500</div></div></div></div></div></div>\n"
      ],
      "text/plain": [
       "<IPython.core.display.HTML object>"
      ]
     },
     "execution_count": 13,
     "metadata": {},
     "output_type": "execute_result"
    }
   ],
   "source": [
    "class MockFeatureDetector(FeatureDetector):\n",
    "\n",
    "    \"\"\"Example feature detector interface.\"\"\"\n",
    "    \n",
    "    def __init__(self, n: int=3, size: int=200) -> None:\n",
    "        self._number = n\n",
    "        self._size = size\n",
    "\n",
    "    def detect_features(self, fn: FileName) -> List[Feature]:\n",
    "        \"\"\"Concentric features at center of the image\"\"\"\n",
    "        cv_image = self._opencv_image(fn, 200)\n",
    "        img_h, img_w = cv_image.shape[:2]  \n",
    "        middle = Feature(1, 'mock keypoint', 0, 0, img_w, img_h)\n",
    "        middle.width = middle.height = min(img_w, img_h)\n",
    "        middle = self._resize_feature(middle, cv_image)\n",
    "        middle.weight = 10\n",
    "        num = self._number\n",
    "        sizes = ((num - m) / num for m in range(num))\n",
    "        return [middle * size for size in sizes]\n",
    "\n",
    "detector = MockFeatureDetector(5)\n",
    "render(example_image, detector.detect_features(example_image))"
   ]
  },
  {
   "cell_type": "markdown",
   "metadata": {},
   "source": [
    "Excellent. But still quite useless. Let's try to use an actual computer vision algorithm to find some real features. "
   ]
  },
  {
   "cell_type": "markdown",
   "metadata": {},
   "source": [
    "## Keypoint detector\n",
    "* What is ORB?\n",
    "* link to documentation"
   ]
  },
  {
   "cell_type": "markdown",
   "metadata": {},
   "source": [
    "### Code"
   ]
  },
  {
   "cell_type": "code",
   "execution_count": 14,
   "metadata": {
    "collapsed": true
   },
   "outputs": [],
   "source": [
    "class KeypointDetector(FeatureDetector):\n",
    "\n",
    "    \"\"\"Feature detector using OpenCVs ORB algorithm\"\"\"\n",
    "\n",
    "    CSS_CLASS_NAME = 'ORB keypoint'\n",
    "\n",
    "    def __init__(self, n: int=10, padding: float=1.0,\n",
    "                 imagesize: int=200, **kwargs) -> None:\n",
    "        self._imagesize = imagesize\n",
    "        self._padding = padding\n",
    "        _kwargs = {\n",
    "            \"nfeatures\": n + 1,\n",
    "            \"scaleFactor\": 1.5,\n",
    "            \"patchSize\": self._imagesize // 10,\n",
    "            \"edgeThreshold\": self._imagesize // 10,\n",
    "            \"WTA_K\": 2,\n",
    "            \"scoreType\": cv2.ORB_FAST_SCORE,\n",
    "        }\n",
    "        _kwargs.update(kwargs)\n",
    "        self._detector = cv2.ORB_create(**_kwargs)\n",
    "\n",
    "    def detect_features(self, fn: str) -> List[Feature]:\n",
    "        \"\"\"Find interesting keypoints in the image.\"\"\"\n",
    "        features = []\n",
    "        cv_image = self._opencv_image(fn, self._imagesize)\n",
    "        keypoints = self._detector.detectAndCompute(\n",
    "            image=cv_image, mask=None)[0]\n",
    "\n",
    "        for keypoint in keypoints:\n",
    "            x, y = keypoint.pt  # type: float, float\n",
    "            radius = keypoint.size / 2  # type: float\n",
    "            weight = radius * keypoint.response ** 2\n",
    "            feature = Feature(\n",
    "                label=self.CSS_CLASS_NAME,\n",
    "                weight=weight,\n",
    "                left=x - radius,\n",
    "                top=y - radius,\n",
    "                right=x + radius,\n",
    "                bottom=y + radius\n",
    "            )\n",
    "            feature = feature * self._padding\n",
    "            feature = self._resize_feature(feature, cv_image)\n",
    "            features.append(feature)\n",
    "\n",
    "        return sorted(features, reverse=True)\n"
   ]
  },
  {
   "cell_type": "markdown",
   "metadata": {},
   "source": [
    "### Output"
   ]
  },
  {
   "cell_type": "code",
   "execution_count": 15,
   "metadata": {
    "collapsed": false,
    "scrolled": false
   },
   "outputs": [
    {
     "data": {
      "text/html": [
       "<div class=\"cropboxWrapper\" style=\"flex-direction:column;display:flex;\"><div class=\"masterImgWrapper infoParent\"><img class=\"masterImg\" src=\"./Henri-Cartier-Bresson-Hyeres-France-1932.jpg\"/><div class=\"overlayWrapper\"><svg class=\"overlay inactive\" viewBox=\"0 0 1 1\" preserveAspectRatio=\"none\" height=\"100%\" width=\"100%\"><symbol id=\"profile-face\" viewBox=\"0 0 100 100\"><path d=\"m15.3 69.6c-2.7-1.8-10.1-3.3-7.91-7.2 2.91-5.2 9.11-11.9\n",
       "              8.21-17.5-4-24.2 10-39.8 33.9-39.9 24-.09 37.5 12.8 37.5 38.2 0\n",
       "              35.7-51.1 60.8-59.8 48.5-8.8-12.6-7.6-17.4-11.9-22.1z\"></path></symbol><symbol id=\"frontal-face\" viewBox=\"0 0 100 100\"><path d=\"m50 5c-12.8 0-25.8 7.73-30 16.9-4.19 9.17-.562 14.4-.768\n",
       "              29.3-.205 15 6.92 30 13.4 34.9 6.49 4.88 11.3 8.89 17.3 8.89 6.04\n",
       "              0 10.8-4.01 17.3-8.89 6.6-4.9 13.7-19.9 13.5-34.9-.2-14.9\n",
       "              3.5-20.1-.7-29.3s-17.2-16.9-30-16.9z\"></path></symbol><path class=\"outside\" fill-rule=\"evenodd\" d=\"M0, 0H1V1H0ZM0.10450819672131148, 0.16463414634146342V0.7820121951219512H0.5368852459016393V0.16463414634146342Z\"></path><g class=\"inside\"><path class=\"box\" d=\"M0.10450819672131148, 0.16463414634146342V0.7820121951219512H0.5368852459016393V0.16463414634146342Z\"></path><svg class=\"handles\" viewBox=\"0 0 1 1\" preserveAspectRatio=\"none\" height=\"0.6173780487804877\" width=\"0.4323770491803278\" x=\"0.10450819672131148\" y=\"0.16463414634146342\"><rect class=\"1000\" width=\"0.1\" height=\"1.1\" x=\"-0.05\" y=\"-0.05\" style=\"cursor:ew-resize;\"></rect><rect class=\"0100\" width=\"1.1\" height=\"0.1\" x=\"-0.05\" y=\"-0.05\" style=\"cursor:ns-resize;\"></rect><rect class=\"0010\" width=\"0.1\" height=\"1.1\" x=\"0.95\" y=\"-0.05\" style=\"cursor:ew-resize;\"></rect><rect class=\"0001\" width=\"1.1\" height=\"0.1\" x=\"-0.05\" y=\"0.95\" style=\"cursor:ns-resize;\"></rect><rect class=\"1100\" width=\"0.1\" height=\"0.1\" x=\"-0.05\" y=\"-0.05\" style=\"cursor:nw-resize;\"></rect><rect class=\"0110\" width=\"0.1\" height=\"0.1\" x=\"0.95\" y=\"-0.05\" style=\"cursor:ne-resize;\"></rect><rect class=\"0011\" width=\"0.1\" height=\"0.1\" x=\"0.95\" y=\"0.95\" style=\"cursor:se-resize;\"></rect><rect class=\"1001\" width=\"0.1\" height=\"0.1\" x=\"-0.05\" y=\"0.95\" style=\"cursor:sw-resize;\"></rect></svg></g><g class=\"centerPoint\"><ellipse class=\"handle\" style=\"opacity:0;\" cx=\"0.2581967213114754\" cy=\"0.3018292682926829\" rx=\"0.05\" ry=\"0.07439222042139385\"></ellipse><path class=\"cross\" d=\"M0, 0.3018292682926829H1M0.2581967213114754, 0V1\"></path></g><svg class=\"feature ORB keypoint\" preserveAspectRatio=\"none\" viewBox=\"0 0 2 2\" x=\"0.166\" y=\"0.165\" width=\"0.184\" height=\"0.274\"><g><circle r=\"1\" cx=\"1\" cy=\"1\" class=\"back\"></circle><circle r=\"1\" cx=\"1\" cy=\"1\" class=\"front\"></circle><path class=\"cross\" d=\"M0,1h0.9m0.2,0h0.9M1,0v0.9m0,0.2v0.9\" transform=\"rotate(45 1 1)\"></path></g><text x=\"1\" y=\"0.13043478260869565\" text-anchor=\"middle\"><tspan class=\"label\" x=\"1\" dy=\"0.2608695652173913\" style=\"font-size:0.2173913043478261px;\">label: ORB keypoint</tspan><tspan class=\"weight\" x=\"1\" dy=\"0.2608695652173913\" style=\"font-size:0.2173913043478261px;\">weight: 18.016</tspan></text></svg><svg class=\"feature ORB keypoint\" preserveAspectRatio=\"none\" viewBox=\"0 0 2 2\" x=\"0.141\" y=\"0.54\" width=\"0.123\" height=\"0.183\"><g><circle r=\"1\" cx=\"1\" cy=\"1\" class=\"back\"></circle><circle r=\"1\" cx=\"1\" cy=\"1\" class=\"front\"></circle><path class=\"cross\" d=\"M0,1h0.9m0.2,0h0.9M1,0v0.9m0,0.2v0.9\" transform=\"rotate(45 1 1)\"></path></g><text x=\"1\" y=\"0.19512195121951217\" text-anchor=\"middle\"><tspan class=\"label\" x=\"1\" dy=\"0.39024390243902435\" style=\"font-size:0.3252032520325203px;\">label: ORB keypoint</tspan><tspan class=\"weight\" x=\"1\" dy=\"0.39024390243902435\" style=\"font-size:0.3252032520325203px;\">weight: 13.818</tspan></text></svg><svg class=\"feature ORB keypoint\" preserveAspectRatio=\"none\" viewBox=\"0 0 2 2\" x=\"0.197\" y=\"0.21\" width=\"0.123\" height=\"0.183\"><g><circle r=\"1\" cx=\"1\" cy=\"1\" class=\"back\"></circle><circle r=\"1\" cx=\"1\" cy=\"1\" class=\"front\"></circle><path class=\"cross\" d=\"M0,1h0.9m0.2,0h0.9M1,0v0.9m0,0.2v0.9\" transform=\"rotate(45 1 1)\"></path></g><text x=\"1\" y=\"0.19512195121951217\" text-anchor=\"middle\"><tspan class=\"label\" x=\"1\" dy=\"0.39024390243902435\" style=\"font-size:0.3252032520325203px;\">label: ORB keypoint</tspan><tspan class=\"weight\" x=\"1\" dy=\"0.39024390243902435\" style=\"font-size:0.3252032520325203px;\">weight: 13.675</tspan></text></svg><svg class=\"feature ORB keypoint\" preserveAspectRatio=\"none\" viewBox=\"0 0 2 2\" x=\"0.12\" y=\"0.508\" width=\"0.184\" height=\"0.274\"><g><circle r=\"1\" cx=\"1\" cy=\"1\" class=\"back\"></circle><circle r=\"1\" cx=\"1\" cy=\"1\" class=\"front\"></circle><path class=\"cross\" d=\"M0,1h0.9m0.2,0h0.9M1,0v0.9m0,0.2v0.9\" transform=\"rotate(45 1 1)\"></path></g><text x=\"1\" y=\"0.13043478260869565\" text-anchor=\"middle\"><tspan class=\"label\" x=\"1\" dy=\"0.2608695652173913\" style=\"font-size:0.2173913043478261px;\">label: ORB keypoint</tspan><tspan class=\"weight\" x=\"1\" dy=\"0.2608695652173913\" style=\"font-size:0.2173913043478261px;\">weight: 13.335</tspan></text></svg><svg class=\"feature ORB keypoint\" preserveAspectRatio=\"none\" viewBox=\"0 0 2 2\" x=\"0.105\" y=\"0.54\" width=\"0.123\" height=\"0.183\"><g><circle r=\"1\" cx=\"1\" cy=\"1\" class=\"back\"></circle><circle r=\"1\" cx=\"1\" cy=\"1\" class=\"front\"></circle><path class=\"cross\" d=\"M0,1h0.9m0.2,0h0.9M1,0v0.9m0,0.2v0.9\" transform=\"rotate(45 1 1)\"></path></g><text x=\"1\" y=\"0.19512195121951217\" text-anchor=\"middle\"><tspan class=\"label\" x=\"1\" dy=\"0.39024390243902435\" style=\"font-size:0.3252032520325203px;\">label: ORB keypoint</tspan><tspan class=\"weight\" x=\"1\" dy=\"0.39024390243902435\" style=\"font-size:0.3252032520325203px;\">weight: 11.48</tspan></text></svg><svg class=\"feature ORB keypoint\" preserveAspectRatio=\"none\" viewBox=\"0 0 2 2\" x=\"0.156\" y=\"0.573\" width=\"0.082\" height=\"0.122\"><g><circle r=\"1\" cx=\"1\" cy=\"1\" class=\"back\"></circle><circle r=\"1\" cx=\"1\" cy=\"1\" class=\"front\"></circle><path class=\"cross\" d=\"M0,1h0.9m0.2,0h0.9M1,0v0.9m0,0.2v0.9\" transform=\"rotate(45 1 1)\"></path></g><text x=\"1\" y=\"0.2926829268292683\" text-anchor=\"middle\"><tspan class=\"label\" x=\"1\" dy=\"0.5853658536585366\" style=\"font-size:0.4878048780487805px;\">label: ORB keypoint</tspan><tspan class=\"weight\" x=\"1\" dy=\"0.5853658536585366\" style=\"font-size:0.4878048780487805px;\">weight: 10.502</tspan></text></svg><svg class=\"feature ORB keypoint\" preserveAspectRatio=\"none\" viewBox=\"0 0 2 2\" x=\"0.455\" y=\"0.476\" width=\"0.082\" height=\"0.122\"><g><circle r=\"1\" cx=\"1\" cy=\"1\" class=\"back\"></circle><circle r=\"1\" cx=\"1\" cy=\"1\" class=\"front\"></circle><path class=\"cross\" d=\"M0,1h0.9m0.2,0h0.9M1,0v0.9m0,0.2v0.9\" transform=\"rotate(45 1 1)\"></path></g><text x=\"1\" y=\"0.2926829268292683\" text-anchor=\"middle\"><tspan class=\"label\" x=\"1\" dy=\"0.5853658536585366\" style=\"font-size:0.4878048780487805px;\">label: ORB keypoint</tspan><tspan class=\"weight\" x=\"1\" dy=\"0.5853658536585366\" style=\"font-size:0.4878048780487805px;\">weight: 7.653</tspan></text></svg><svg class=\"feature ORB keypoint\" preserveAspectRatio=\"none\" viewBox=\"0 0 2 2\" x=\"0.283\" y=\"0.573\" width=\"0.082\" height=\"0.122\"><g><circle r=\"1\" cx=\"1\" cy=\"1\" class=\"back\"></circle><circle r=\"1\" cx=\"1\" cy=\"1\" class=\"front\"></circle><path class=\"cross\" d=\"M0,1h0.9m0.2,0h0.9M1,0v0.9m0,0.2v0.9\" transform=\"rotate(45 1 1)\"></path></g><text x=\"1\" y=\"0.2926829268292683\" text-anchor=\"middle\"><tspan class=\"label\" x=\"1\" dy=\"0.5853658536585366\" style=\"font-size:0.4878048780487805px;\">label: ORB keypoint</tspan><tspan class=\"weight\" x=\"1\" dy=\"0.5853658536585366\" style=\"font-size:0.4878048780487805px;\">weight: 7.222</tspan></text></svg><svg class=\"feature ORB keypoint\" preserveAspectRatio=\"none\" viewBox=\"0 0 2 2\" x=\"0.27\" y=\"0.256\" width=\"0.082\" height=\"0.122\"><g><circle r=\"1\" cx=\"1\" cy=\"1\" class=\"back\"></circle><circle r=\"1\" cx=\"1\" cy=\"1\" class=\"front\"></circle><path class=\"cross\" d=\"M0,1h0.9m0.2,0h0.9M1,0v0.9m0,0.2v0.9\" transform=\"rotate(45 1 1)\"></path></g><text x=\"1\" y=\"0.2926829268292683\" text-anchor=\"middle\"><tspan class=\"label\" x=\"1\" dy=\"0.5853658536585366\" style=\"font-size:0.4878048780487805px;\">label: ORB keypoint</tspan><tspan class=\"weight\" x=\"1\" dy=\"0.5853658536585366\" style=\"font-size:0.4878048780487805px;\">weight: 7.053</tspan></text></svg><svg class=\"feature ORB keypoint\" preserveAspectRatio=\"none\" viewBox=\"0 0 2 2\" x=\"0.221\" y=\"0.247\" width=\"0.277\" height=\"0.412\"><g><circle r=\"1\" cx=\"1\" cy=\"1\" class=\"back\"></circle><circle r=\"1\" cx=\"1\" cy=\"1\" class=\"front\"></circle><path class=\"cross\" d=\"M0,1h0.9m0.2,0h0.9M1,0v0.9m0,0.2v0.9\" transform=\"rotate(45 1 1)\"></path></g><text x=\"1\" y=\"0.08664259927797834\" text-anchor=\"middle\"><tspan class=\"label\" x=\"1\" dy=\"0.17328519855595667\" style=\"font-size:0.1444043321299639px;\">label: ORB keypoint</tspan><tspan class=\"weight\" x=\"1\" dy=\"0.17328519855595667\" style=\"font-size:0.1444043321299639px;\">weight: 5.001</tspan></text></svg></svg></div><div class=\"infoBoxWrapper\"><div class=\"infoBox\"><div class=\"infoRow\"><div class=\"label\">left:</div><div class=\"value\">0.165</div></div><div class=\"infoRow\"><div class=\"label\">top:</div><div class=\"value\">0.105</div></div><div class=\"infoRow\"><div class=\"label\">right:</div><div class=\"value\">0.782</div></div><div class=\"infoRow\"><div class=\"label\">bottom:</div><div class=\"value\">0.537</div></div><div class=\"infoRow\"><div class=\"label\">x:</div><div class=\"value\">0.302</div></div><div class=\"infoRow\"><div class=\"label\">y:</div><div class=\"value\">0.258</div></div></div></div></div></div>\n"
      ],
      "text/plain": [
       "<IPython.core.display.HTML object>"
      ]
     },
     "execution_count": 15,
     "metadata": {},
     "output_type": "execute_result"
    }
   ],
   "source": [
    "detector = KeypointDetector()\n",
    "example_image = './Henri-Cartier-Bresson-Hyeres-France-1932.jpg'\n",
    "render(example_image, detector.detect_features(example_image))"
   ]
  },
  {
   "cell_type": "markdown",
   "metadata": {},
   "source": [
    "* discussion"
   ]
  },
  {
   "cell_type": "markdown",
   "metadata": {},
   "source": [
    "## Face detection\n",
    "* What are Haas-cascades?"
   ]
  },
  {
   "cell_type": "markdown",
   "metadata": {},
   "source": [
    "### Code"
   ]
  },
  {
   "cell_type": "code",
   "execution_count": 16,
   "metadata": {
    "collapsed": true
   },
   "outputs": [],
   "source": [
    "import os\n",
    "class Cascade:\n",
    "\n",
    "    \"\"\"Wrapper for Haar cascade classifier\"\"\"\n",
    "\n",
    "    _DIR = '/usr/share/opencv/haarcascades/'\n",
    "\n",
    "    def __init__(self, label: str, fn: FileName,\n",
    "                 size: float=1, weight: float=100) -> None:\n",
    "        self.label = label\n",
    "        self.size = size\n",
    "        self.weight = weight\n",
    "        self._file = os.path.join(self._DIR, fn)\n",
    "        self.classifier = cv2.CascadeClassifier(self._file)\n",
    "\n",
    "\n",
    "class FaceDetector(FeatureDetector):\n",
    "\n",
    "    \"\"\"Face detector using OpenCVs Viola-Jones algorithm and\n",
    "    and Haar cascade training data files classifying human\n",
    "    frontal and profile faces.\"\"\"\n",
    "\n",
    "    _CASCADES = [\n",
    "        Cascade('frontal face',\n",
    "                'haarcascade_frontalface_default.xml',\n",
    "                size=1.0, weight=100),\n",
    "        Cascade('alt face',\n",
    "                'haarcascade_frontalface_alt.xml',\n",
    "                size=1.2, weight=100),\n",
    "        Cascade('profile face',\n",
    "                'haarcascade_profileface.xml',\n",
    "                size=0.9, weight=50),\n",
    "    ]\n",
    "\n",
    "    def __init__(self, n: int=10, padding: float=1.2,\n",
    "                 imagesize: int=600, **kwargs) -> None:\n",
    "        self._number = n\n",
    "        self._imagesize = imagesize\n",
    "        self._padding = padding\n",
    "        self._cascades = self._CASCADES\n",
    "        minsize = max(25, imagesize // 20)\n",
    "        self._kwargs = {\n",
    "            \"minSize\": (minsize, minsize),\n",
    "            \"scaleFactor\": 1.2,\n",
    "            \"minNeighbors\": 5,\n",
    "        }\n",
    "        self._kwargs.update(kwargs)\n",
    "\n",
    "    def detect_features(self, fn: FileName) -> List[Feature]:\n",
    "        \"\"\"Find faces in the image.\"\"\"\n",
    "        features = []  # type: List[Feature]\n",
    "        cv_image = self._opencv_image(fn, self._imagesize)\n",
    "\n",
    "        for cascade in self._cascades:\n",
    "            padding = self._padding * cascade.size\n",
    "            detect = cascade.classifier.detectMultiScale\n",
    "            faces = detect(cv_image, **self._kwargs)\n",
    "\n",
    "            for left, top, width, height in faces:\n",
    "                weight = height * width * cascade.weight\n",
    "                face = Feature(\n",
    "                    label=cascade.label,\n",
    "                    weight=weight,\n",
    "                    left=left,\n",
    "                    top=top,\n",
    "                    right=left + width,\n",
    "                    bottom=top + height,\n",
    "                )\n",
    "                face = face * padding\n",
    "                face = self._resize_feature(face, cv_image)\n",
    "                features.append(face)\n",
    "\n",
    "        return sorted(features, reverse=True)[:self._number]\n",
    "\n"
   ]
  },
  {
   "cell_type": "markdown",
   "metadata": {},
   "source": [
    "### Output"
   ]
  },
  {
   "cell_type": "code",
   "execution_count": 17,
   "metadata": {
    "collapsed": false
   },
   "outputs": [
    {
     "data": {
      "text/html": [
       "<div class=\"cropboxWrapper\" style=\"flex-direction:column;display:flex;\"><div class=\"masterImgWrapper infoParent\"><img class=\"masterImg\" src=\"./Henri-Cartier-Bresson-Alicante-1932.jpg\"/><div class=\"overlayWrapper\"><svg class=\"overlay inactive\" viewBox=\"0 0 1 1\" preserveAspectRatio=\"none\" height=\"100%\" width=\"100%\"><symbol id=\"profile-face\" viewBox=\"0 0 100 100\"><path d=\"m15.3 69.6c-2.7-1.8-10.1-3.3-7.91-7.2 2.91-5.2 9.11-11.9\n",
       "              8.21-17.5-4-24.2 10-39.8 33.9-39.9 24-.09 37.5 12.8 37.5 38.2 0\n",
       "              35.7-51.1 60.8-59.8 48.5-8.8-12.6-7.6-17.4-11.9-22.1z\"></path></symbol><symbol id=\"frontal-face\" viewBox=\"0 0 100 100\"><path d=\"m50 5c-12.8 0-25.8 7.73-30 16.9-4.19 9.17-.562 14.4-.768\n",
       "              29.3-.205 15 6.92 30 13.4 34.9 6.49 4.88 11.3 8.89 17.3 8.89 6.04\n",
       "              0 10.8-4.01 17.3-8.89 6.6-4.9 13.7-19.9 13.5-34.9-.2-14.9\n",
       "              3.5-20.1-.7-29.3s-17.2-16.9-30-16.9z\"></path></symbol><path class=\"outside\" fill-rule=\"evenodd\" d=\"M0, 0H1V1H0ZM0.2159673024523161, 0.05616326530612246V0.61H0.8847956403269756V0.05616326530612246Z\"></path><g class=\"inside\"><path class=\"box\" d=\"M0.2159673024523161, 0.05616326530612246V0.61H0.8847956403269756V0.05616326530612246Z\"></path><svg class=\"handles\" viewBox=\"0 0 1 1\" preserveAspectRatio=\"none\" height=\"0.5538367346938775\" width=\"0.6688283378746595\" x=\"0.2159673024523161\" y=\"0.05616326530612246\"><rect class=\"1000\" width=\"0.1\" height=\"1.1\" x=\"-0.05\" y=\"-0.05\" style=\"cursor:ew-resize;\"></rect><rect class=\"0100\" width=\"1.1\" height=\"0.1\" x=\"-0.05\" y=\"-0.05\" style=\"cursor:ns-resize;\"></rect><rect class=\"0010\" width=\"0.1\" height=\"1.1\" x=\"0.95\" y=\"-0.05\" style=\"cursor:ew-resize;\"></rect><rect class=\"0001\" width=\"1.1\" height=\"0.1\" x=\"-0.05\" y=\"0.95\" style=\"cursor:ns-resize;\"></rect><rect class=\"1100\" width=\"0.1\" height=\"0.1\" x=\"-0.05\" y=\"-0.05\" style=\"cursor:nw-resize;\"></rect><rect class=\"0110\" width=\"0.1\" height=\"0.1\" x=\"0.95\" y=\"-0.05\" style=\"cursor:ne-resize;\"></rect><rect class=\"0011\" width=\"0.1\" height=\"0.1\" x=\"0.95\" y=\"0.95\" style=\"cursor:se-resize;\"></rect><rect class=\"1001\" width=\"0.1\" height=\"0.1\" x=\"-0.05\" y=\"0.95\" style=\"cursor:sw-resize;\"></rect></svg></g><g class=\"centerPoint\"><ellipse class=\"handle\" style=\"opacity:0;\" cx=\"0.6355585831062671\" cy=\"0.30306122448979594\" rx=\"0.05\" ry=\"0.07491883116883118\"></ellipse><path class=\"cross\" d=\"M0, 0.30306122448979594H1M0.6355585831062671, 0V1\"></path></g><svg class=\"feature frontal face\" preserveAspectRatio=\"none\" viewBox=\"0 0 2 2\" x=\"0.528\" y=\"0.143\" width=\"0.214\" height=\"0.321\"><g><use xlink:href=\"#frontal-face\" x=\"0\" y=\"0\" height=\"2\" width=\"2\" class=\"back\"></use><use xlink:href=\"#frontal-face\" x=\"0\" y=\"0\" height=\"2\" width=\"2\" class=\"front\"></use></g><text x=\"1\" y=\"0.11214953271028039\" text-anchor=\"middle\"><tspan class=\"label\" x=\"1\" dy=\"0.22429906542056077\" style=\"font-size:0.1869158878504673px;\">label: frontal face</tspan><tspan class=\"weight\" x=\"1\" dy=\"0.22429906542056077\" style=\"font-size:0.1869158878504673px;\">weight: 5.726</tspan></text></svg><svg class=\"feature frontal face\" preserveAspectRatio=\"none\" viewBox=\"0 0 2 2\" x=\"0.687\" y=\"0.343\" width=\"0.178\" height=\"0.267\"><g><use xlink:href=\"#frontal-face\" x=\"0\" y=\"0\" height=\"2\" width=\"2\" class=\"back\"></use><use xlink:href=\"#frontal-face\" x=\"0\" y=\"0\" height=\"2\" width=\"2\" class=\"front\"></use></g><text x=\"1\" y=\"0.1348314606741573\" text-anchor=\"middle\"><tspan class=\"label\" x=\"1\" dy=\"0.2696629213483146\" style=\"font-size:0.22471910112359553px;\">label: frontal face</tspan><tspan class=\"weight\" x=\"1\" dy=\"0.2696629213483146\" style=\"font-size:0.22471910112359553px;\">weight: 3.964</tspan></text></svg><svg class=\"feature alt face\" preserveAspectRatio=\"none\" viewBox=\"0 0 2 2\" x=\"0.216\" y=\"0.056\" width=\"0.165\" height=\"0.247\"><g><use xlink:href=\"#frontal-face\" x=\"0\" y=\"0\" height=\"2\" width=\"2\" class=\"back\"></use><use xlink:href=\"#frontal-face\" x=\"0\" y=\"0\" height=\"2\" width=\"2\" class=\"front\"></use></g><text x=\"1\" y=\"0.14545454545454545\" text-anchor=\"middle\"><tspan class=\"label\" x=\"1\" dy=\"0.2909090909090909\" style=\"font-size:0.24242424242424243px;\">label: alt face</tspan><tspan class=\"weight\" x=\"1\" dy=\"0.2909090909090909\" style=\"font-size:0.24242424242424243px;\">weight: 2.825</tspan></text></svg><svg class=\"feature frontal face\" preserveAspectRatio=\"none\" viewBox=\"0 0 2 2\" x=\"0.225\" y=\"0.072\" width=\"0.146\" height=\"0.218\"><g><use xlink:href=\"#frontal-face\" x=\"0\" y=\"0\" height=\"2\" width=\"2\" class=\"back\"></use><use xlink:href=\"#frontal-face\" x=\"0\" y=\"0\" height=\"2\" width=\"2\" class=\"front\"></use></g><text x=\"1\" y=\"0.16438356164383564\" text-anchor=\"middle\"><tspan class=\"label\" x=\"1\" dy=\"0.32876712328767127\" style=\"font-size:0.27397260273972607px;\">label: frontal face</tspan><tspan class=\"weight\" x=\"1\" dy=\"0.32876712328767127\" style=\"font-size:0.27397260273972607px;\">weight: 2.643</tspan></text></svg><svg class=\"feature profile face\" preserveAspectRatio=\"none\" viewBox=\"0 0 2 2\" x=\"0.721\" y=\"0.344\" width=\"0.163\" height=\"0.245\"><g><use xlink:href=\"#profile-face\" x=\"0\" y=\"0\" height=\"2\" width=\"2\" class=\"back\"></use><use xlink:href=\"#profile-face\" x=\"0\" y=\"0\" height=\"2\" width=\"2\" class=\"front\"></use></g><text x=\"1\" y=\"0.14723926380368096\" text-anchor=\"middle\"><tspan class=\"label\" x=\"1\" dy=\"0.29447852760736193\" style=\"font-size:0.24539877300613497px;\">label: profile face</tspan><tspan class=\"weight\" x=\"1\" dy=\"0.29447852760736193\" style=\"font-size:0.24539877300613497px;\">weight: 1.85</tspan></text></svg></svg></div><div class=\"infoBoxWrapper\"><div class=\"infoBox\"><div class=\"infoRow\"><div class=\"label\">left:</div><div class=\"value\">0.056</div></div><div class=\"infoRow\"><div class=\"label\">top:</div><div class=\"value\">0.216</div></div><div class=\"infoRow\"><div class=\"label\">right:</div><div class=\"value\">0.610</div></div><div class=\"infoRow\"><div class=\"label\">bottom:</div><div class=\"value\">0.885</div></div><div class=\"infoRow\"><div class=\"label\">x:</div><div class=\"value\">0.303</div></div><div class=\"infoRow\"><div class=\"label\">y:</div><div class=\"value\">0.636</div></div></div></div></div></div>\n"
      ],
      "text/plain": [
       "<IPython.core.display.HTML object>"
      ]
     },
     "execution_count": 17,
     "metadata": {},
     "output_type": "execute_result"
    }
   ],
   "source": [
    "detector = FaceDetector()\n",
    "example_image = './Henri-Cartier-Bresson-Alicante-1932.jpg'\n",
    "render(example_image, detector.detect_features(example_image))"
   ]
  },
  {
   "cell_type": "markdown",
   "metadata": {},
   "source": [
    "* discussion"
   ]
  },
  {
   "cell_type": "markdown",
   "metadata": {},
   "source": [
    "## Combined feature detector\n",
    "* explanation"
   ]
  },
  {
   "cell_type": "markdown",
   "metadata": {},
   "source": [
    "### Code"
   ]
  },
  {
   "cell_type": "code",
   "execution_count": 18,
   "metadata": {
    "collapsed": true
   },
   "outputs": [],
   "source": [
    "class HybridDetector(FeatureDetector):\n",
    "\n",
    "    \"\"\"Detector using a hybrid strategy to find salient\n",
    "    features in images.\n",
    "\n",
    "    Tries to detect_features faces first. If the faces are\n",
    "    small relative to the image, will detect_features\n",
    "    keypoints as well.  If no faces are detected, will fall\n",
    "    back to a pure KeypointDetector.\"\"\"\n",
    "\n",
    "    BREAKPOINT = 0.15\n",
    "\n",
    "    def __init__(self, n=10) -> None:\n",
    "        self.primary = FaceDetector(n)\n",
    "        self.fallback = KeypointDetector(n)\n",
    "        self.breakpoint = self.BREAKPOINT\n",
    "        self._number = n\n",
    "\n",
    "    def detect_features(self, fn: FileName) -> List[Feature]:\n",
    "        \"\"\"Find faces and/or keypoints in the image.\"\"\"\n",
    "        faces = self.primary.detect_features(fn)\n",
    "        if faces and sum(faces).size > self.breakpoint:\n",
    "            return faces\n",
    "        features = faces + self.fallback.detect_features(fn)\n",
    "        return features[:self._number]\n"
   ]
  },
  {
   "cell_type": "markdown",
   "metadata": {},
   "source": [
    "### Output"
   ]
  },
  {
   "cell_type": "code",
   "execution_count": 19,
   "metadata": {
    "collapsed": false
   },
   "outputs": [
    {
     "data": {
      "text/html": [
       "<div class=\"cropboxWrapper\" style=\"flex-direction:column;display:flex;\"><div class=\"masterImgWrapper infoParent\"><img class=\"masterImg\" src=\"./Gordon-Parks-New-York-1958.jpg\"/><div class=\"overlayWrapper\"><svg class=\"overlay inactive\" viewBox=\"0 0 1 1\" preserveAspectRatio=\"none\" height=\"100%\" width=\"100%\"><symbol id=\"profile-face\" viewBox=\"0 0 100 100\"><path d=\"m15.3 69.6c-2.7-1.8-10.1-3.3-7.91-7.2 2.91-5.2 9.11-11.9\n",
       "              8.21-17.5-4-24.2 10-39.8 33.9-39.9 24-.09 37.5 12.8 37.5 38.2 0\n",
       "              35.7-51.1 60.8-59.8 48.5-8.8-12.6-7.6-17.4-11.9-22.1z\"></path></symbol><symbol id=\"frontal-face\" viewBox=\"0 0 100 100\"><path d=\"m50 5c-12.8 0-25.8 7.73-30 16.9-4.19 9.17-.562 14.4-.768\n",
       "              29.3-.205 15 6.92 30 13.4 34.9 6.49 4.88 11.3 8.89 17.3 8.89 6.04\n",
       "              0 10.8-4.01 17.3-8.89 6.6-4.9 13.7-19.9 13.5-34.9-.2-14.9\n",
       "              3.5-20.1-.7-29.3s-17.2-16.9-30-16.9z\"></path></symbol><path class=\"outside\" fill-rule=\"evenodd\" d=\"M0, 0H1V1H0ZM0.36587257617728536, 0.08867469879518074V0.7319277108433735H0.7562240663900415V0.08867469879518074Z\"></path><g class=\"inside\"><path class=\"box\" d=\"M0.36587257617728536, 0.08867469879518074V0.7319277108433735H0.7562240663900415V0.08867469879518074Z\"></path><svg class=\"handles\" viewBox=\"0 0 1 1\" preserveAspectRatio=\"none\" height=\"0.6432530120481927\" width=\"0.3903514902127561\" x=\"0.36587257617728536\" y=\"0.08867469879518074\"><rect class=\"1000\" width=\"0.1\" height=\"1.1\" x=\"-0.05\" y=\"-0.05\" style=\"cursor:ew-resize;\"></rect><rect class=\"0100\" width=\"1.1\" height=\"0.1\" x=\"-0.05\" y=\"-0.05\" style=\"cursor:ns-resize;\"></rect><rect class=\"0010\" width=\"0.1\" height=\"1.1\" x=\"0.95\" y=\"-0.05\" style=\"cursor:ew-resize;\"></rect><rect class=\"0001\" width=\"1.1\" height=\"0.1\" x=\"-0.05\" y=\"0.95\" style=\"cursor:ns-resize;\"></rect><rect class=\"1100\" width=\"0.1\" height=\"0.1\" x=\"-0.05\" y=\"-0.05\" style=\"cursor:nw-resize;\"></rect><rect class=\"0110\" width=\"0.1\" height=\"0.1\" x=\"0.95\" y=\"-0.05\" style=\"cursor:ne-resize;\"></rect><rect class=\"0011\" width=\"0.1\" height=\"0.1\" x=\"0.95\" y=\"0.95\" style=\"cursor:se-resize;\"></rect><rect class=\"1001\" width=\"0.1\" height=\"0.1\" x=\"-0.05\" y=\"0.95\" style=\"cursor:sw-resize;\"></rect></svg></g><g class=\"centerPoint\"><ellipse class=\"handle\" style=\"opacity:0;\" cx=\"0.43767313019390586\" cy=\"0.1927710843373494\" rx=\"0.05\" ry=\"0.07246376811594203\"></ellipse><path class=\"cross\" d=\"M0, 0.1927710843373494H1M0.43767313019390586, 0V1\"></path></g><svg class=\"feature alt face\" preserveAspectRatio=\"none\" viewBox=\"0 0 2 2\" x=\"0.366\" y=\"0.089\" width=\"0.144\" height=\"0.208\"><g><use xlink:href=\"#frontal-face\" x=\"0\" y=\"0\" height=\"2\" width=\"2\" class=\"back\"></use><use xlink:href=\"#frontal-face\" x=\"0\" y=\"0\" height=\"2\" width=\"2\" class=\"front\"></use></g><text x=\"1\" y=\"0.16666666666666666\" text-anchor=\"middle\"><tspan class=\"label\" x=\"1\" dy=\"0.3333333333333333\" style=\"font-size:0.2777777777777778px;\">label: alt face</tspan><tspan class=\"weight\" x=\"1\" dy=\"0.3333333333333333\" style=\"font-size:0.2777777777777778px;\">weight: 2.076</tspan></text></svg><svg class=\"feature frontal face\" preserveAspectRatio=\"none\" viewBox=\"0 0 2 2\" x=\"0.383\" y=\"0.111\" width=\"0.113\" height=\"0.164\"><g><use xlink:href=\"#frontal-face\" x=\"0\" y=\"0\" height=\"2\" width=\"2\" class=\"back\"></use><use xlink:href=\"#frontal-face\" x=\"0\" y=\"0\" height=\"2\" width=\"2\" class=\"front\"></use></g><text x=\"1\" y=\"0.21238938053097345\" text-anchor=\"middle\"><tspan class=\"label\" x=\"1\" dy=\"0.4247787610619469\" style=\"font-size:0.35398230088495575px;\">label: frontal face</tspan><tspan class=\"weight\" x=\"1\" dy=\"0.4247787610619469\" style=\"font-size:0.35398230088495575px;\">weight: 1.543</tspan></text></svg><svg class=\"feature ORB keypoint\" preserveAspectRatio=\"none\" viewBox=\"0 0 2 2\" x=\"0.639\" y=\"0.548\" width=\"0.083\" height=\"0.12\"><g><circle r=\"1\" cx=\"1\" cy=\"1\" class=\"back\"></circle><circle r=\"1\" cx=\"1\" cy=\"1\" class=\"front\"></circle><path class=\"cross\" d=\"M0,1h0.9m0.2,0h0.9M1,0v0.9m0,0.2v0.9\" transform=\"rotate(45 1 1)\"></path></g><text x=\"1\" y=\"0.2891566265060241\" text-anchor=\"middle\"><tspan class=\"label\" x=\"1\" dy=\"0.5783132530120482\" style=\"font-size:0.4819277108433735px;\">label: ORB keypoint</tspan><tspan class=\"weight\" x=\"1\" dy=\"0.5783132530120482\" style=\"font-size:0.4819277108433735px;\">weight: 7.055</tspan></text></svg><svg class=\"feature ORB keypoint\" preserveAspectRatio=\"none\" viewBox=\"0 0 2 2\" x=\"0.616\" y=\"0.515\" width=\"0.124\" height=\"0.181\"><g><circle r=\"1\" cx=\"1\" cy=\"1\" class=\"back\"></circle><circle r=\"1\" cx=\"1\" cy=\"1\" class=\"front\"></circle><path class=\"cross\" d=\"M0,1h0.9m0.2,0h0.9M1,0v0.9m0,0.2v0.9\" transform=\"rotate(45 1 1)\"></path></g><text x=\"1\" y=\"0.1935483870967742\" text-anchor=\"middle\"><tspan class=\"label\" x=\"1\" dy=\"0.3870967741935484\" style=\"font-size:0.3225806451612903px;\">label: ORB keypoint</tspan><tspan class=\"weight\" x=\"1\" dy=\"0.3870967741935484\" style=\"font-size:0.3225806451612903px;\">weight: 6.434</tspan></text></svg><svg class=\"feature ORB keypoint\" preserveAspectRatio=\"none\" viewBox=\"0 0 2 2\" x=\"0.591\" y=\"0.524\" width=\"0.124\" height=\"0.181\"><g><circle r=\"1\" cx=\"1\" cy=\"1\" class=\"back\"></circle><circle r=\"1\" cx=\"1\" cy=\"1\" class=\"front\"></circle><path class=\"cross\" d=\"M0,1h0.9m0.2,0h0.9M1,0v0.9m0,0.2v0.9\" transform=\"rotate(45 1 1)\"></path></g><text x=\"1\" y=\"0.1935483870967742\" text-anchor=\"middle\"><tspan class=\"label\" x=\"1\" dy=\"0.3870967741935484\" style=\"font-size:0.3225806451612903px;\">label: ORB keypoint</tspan><tspan class=\"weight\" x=\"1\" dy=\"0.3870967741935484\" style=\"font-size:0.3225806451612903px;\">weight: 6.434</tspan></text></svg><svg class=\"feature ORB keypoint\" preserveAspectRatio=\"none\" viewBox=\"0 0 2 2\" x=\"0.614\" y=\"0.548\" width=\"0.083\" height=\"0.12\"><g><circle r=\"1\" cx=\"1\" cy=\"1\" class=\"back\"></circle><circle r=\"1\" cx=\"1\" cy=\"1\" class=\"front\"></circle><path class=\"cross\" d=\"M0,1h0.9m0.2,0h0.9M1,0v0.9m0,0.2v0.9\" transform=\"rotate(45 1 1)\"></path></g><text x=\"1\" y=\"0.2891566265060241\" text-anchor=\"middle\"><tspan class=\"label\" x=\"1\" dy=\"0.5783132530120482\" style=\"font-size:0.4819277108433735px;\">label: ORB keypoint</tspan><tspan class=\"weight\" x=\"1\" dy=\"0.5783132530120482\" style=\"font-size:0.4819277108433735px;\">weight: 6.161</tspan></text></svg><svg class=\"feature ORB keypoint\" preserveAspectRatio=\"none\" viewBox=\"0 0 2 2\" x=\"0.585\" y=\"0.542\" width=\"0.083\" height=\"0.12\"><g><circle r=\"1\" cx=\"1\" cy=\"1\" class=\"back\"></circle><circle r=\"1\" cx=\"1\" cy=\"1\" class=\"front\"></circle><path class=\"cross\" d=\"M0,1h0.9m0.2,0h0.9M1,0v0.9m0,0.2v0.9\" transform=\"rotate(45 1 1)\"></path></g><text x=\"1\" y=\"0.2891566265060241\" text-anchor=\"middle\"><tspan class=\"label\" x=\"1\" dy=\"0.5783132530120482\" style=\"font-size:0.4819277108433735px;\">label: ORB keypoint</tspan><tspan class=\"weight\" x=\"1\" dy=\"0.5783132530120482\" style=\"font-size:0.4819277108433735px;\">weight: 5.928</tspan></text></svg><svg class=\"feature ORB keypoint\" preserveAspectRatio=\"none\" viewBox=\"0 0 2 2\" x=\"0.476\" y=\"0.264\" width=\"0.28\" height=\"0.407\"><g><circle r=\"1\" cx=\"1\" cy=\"1\" class=\"back\"></circle><circle r=\"1\" cx=\"1\" cy=\"1\" class=\"front\"></circle><path class=\"cross\" d=\"M0,1h0.9m0.2,0h0.9M1,0v0.9m0,0.2v0.9\" transform=\"rotate(45 1 1)\"></path></g><text x=\"1\" y=\"0.0857142857142857\" text-anchor=\"middle\"><tspan class=\"label\" x=\"1\" dy=\"0.1714285714285714\" style=\"font-size:0.14285714285714285px;\">label: ORB keypoint</tspan><tspan class=\"weight\" x=\"1\" dy=\"0.1714285714285714\" style=\"font-size:0.14285714285714285px;\">weight: 5.673</tspan></text></svg><svg class=\"feature ORB keypoint\" preserveAspectRatio=\"none\" viewBox=\"0 0 2 2\" x=\"0.485\" y=\"0.461\" width=\"0.187\" height=\"0.271\"><g><circle r=\"1\" cx=\"1\" cy=\"1\" class=\"back\"></circle><circle r=\"1\" cx=\"1\" cy=\"1\" class=\"front\"></circle><path class=\"cross\" d=\"M0,1h0.9m0.2,0h0.9M1,0v0.9m0,0.2v0.9\" transform=\"rotate(45 1 1)\"></path></g><text x=\"1\" y=\"0.1283422459893048\" text-anchor=\"middle\"><tspan class=\"label\" x=\"1\" dy=\"0.2566844919786096\" style=\"font-size:0.21390374331550802px;\">label: ORB keypoint</tspan><tspan class=\"weight\" x=\"1\" dy=\"0.2566844919786096\" style=\"font-size:0.21390374331550802px;\">weight: 5.292</tspan></text></svg><svg class=\"feature ORB keypoint\" preserveAspectRatio=\"none\" viewBox=\"0 0 2 2\" x=\"0.551\" y=\"0.298\" width=\"0.187\" height=\"0.271\"><g><circle r=\"1\" cx=\"1\" cy=\"1\" class=\"back\"></circle><circle r=\"1\" cx=\"1\" cy=\"1\" class=\"front\"></circle><path class=\"cross\" d=\"M0,1h0.9m0.2,0h0.9M1,0v0.9m0,0.2v0.9\" transform=\"rotate(45 1 1)\"></path></g><text x=\"1\" y=\"0.1283422459893048\" text-anchor=\"middle\"><tspan class=\"label\" x=\"1\" dy=\"0.2566844919786096\" style=\"font-size:0.21390374331550802px;\">label: ORB keypoint</tspan><tspan class=\"weight\" x=\"1\" dy=\"0.2566844919786096\" style=\"font-size:0.21390374331550802px;\">weight: 4.657</tspan></text></svg></svg></div><div class=\"infoBoxWrapper\"><div class=\"infoBox\"><div class=\"infoRow\"><div class=\"label\">left:</div><div class=\"value\">0.089</div></div><div class=\"infoRow\"><div class=\"label\">top:</div><div class=\"value\">0.366</div></div><div class=\"infoRow\"><div class=\"label\">right:</div><div class=\"value\">0.732</div></div><div class=\"infoRow\"><div class=\"label\">bottom:</div><div class=\"value\">0.756</div></div><div class=\"infoRow\"><div class=\"label\">x:</div><div class=\"value\">0.193</div></div><div class=\"infoRow\"><div class=\"label\">y:</div><div class=\"value\">0.438</div></div></div></div></div></div>\n"
      ],
      "text/plain": [
       "<IPython.core.display.HTML object>"
      ]
     },
     "execution_count": 19,
     "metadata": {},
     "output_type": "execute_result"
    }
   ],
   "source": [
    "detector = HybridDetector()\n",
    "example_image = './Gordon-Parks-New-York-1958.jpg'\n",
    "render(example_image, detector.detect_features(example_image))"
   ]
  },
  {
   "cell_type": "markdown",
   "metadata": {},
   "source": [
    "* discussion"
   ]
  },
  {
   "cell_type": "markdown",
   "metadata": {},
   "source": [
    "## Summary\n",
    "* it's easy!\n",
    "* links\n",
    "    * OpenCV guy\n",
    "    * documentation\n",
    "    * sorl-thumbnail\n",
    "* My own stuff\n",
    "    * Algorithm\n",
    "    * React component"
   ]
  },
  {
   "cell_type": "code",
   "execution_count": 20,
   "metadata": {
    "collapsed": false,
    "scrolled": false
   },
   "outputs": [
    {
     "data": {
      "text/html": [
       "<h4>Sebastiao-Salgado-Serra-Pelada-1986.jpg</h4><p>detect: 856ms render: 536ms</p><div class=\"cropboxWrapper\" style=\"flex-direction:column;display:flex;\"><div class=\"masterImgWrapper infoParent\"><img class=\"masterImg\" src=\"Sebastiao-Salgado-Serra-Pelada-1986.jpg\"/><div class=\"overlayWrapper\"><svg class=\"overlay inactive\" viewBox=\"0 0 1 1\" preserveAspectRatio=\"none\" height=\"100%\" width=\"100%\"><symbol id=\"profile-face\" viewBox=\"0 0 100 100\"><path d=\"m15.3 69.6c-2.7-1.8-10.1-3.3-7.91-7.2 2.91-5.2 9.11-11.9\n",
       "              8.21-17.5-4-24.2 10-39.8 33.9-39.9 24-.09 37.5 12.8 37.5 38.2 0\n",
       "              35.7-51.1 60.8-59.8 48.5-8.8-12.6-7.6-17.4-11.9-22.1z\"></path></symbol><symbol id=\"frontal-face\" viewBox=\"0 0 100 100\"><path d=\"m50 5c-12.8 0-25.8 7.73-30 16.9-4.19 9.17-.562 14.4-.768\n",
       "              29.3-.205 15 6.92 30 13.4 34.9 6.49 4.88 11.3 8.89 17.3 8.89 6.04\n",
       "              0 10.8-4.01 17.3-8.89 6.6-4.9 13.7-19.9 13.5-34.9-.2-14.9\n",
       "              3.5-20.1-.7-29.3s-17.2-16.9-30-16.9z\"></path></symbol><path class=\"outside\" fill-rule=\"evenodd\" d=\"M0, 0H1V1H0ZM0.24495967741935484, 0.1527777777777778V0.7083333333333334H0.8891129032258065V0.1527777777777778Z\"></path><g class=\"inside\"><path class=\"box\" d=\"M0.24495967741935484, 0.1527777777777778V0.7083333333333334H0.8891129032258065V0.1527777777777778Z\"></path><svg class=\"handles\" viewBox=\"0 0 1 1\" preserveAspectRatio=\"none\" height=\"0.5555555555555556\" width=\"0.6441532258064516\" x=\"0.24495967741935484\" y=\"0.1527777777777778\"><rect class=\"1000\" width=\"0.1\" height=\"1.1\" x=\"-0.05\" y=\"-0.05\" style=\"cursor:ew-resize;\"></rect><rect class=\"0100\" width=\"1.1\" height=\"0.1\" x=\"-0.05\" y=\"-0.05\" style=\"cursor:ns-resize;\"></rect><rect class=\"0010\" width=\"0.1\" height=\"1.1\" x=\"0.95\" y=\"-0.05\" style=\"cursor:ew-resize;\"></rect><rect class=\"0001\" width=\"1.1\" height=\"0.1\" x=\"-0.05\" y=\"0.95\" style=\"cursor:ns-resize;\"></rect><rect class=\"1100\" width=\"0.1\" height=\"0.1\" x=\"-0.05\" y=\"-0.05\" style=\"cursor:nw-resize;\"></rect><rect class=\"0110\" width=\"0.1\" height=\"0.1\" x=\"0.95\" y=\"-0.05\" style=\"cursor:ne-resize;\"></rect><rect class=\"0011\" width=\"0.1\" height=\"0.1\" x=\"0.95\" y=\"0.95\" style=\"cursor:se-resize;\"></rect><rect class=\"1001\" width=\"0.1\" height=\"0.1\" x=\"-0.05\" y=\"0.95\" style=\"cursor:sw-resize;\"></rect></svg></g><g class=\"centerPoint\"><ellipse class=\"handle\" style=\"opacity:0;\" cx=\"0.3943472409152086\" cy=\"0.43092783505154636\" rx=\"0.05\" ry=\"0.0765945945945946\"></ellipse><path class=\"cross\" d=\"M0, 0.43092783505154636H1M0.3943472409152086, 0V1\"></path></g><svg class=\"feature alt face\" preserveAspectRatio=\"none\" viewBox=\"0 0 2 2\" x=\"0.332\" y=\"0.336\" width=\"0.124\" height=\"0.19\"><g><use xlink:href=\"#frontal-face\" x=\"0\" y=\"0\" height=\"2\" width=\"2\" class=\"back\"></use><use xlink:href=\"#frontal-face\" x=\"0\" y=\"0\" height=\"2\" width=\"2\" class=\"front\"></use></g><text x=\"1\" y=\"0.1935483870967742\" text-anchor=\"middle\"><tspan class=\"label\" x=\"1\" dy=\"0.3870967741935484\" style=\"font-size:0.3225806451612903px;\">label: alt face</tspan><tspan class=\"weight\" x=\"1\" dy=\"0.3870967741935484\" style=\"font-size:0.3225806451612903px;\">weight: 1.637</tspan></text></svg><svg class=\"feature frontal face\" preserveAspectRatio=\"none\" viewBox=\"0 0 2 2\" x=\"0.34\" y=\"0.347\" width=\"0.107\" height=\"0.163\"><g><use xlink:href=\"#frontal-face\" x=\"0\" y=\"0\" height=\"2\" width=\"2\" class=\"back\"></use><use xlink:href=\"#frontal-face\" x=\"0\" y=\"0\" height=\"2\" width=\"2\" class=\"front\"></use></g><text x=\"1\" y=\"0.22429906542056077\" text-anchor=\"middle\"><tspan class=\"label\" x=\"1\" dy=\"0.44859813084112155\" style=\"font-size:0.3738317757009346px;\">label: frontal face</tspan><tspan class=\"weight\" x=\"1\" dy=\"0.44859813084112155\" style=\"font-size:0.3738317757009346px;\">weight: 1.451</tspan></text></svg><svg class=\"feature ORB keypoint\" preserveAspectRatio=\"none\" viewBox=\"0 0 2 2\" x=\"0.308\" y=\"0.287\" width=\"0.121\" height=\"0.185\"><g><circle r=\"1\" cx=\"1\" cy=\"1\" class=\"back\"></circle><circle r=\"1\" cx=\"1\" cy=\"1\" class=\"front\"></circle><path class=\"cross\" d=\"M0,1h0.9m0.2,0h0.9M1,0v0.9m0,0.2v0.9\" transform=\"rotate(45 1 1)\"></path></g><text x=\"1\" y=\"0.19834710743801653\" text-anchor=\"middle\"><tspan class=\"label\" x=\"1\" dy=\"0.39669421487603307\" style=\"font-size:0.3305785123966942px;\">label: ORB keypoint</tspan><tspan class=\"weight\" x=\"1\" dy=\"0.39669421487603307\" style=\"font-size:0.3305785123966942px;\">weight: 13.196</tspan></text></svg><svg class=\"feature ORB keypoint\" preserveAspectRatio=\"none\" viewBox=\"0 0 2 2\" x=\"0.281\" y=\"0.236\" width=\"0.181\" height=\"0.278\"><g><circle r=\"1\" cx=\"1\" cy=\"1\" class=\"back\"></circle><circle r=\"1\" cx=\"1\" cy=\"1\" class=\"front\"></circle><path class=\"cross\" d=\"M0,1h0.9m0.2,0h0.9M1,0v0.9m0,0.2v0.9\" transform=\"rotate(45 1 1)\"></path></g><text x=\"1\" y=\"0.13259668508287292\" text-anchor=\"middle\"><tspan class=\"label\" x=\"1\" dy=\"0.26519337016574585\" style=\"font-size:0.22099447513812157px;\">label: ORB keypoint</tspan><tspan class=\"weight\" x=\"1\" dy=\"0.26519337016574585\" style=\"font-size:0.22099447513812157px;\">weight: 11.775</tspan></text></svg><svg class=\"feature ORB keypoint\" preserveAspectRatio=\"none\" viewBox=\"0 0 2 2\" x=\"0.351\" y=\"0.358\" width=\"0.081\" height=\"0.123\"><g><circle r=\"1\" cx=\"1\" cy=\"1\" class=\"back\"></circle><circle r=\"1\" cx=\"1\" cy=\"1\" class=\"front\"></circle><path class=\"cross\" d=\"M0,1h0.9m0.2,0h0.9M1,0v0.9m0,0.2v0.9\" transform=\"rotate(45 1 1)\"></path></g><text x=\"1\" y=\"0.2962962962962963\" text-anchor=\"middle\"><tspan class=\"label\" x=\"1\" dy=\"0.5925925925925926\" style=\"font-size:0.49382716049382713px;\">label: ORB keypoint</tspan><tspan class=\"weight\" x=\"1\" dy=\"0.5925925925925926\" style=\"font-size:0.49382716049382713px;\">weight: 10.257</tspan></text></svg><svg class=\"feature ORB keypoint\" preserveAspectRatio=\"none\" viewBox=\"0 0 2 2\" x=\"0.327\" y=\"0.309\" width=\"0.081\" height=\"0.123\"><g><circle r=\"1\" cx=\"1\" cy=\"1\" class=\"back\"></circle><circle r=\"1\" cx=\"1\" cy=\"1\" class=\"front\"></circle><path class=\"cross\" d=\"M0,1h0.9m0.2,0h0.9M1,0v0.9m0,0.2v0.9\" transform=\"rotate(45 1 1)\"></path></g><text x=\"1\" y=\"0.2962962962962963\" text-anchor=\"middle\"><tspan class=\"label\" x=\"1\" dy=\"0.5925925925925926\" style=\"font-size:0.49382716049382713px;\">label: ORB keypoint</tspan><tspan class=\"weight\" x=\"1\" dy=\"0.5925925925925926\" style=\"font-size:0.49382716049382713px;\">weight: 8.519</tspan></text></svg><svg class=\"feature ORB keypoint\" preserveAspectRatio=\"none\" viewBox=\"0 0 2 2\" x=\"0.245\" y=\"0.292\" width=\"0.272\" height=\"0.417\"><g><circle r=\"1\" cx=\"1\" cy=\"1\" class=\"back\"></circle><circle r=\"1\" cx=\"1\" cy=\"1\" class=\"front\"></circle><path class=\"cross\" d=\"M0,1h0.9m0.2,0h0.9M1,0v0.9m0,0.2v0.9\" transform=\"rotate(45 1 1)\"></path></g><text x=\"1\" y=\"0.08823529411764706\" text-anchor=\"middle\"><tspan class=\"label\" x=\"1\" dy=\"0.17647058823529413\" style=\"font-size:0.14705882352941177px;\">label: ORB keypoint</tspan><tspan class=\"weight\" x=\"1\" dy=\"0.17647058823529413\" style=\"font-size:0.14705882352941177px;\">weight: 8.068</tspan></text></svg><svg class=\"feature ORB keypoint\" preserveAspectRatio=\"none\" viewBox=\"0 0 2 2\" x=\"0.708\" y=\"0.153\" width=\"0.181\" height=\"0.278\"><g><circle r=\"1\" cx=\"1\" cy=\"1\" class=\"back\"></circle><circle r=\"1\" cx=\"1\" cy=\"1\" class=\"front\"></circle><path class=\"cross\" d=\"M0,1h0.9m0.2,0h0.9M1,0v0.9m0,0.2v0.9\" transform=\"rotate(45 1 1)\"></path></g><text x=\"1\" y=\"0.13259668508287292\" text-anchor=\"middle\"><tspan class=\"label\" x=\"1\" dy=\"0.26519337016574585\" style=\"font-size:0.22099447513812157px;\">label: ORB keypoint</tspan><tspan class=\"weight\" x=\"1\" dy=\"0.26519337016574585\" style=\"font-size:0.22099447513812157px;\">weight: 7.666</tspan></text></svg><svg class=\"feature ORB keypoint\" preserveAspectRatio=\"none\" viewBox=\"0 0 2 2\" x=\"0.327\" y=\"0.333\" width=\"0.121\" height=\"0.185\"><g><circle r=\"1\" cx=\"1\" cy=\"1\" class=\"back\"></circle><circle r=\"1\" cx=\"1\" cy=\"1\" class=\"front\"></circle><path class=\"cross\" d=\"M0,1h0.9m0.2,0h0.9M1,0v0.9m0,0.2v0.9\" transform=\"rotate(45 1 1)\"></path></g><text x=\"1\" y=\"0.19834710743801653\" text-anchor=\"middle\"><tspan class=\"label\" x=\"1\" dy=\"0.39669421487603307\" style=\"font-size:0.3305785123966942px;\">label: ORB keypoint</tspan><tspan class=\"weight\" x=\"1\" dy=\"0.39669421487603307\" style=\"font-size:0.3305785123966942px;\">weight: 6.804</tspan></text></svg><svg class=\"feature ORB keypoint\" preserveAspectRatio=\"none\" viewBox=\"0 0 2 2\" x=\"0.248\" y=\"0.472\" width=\"0.121\" height=\"0.185\"><g><circle r=\"1\" cx=\"1\" cy=\"1\" class=\"back\"></circle><circle r=\"1\" cx=\"1\" cy=\"1\" class=\"front\"></circle><path class=\"cross\" d=\"M0,1h0.9m0.2,0h0.9M1,0v0.9m0,0.2v0.9\" transform=\"rotate(45 1 1)\"></path></g><text x=\"1\" y=\"0.19834710743801653\" text-anchor=\"middle\"><tspan class=\"label\" x=\"1\" dy=\"0.39669421487603307\" style=\"font-size:0.3305785123966942px;\">label: ORB keypoint</tspan><tspan class=\"weight\" x=\"1\" dy=\"0.39669421487603307\" style=\"font-size:0.3305785123966942px;\">weight: 6.31</tspan></text></svg></svg></div><div class=\"infoBoxWrapper\"><div class=\"infoBox\"><div class=\"infoRow\"><div class=\"label\">left:</div><div class=\"value\">0.153</div></div><div class=\"infoRow\"><div class=\"label\">top:</div><div class=\"value\">0.245</div></div><div class=\"infoRow\"><div class=\"label\">right:</div><div class=\"value\">0.708</div></div><div class=\"infoRow\"><div class=\"label\">bottom:</div><div class=\"value\">0.889</div></div><div class=\"infoRow\"><div class=\"label\">x:</div><div class=\"value\">0.431</div></div><div class=\"infoRow\"><div class=\"label\">y:</div><div class=\"value\">0.394</div></div></div></div></div><div class=\"previewPanel\" style=\"flex-direction:row;\"><div class=\"previewWrapper infoParent\" style=\"flex:1;\"><svg class=\"previewImg\" style=\"background-image:url(Sebastiao-Salgado-Serra-Pelada-1986.jpg);background-position:68.8% 0.0%;background-repeat:no-repeat;background-size:155.2% auto;\" viewBox=\"0 0 1 1\"></svg><div class=\"infoBoxWrapper\"><div class=\"infoBox\"><div class=\"infoRow\"><div class=\"label\">position:</div><div class=\"value\">68.8% 0.0%</div></div><div class=\"infoRow\"><div class=\"label\">size:</div><div class=\"value\">155.2% auto</div></div><div class=\"infoRow\"><div class=\"label\">aspect ratio:</div><div class=\"value\">1</div></div></div></div></div><div class=\"previewWrapper infoParent\" style=\"flex:0.5;\"><svg class=\"previewImg\" style=\"background-image:url(Sebastiao-Salgado-Serra-Pelada-1986.jpg);background-position:36.4% 50.0%;background-repeat:no-repeat;background-size:306.4% auto;\" viewBox=\"0 0 0.5 1\"></svg><div class=\"infoBoxWrapper\"><div class=\"infoBox\"><div class=\"infoRow\"><div class=\"label\">position:</div><div class=\"value\">36.4% 50.0%</div></div><div class=\"infoRow\"><div class=\"label\">size:</div><div class=\"value\">306.4% auto</div></div><div class=\"infoRow\"><div class=\"label\">aspect ratio:</div><div class=\"value\">0.5</div></div></div></div></div><div class=\"previewWrapper infoParent\" style=\"flex:2.5;\"><svg class=\"previewImg\" style=\"background-image:url(Sebastiao-Salgado-Serra-Pelada-1986.jpg);background-position:100.0% 34.4%;background-repeat:no-repeat;background-size:110.3% auto;\" viewBox=\"0 0 2.5 1\"></svg><div class=\"infoBoxWrapper\"><div class=\"infoBox\"><div class=\"infoRow\"><div class=\"label\">position:</div><div class=\"value\">100.0% 34.4%</div></div><div class=\"infoRow\"><div class=\"label\">size:</div><div class=\"value\">110.3% auto</div></div><div class=\"infoRow\"><div class=\"label\">aspect ratio:</div><div class=\"value\">2.5</div></div></div></div></div></div></div>\n",
       "\n",
       "<h4>Henri-Cartier-Bresson-Ann-Arbor-1960.jpg</h4><p>detect: 606ms render: 396ms</p><div class=\"cropboxWrapper\" style=\"flex-direction:column;display:flex;\"><div class=\"masterImgWrapper infoParent\"><img class=\"masterImg\" src=\"Henri-Cartier-Bresson-Ann-Arbor-1960.jpg\"/><div class=\"overlayWrapper\"><svg class=\"overlay inactive\" viewBox=\"0 0 1 1\" preserveAspectRatio=\"none\" height=\"100%\" width=\"100%\"><symbol id=\"profile-face\" viewBox=\"0 0 100 100\"><path d=\"m15.3 69.6c-2.7-1.8-10.1-3.3-7.91-7.2 2.91-5.2 9.11-11.9\n",
       "              8.21-17.5-4-24.2 10-39.8 33.9-39.9 24-.09 37.5 12.8 37.5 38.2 0\n",
       "              35.7-51.1 60.8-59.8 48.5-8.8-12.6-7.6-17.4-11.9-22.1z\"></path></symbol><symbol id=\"frontal-face\" viewBox=\"0 0 100 100\"><path d=\"m50 5c-12.8 0-25.8 7.73-30 16.9-4.19 9.17-.562 14.4-.768\n",
       "              29.3-.205 15 6.92 30 13.4 34.9 6.49 4.88 11.3 8.89 17.3 8.89 6.04\n",
       "              0 10.8-4.01 17.3-8.89 6.6-4.9 13.7-19.9 13.5-34.9-.2-14.9\n",
       "              3.5-20.1-.7-29.3s-17.2-16.9-30-16.9z\"></path></symbol><path class=\"outside\" fill-rule=\"evenodd\" d=\"M0, 0H1V1H0ZM0, 0.21959183673469387V0.6698775510204081H0.8615510204081632V0.21959183673469387Z\"></path><g class=\"inside\"><path class=\"box\" d=\"M0, 0.21959183673469387V0.6698775510204081H0.8615510204081632V0.21959183673469387Z\"></path><svg class=\"handles\" viewBox=\"0 0 1 1\" preserveAspectRatio=\"none\" height=\"0.4502857142857143\" width=\"0.8615510204081632\" x=\"0\" y=\"0.21959183673469387\"><rect class=\"1000\" width=\"0.1\" height=\"1.1\" x=\"-0.05\" y=\"-0.05\" style=\"cursor:ew-resize;\"></rect><rect class=\"0100\" width=\"1.1\" height=\"0.1\" x=\"-0.05\" y=\"-0.05\" style=\"cursor:ns-resize;\"></rect><rect class=\"0010\" width=\"0.1\" height=\"1.1\" x=\"0.95\" y=\"-0.05\" style=\"cursor:ew-resize;\"></rect><rect class=\"0001\" width=\"1.1\" height=\"0.1\" x=\"-0.05\" y=\"0.95\" style=\"cursor:ns-resize;\"></rect><rect class=\"1100\" width=\"0.1\" height=\"0.1\" x=\"-0.05\" y=\"-0.05\" style=\"cursor:nw-resize;\"></rect><rect class=\"0110\" width=\"0.1\" height=\"0.1\" x=\"0.95\" y=\"-0.05\" style=\"cursor:ne-resize;\"></rect><rect class=\"0011\" width=\"0.1\" height=\"0.1\" x=\"0.95\" y=\"0.95\" style=\"cursor:se-resize;\"></rect><rect class=\"1001\" width=\"0.1\" height=\"0.1\" x=\"-0.05\" y=\"0.95\" style=\"cursor:sw-resize;\"></rect></svg></g><g class=\"centerPoint\"><ellipse class=\"handle\" style=\"opacity:0;\" cx=\"0.2782312925170068\" cy=\"0.4826530612244898\" rx=\"0.05\" ry=\"0.07494444444444445\"></ellipse><path class=\"cross\" d=\"M0, 0.4826530612244898H1M0.2782312925170068, 0V1\"></path></g><svg class=\"feature alt face\" preserveAspectRatio=\"none\" viewBox=\"0 0 2 2\" x=\"0.201\" y=\"0.367\" width=\"0.155\" height=\"0.232\"><g><use xlink:href=\"#frontal-face\" x=\"0\" y=\"0\" height=\"2\" width=\"2\" class=\"back\"></use><use xlink:href=\"#frontal-face\" x=\"0\" y=\"0\" height=\"2\" width=\"2\" class=\"front\"></use></g><text x=\"1\" y=\"0.15483870967741933\" text-anchor=\"middle\"><tspan class=\"label\" x=\"1\" dy=\"0.30967741935483867\" style=\"font-size:0.25806451612903225px;\">label: alt face</tspan><tspan class=\"weight\" x=\"1\" dy=\"0.30967741935483867\" style=\"font-size:0.25806451612903225px;\">weight: 2.495</tspan></text></svg><svg class=\"feature frontal face\" preserveAspectRatio=\"none\" viewBox=\"0 0 2 2\" x=\"0.212\" y=\"0.384\" width=\"0.131\" height=\"0.196\"><g><use xlink:href=\"#frontal-face\" x=\"0\" y=\"0\" height=\"2\" width=\"2\" class=\"back\"></use><use xlink:href=\"#frontal-face\" x=\"0\" y=\"0\" height=\"2\" width=\"2\" class=\"front\"></use></g><text x=\"1\" y=\"0.183206106870229\" text-anchor=\"middle\"><tspan class=\"label\" x=\"1\" dy=\"0.366412213740458\" style=\"font-size:0.3053435114503817px;\">label: frontal face</tspan><tspan class=\"weight\" x=\"1\" dy=\"0.366412213740458\" style=\"font-size:0.3053435114503817px;\">weight: 2.132</tspan></text></svg><svg class=\"feature profile face\" preserveAspectRatio=\"none\" viewBox=\"0 0 2 2\" x=\"0.236\" y=\"0.387\" width=\"0.126\" height=\"0.19\"><g><use xlink:href=\"#profile-face\" x=\"0\" y=\"0\" height=\"2\" width=\"2\" class=\"back\"></use><use xlink:href=\"#profile-face\" x=\"0\" y=\"0\" height=\"2\" width=\"2\" class=\"front\"></use></g><text x=\"1\" y=\"0.19047619047619047\" text-anchor=\"middle\"><tspan class=\"label\" x=\"1\" dy=\"0.38095238095238093\" style=\"font-size:0.31746031746031744px;\">label: profile face</tspan><tspan class=\"weight\" x=\"1\" dy=\"0.38095238095238093\" style=\"font-size:0.31746031746031744px;\">weight: 1.109</tspan></text></svg><svg class=\"feature alt face\" preserveAspectRatio=\"none\" viewBox=\"0 0 2 2\" x=\"0\" y=\"0.237\" width=\"0.087\" height=\"0.132\"><g><use xlink:href=\"#frontal-face\" x=\"0\" y=\"0\" height=\"2\" width=\"2\" class=\"back\"></use><use xlink:href=\"#frontal-face\" x=\"0\" y=\"0\" height=\"2\" width=\"2\" class=\"front\"></use></g><text x=\"1\" y=\"0.27586206896551724\" text-anchor=\"middle\"><tspan class=\"label\" x=\"1\" dy=\"0.5517241379310345\" style=\"font-size:0.4597701149425288px;\">label: alt face</tspan><tspan class=\"weight\" x=\"1\" dy=\"0.5517241379310345\" style=\"font-size:0.4597701149425288px;\">weight: 0.81</tspan></text></svg><svg class=\"feature alt face\" preserveAspectRatio=\"none\" viewBox=\"0 0 2 2\" x=\"0.779\" y=\"0.546\" width=\"0.082\" height=\"0.123\"><g><use xlink:href=\"#frontal-face\" x=\"0\" y=\"0\" height=\"2\" width=\"2\" class=\"back\"></use><use xlink:href=\"#frontal-face\" x=\"0\" y=\"0\" height=\"2\" width=\"2\" class=\"front\"></use></g><text x=\"1\" y=\"0.2926829268292683\" text-anchor=\"middle\"><tspan class=\"label\" x=\"1\" dy=\"0.5853658536585366\" style=\"font-size:0.4878048780487805px;\">label: alt face</tspan><tspan class=\"weight\" x=\"1\" dy=\"0.5853658536585366\" style=\"font-size:0.4878048780487805px;\">weight: 0.705</tspan></text></svg><svg class=\"feature frontal face\" preserveAspectRatio=\"none\" viewBox=\"0 0 2 2\" x=\"0.007\" y=\"0.248\" width=\"0.075\" height=\"0.113\"><g><use xlink:href=\"#frontal-face\" x=\"0\" y=\"0\" height=\"2\" width=\"2\" class=\"back\"></use><use xlink:href=\"#frontal-face\" x=\"0\" y=\"0\" height=\"2\" width=\"2\" class=\"front\"></use></g><text x=\"1\" y=\"0.32\" text-anchor=\"middle\"><tspan class=\"label\" x=\"1\" dy=\"0.64\" style=\"font-size:0.5333333333333333px;\">label: frontal face</tspan><tspan class=\"weight\" x=\"1\" dy=\"0.64\" style=\"font-size:0.5333333333333333px;\">weight: 0.705</tspan></text></svg><svg class=\"feature frontal face\" preserveAspectRatio=\"none\" viewBox=\"0 0 2 2\" x=\"0.591\" y=\"0.22\" width=\"0.072\" height=\"0.108\"><g><use xlink:href=\"#frontal-face\" x=\"0\" y=\"0\" height=\"2\" width=\"2\" class=\"back\"></use><use xlink:href=\"#frontal-face\" x=\"0\" y=\"0\" height=\"2\" width=\"2\" class=\"front\"></use></g><text x=\"1\" y=\"0.3333333333333333\" text-anchor=\"middle\"><tspan class=\"label\" x=\"1\" dy=\"0.6666666666666666\" style=\"font-size:0.5555555555555556px;\">label: frontal face</tspan><tspan class=\"weight\" x=\"1\" dy=\"0.6666666666666666\" style=\"font-size:0.5555555555555556px;\">weight: 0.645</tspan></text></svg><svg class=\"feature frontal face\" preserveAspectRatio=\"none\" viewBox=\"0 0 2 2\" x=\"0.062\" y=\"0.373\" width=\"0.072\" height=\"0.108\"><g><use xlink:href=\"#frontal-face\" x=\"0\" y=\"0\" height=\"2\" width=\"2\" class=\"back\"></use><use xlink:href=\"#frontal-face\" x=\"0\" y=\"0\" height=\"2\" width=\"2\" class=\"front\"></use></g><text x=\"1\" y=\"0.3333333333333333\" text-anchor=\"middle\"><tspan class=\"label\" x=\"1\" dy=\"0.6666666666666666\" style=\"font-size:0.5555555555555556px;\">label: frontal face</tspan><tspan class=\"weight\" x=\"1\" dy=\"0.6666666666666666\" style=\"font-size:0.5555555555555556px;\">weight: 0.645</tspan></text></svg></svg></div><div class=\"infoBoxWrapper\"><div class=\"infoBox\"><div class=\"infoRow\"><div class=\"label\">left:</div><div class=\"value\">0.220</div></div><div class=\"infoRow\"><div class=\"label\">top:</div><div class=\"value\">0.000</div></div><div class=\"infoRow\"><div class=\"label\">right:</div><div class=\"value\">0.670</div></div><div class=\"infoRow\"><div class=\"label\">bottom:</div><div class=\"value\">0.862</div></div><div class=\"infoRow\"><div class=\"label\">x:</div><div class=\"value\">0.483</div></div><div class=\"infoRow\"><div class=\"label\">y:</div><div class=\"value\">0.278</div></div></div></div></div><div class=\"previewPanel\" style=\"flex-direction:row;\"><div class=\"previewWrapper infoParent\" style=\"flex:1;\"><svg class=\"previewImg\" style=\"background-image:url(Henri-Cartier-Bresson-Ann-Arbor-1960.jpg);background-position:0.0% 50.0%;background-repeat:no-repeat;background-size:149.9% auto;\" viewBox=\"0 0 1 1\"></svg><div class=\"infoBoxWrapper\"><div class=\"infoBox\"><div class=\"infoRow\"><div class=\"label\">position:</div><div class=\"value\">0.0% 50.0%</div></div><div class=\"infoRow\"><div class=\"label\">size:</div><div class=\"value\">149.9% auto</div></div><div class=\"infoRow\"><div class=\"label\">aspect ratio:</div><div class=\"value\">1</div></div></div></div></div><div class=\"previewWrapper infoParent\" style=\"flex:0.5;\"><svg class=\"previewImg\" style=\"background-image:url(Henri-Cartier-Bresson-Ann-Arbor-1960.jpg);background-position:16.7% 50.0%;background-repeat:no-repeat;background-size:299.8% auto;\" viewBox=\"0 0 0.5 1\"></svg><div class=\"infoBoxWrapper\"><div class=\"infoBox\"><div class=\"infoRow\"><div class=\"label\">position:</div><div class=\"value\">16.7% 50.0%</div></div><div class=\"infoRow\"><div class=\"label\">size:</div><div class=\"value\">299.8% auto</div></div><div class=\"infoRow\"><div class=\"label\">aspect ratio:</div><div class=\"value\">0.5</div></div></div></div></div><div class=\"previewWrapper infoParent\" style=\"flex:2.5;\"><svg class=\"previewImg\" style=\"background-image:url(Henri-Cartier-Bresson-Ann-Arbor-1960.jpg);background-position:0.0% 38.6%;background-repeat:no-repeat;background-size:116.1% auto;\" viewBox=\"0 0 2.5 1\"></svg><div class=\"infoBoxWrapper\"><div class=\"infoBox\"><div class=\"infoRow\"><div class=\"label\">position:</div><div class=\"value\">0.0% 38.6%</div></div><div class=\"infoRow\"><div class=\"label\">size:</div><div class=\"value\">116.1% auto</div></div><div class=\"infoRow\"><div class=\"label\">aspect ratio:</div><div class=\"value\">2.5</div></div></div></div></div></div></div>\n",
       "\n",
       "<h4>Henri-Cartier-Bresson-Dessau-1945.jpg</h4><p>detect: 573ms render: 463ms</p><div class=\"cropboxWrapper\" style=\"flex-direction:column;display:flex;\"><div class=\"masterImgWrapper infoParent\"><img class=\"masterImg\" src=\"Henri-Cartier-Bresson-Dessau-1945.jpg\"/><div class=\"overlayWrapper\"><svg class=\"overlay inactive\" viewBox=\"0 0 1 1\" preserveAspectRatio=\"none\" height=\"100%\" width=\"100%\"><symbol id=\"profile-face\" viewBox=\"0 0 100 100\"><path d=\"m15.3 69.6c-2.7-1.8-10.1-3.3-7.91-7.2 2.91-5.2 9.11-11.9\n",
       "              8.21-17.5-4-24.2 10-39.8 33.9-39.9 24-.09 37.5 12.8 37.5 38.2 0\n",
       "              35.7-51.1 60.8-59.8 48.5-8.8-12.6-7.6-17.4-11.9-22.1z\"></path></symbol><symbol id=\"frontal-face\" viewBox=\"0 0 100 100\"><path d=\"m50 5c-12.8 0-25.8 7.73-30 16.9-4.19 9.17-.562 14.4-.768\n",
       "              29.3-.205 15 6.92 30 13.4 34.9 6.49 4.88 11.3 8.89 17.3 8.89 6.04\n",
       "              0 10.8-4.01 17.3-8.89 6.6-4.9 13.7-19.9 13.5-34.9-.2-14.9\n",
       "              3.5-20.1-.7-29.3s-17.2-16.9-30-16.9z\"></path></symbol><path class=\"outside\" fill-rule=\"evenodd\" d=\"M0, 0H1V1H0ZM0.12475409836065574, 0.07382113821138211V0.37829268292682927H0.9373224043715848V0.07382113821138211Z\"></path><g class=\"inside\"><path class=\"box\" d=\"M0.12475409836065574, 0.07382113821138211V0.37829268292682927H0.9373224043715848V0.07382113821138211Z\"></path><svg class=\"handles\" viewBox=\"0 0 1 1\" preserveAspectRatio=\"none\" height=\"0.30447154471544713\" width=\"0.812568306010929\" x=\"0.12475409836065574\" y=\"0.07382113821138211\"><rect class=\"1000\" width=\"0.1\" height=\"1.1\" x=\"-0.05\" y=\"-0.05\" style=\"cursor:ew-resize;\"></rect><rect class=\"0100\" width=\"1.1\" height=\"0.1\" x=\"-0.05\" y=\"-0.05\" style=\"cursor:ns-resize;\"></rect><rect class=\"0010\" width=\"0.1\" height=\"1.1\" x=\"0.95\" y=\"-0.05\" style=\"cursor:ew-resize;\"></rect><rect class=\"0001\" width=\"1.1\" height=\"0.1\" x=\"-0.05\" y=\"0.95\" style=\"cursor:ns-resize;\"></rect><rect class=\"1100\" width=\"0.1\" height=\"0.1\" x=\"-0.05\" y=\"-0.05\" style=\"cursor:nw-resize;\"></rect><rect class=\"0110\" width=\"0.1\" height=\"0.1\" x=\"0.95\" y=\"-0.05\" style=\"cursor:ne-resize;\"></rect><rect class=\"0011\" width=\"0.1\" height=\"0.1\" x=\"0.95\" y=\"0.95\" style=\"cursor:se-resize;\"></rect><rect class=\"1001\" width=\"0.1\" height=\"0.1\" x=\"-0.05\" y=\"0.95\" style=\"cursor:sw-resize;\"></rect></svg></g><g class=\"centerPoint\"><ellipse class=\"handle\" style=\"opacity:0;\" cx=\"0.7431693989071039\" cy=\"0.20731707317073172\" rx=\"0.05\" ry=\"0.0743888888888889\"></ellipse><path class=\"cross\" d=\"M0, 0.20731707317073172H1M0.7431693989071039, 0V1\"></path></g><svg class=\"feature frontal face\" preserveAspectRatio=\"none\" viewBox=\"0 0 2 2\" x=\"0.692\" y=\"0.132\" width=\"0.102\" height=\"0.151\"><g><use xlink:href=\"#frontal-face\" x=\"0\" y=\"0\" height=\"2\" width=\"2\" class=\"back\"></use><use xlink:href=\"#frontal-face\" x=\"0\" y=\"0\" height=\"2\" width=\"2\" class=\"front\"></use></g><text x=\"1\" y=\"0.23529411764705885\" text-anchor=\"middle\"><tspan class=\"label\" x=\"1\" dy=\"0.4705882352941177\" style=\"font-size:0.3921568627450981px;\">label: frontal face</tspan><tspan class=\"weight\" x=\"1\" dy=\"0.4705882352941177\" style=\"font-size:0.3921568627450981px;\">weight: 1.281</tspan></text></svg><svg class=\"feature alt face\" preserveAspectRatio=\"none\" viewBox=\"0 0 2 2\" x=\"0.826\" y=\"0.146\" width=\"0.092\" height=\"0.138\"><g><use xlink:href=\"#frontal-face\" x=\"0\" y=\"0\" height=\"2\" width=\"2\" class=\"back\"></use><use xlink:href=\"#frontal-face\" x=\"0\" y=\"0\" height=\"2\" width=\"2\" class=\"front\"></use></g><text x=\"1\" y=\"0.2608695652173913\" text-anchor=\"middle\"><tspan class=\"label\" x=\"1\" dy=\"0.5217391304347826\" style=\"font-size:0.4347826086956522px;\">label: alt face</tspan><tspan class=\"weight\" x=\"1\" dy=\"0.5217391304347826\" style=\"font-size:0.4347826086956522px;\">weight: 0.883</tspan></text></svg><svg class=\"feature frontal face\" preserveAspectRatio=\"none\" viewBox=\"0 0 2 2\" x=\"0.611\" y=\"0.146\" width=\"0.084\" height=\"0.124\"><g><use xlink:href=\"#frontal-face\" x=\"0\" y=\"0\" height=\"2\" width=\"2\" class=\"back\"></use><use xlink:href=\"#frontal-face\" x=\"0\" y=\"0\" height=\"2\" width=\"2\" class=\"front\"></use></g><text x=\"1\" y=\"0.2857142857142857\" text-anchor=\"middle\"><tspan class=\"label\" x=\"1\" dy=\"0.5714285714285714\" style=\"font-size:0.47619047619047616px;\">label: frontal face</tspan><tspan class=\"weight\" x=\"1\" dy=\"0.5714285714285714\" style=\"font-size:0.47619047619047616px;\">weight: 0.867</tspan></text></svg><svg class=\"feature profile face\" preserveAspectRatio=\"none\" viewBox=\"0 0 2 2\" x=\"0.708\" y=\"0.122\" width=\"0.112\" height=\"0.167\"><g><use xlink:href=\"#profile-face\" x=\"0\" y=\"0\" height=\"2\" width=\"2\" class=\"back\"></use><use xlink:href=\"#profile-face\" x=\"0\" y=\"0\" height=\"2\" width=\"2\" class=\"front\"></use></g><text x=\"1\" y=\"0.21428571428571427\" text-anchor=\"middle\"><tspan class=\"label\" x=\"1\" dy=\"0.42857142857142855\" style=\"font-size:0.35714285714285715px;\">label: profile face</tspan><tspan class=\"weight\" x=\"1\" dy=\"0.42857142857142855\" style=\"font-size:0.35714285714285715px;\">weight: 0.866</tspan></text></svg><svg class=\"feature alt face\" preserveAspectRatio=\"none\" viewBox=\"0 0 2 2\" x=\"0.847\" y=\"0.244\" width=\"0.09\" height=\"0.135\"><g><use xlink:href=\"#frontal-face\" x=\"0\" y=\"0\" height=\"2\" width=\"2\" class=\"back\"></use><use xlink:href=\"#frontal-face\" x=\"0\" y=\"0\" height=\"2\" width=\"2\" class=\"front\"></use></g><text x=\"1\" y=\"0.26666666666666666\" text-anchor=\"middle\"><tspan class=\"label\" x=\"1\" dy=\"0.5333333333333333\" style=\"font-size:0.4444444444444445px;\">label: alt face</tspan><tspan class=\"weight\" x=\"1\" dy=\"0.5333333333333333\" style=\"font-size:0.4444444444444445px;\">weight: 0.846</tspan></text></svg><svg class=\"feature frontal face\" preserveAspectRatio=\"none\" viewBox=\"0 0 2 2\" x=\"0.193\" y=\"0.163\" width=\"0.08\" height=\"0.12\"><g><use xlink:href=\"#frontal-face\" x=\"0\" y=\"0\" height=\"2\" width=\"2\" class=\"back\"></use><use xlink:href=\"#frontal-face\" x=\"0\" y=\"0\" height=\"2\" width=\"2\" class=\"front\"></use></g><text x=\"1\" y=\"0.3\" text-anchor=\"middle\"><tspan class=\"label\" x=\"1\" dy=\"0.6\" style=\"font-size:0.5px;\">label: frontal face</tspan><tspan class=\"weight\" x=\"1\" dy=\"0.6\" style=\"font-size:0.5px;\">weight: 0.8</tspan></text></svg><svg class=\"feature alt face\" preserveAspectRatio=\"none\" viewBox=\"0 0 2 2\" x=\"0.125\" y=\"0.151\" width=\"0.087\" height=\"0.129\"><g><use xlink:href=\"#frontal-face\" x=\"0\" y=\"0\" height=\"2\" width=\"2\" class=\"back\"></use><use xlink:href=\"#frontal-face\" x=\"0\" y=\"0\" height=\"2\" width=\"2\" class=\"front\"></use></g><text x=\"1\" y=\"0.27586206896551724\" text-anchor=\"middle\"><tspan class=\"label\" x=\"1\" dy=\"0.5517241379310345\" style=\"font-size:0.4597701149425288px;\">label: alt face</tspan><tspan class=\"weight\" x=\"1\" dy=\"0.5517241379310345\" style=\"font-size:0.4597701149425288px;\">weight: 0.774</tspan></text></svg><svg class=\"feature alt face\" preserveAspectRatio=\"none\" viewBox=\"0 0 2 2\" x=\"0.496\" y=\"0.161\" width=\"0.087\" height=\"0.129\"><g><use xlink:href=\"#frontal-face\" x=\"0\" y=\"0\" height=\"2\" width=\"2\" class=\"back\"></use><use xlink:href=\"#frontal-face\" x=\"0\" y=\"0\" height=\"2\" width=\"2\" class=\"front\"></use></g><text x=\"1\" y=\"0.27586206896551724\" text-anchor=\"middle\"><tspan class=\"label\" x=\"1\" dy=\"0.5517241379310345\" style=\"font-size:0.4597701149425288px;\">label: alt face</tspan><tspan class=\"weight\" x=\"1\" dy=\"0.5517241379310345\" style=\"font-size:0.4597701149425288px;\">weight: 0.774</tspan></text></svg><svg class=\"feature alt face\" preserveAspectRatio=\"none\" viewBox=\"0 0 2 2\" x=\"0.414\" y=\"0.216\" width=\"0.087\" height=\"0.129\"><g><use xlink:href=\"#frontal-face\" x=\"0\" y=\"0\" height=\"2\" width=\"2\" class=\"back\"></use><use xlink:href=\"#frontal-face\" x=\"0\" y=\"0\" height=\"2\" width=\"2\" class=\"front\"></use></g><text x=\"1\" y=\"0.27586206896551724\" text-anchor=\"middle\"><tspan class=\"label\" x=\"1\" dy=\"0.5517241379310345\" style=\"font-size:0.4597701149425288px;\">label: alt face</tspan><tspan class=\"weight\" x=\"1\" dy=\"0.5517241379310345\" style=\"font-size:0.4597701149425288px;\">weight: 0.774</tspan></text></svg><svg class=\"feature alt face\" preserveAspectRatio=\"none\" viewBox=\"0 0 2 2\" x=\"0.765\" y=\"0.074\" width=\"0.087\" height=\"0.129\"><g><use xlink:href=\"#frontal-face\" x=\"0\" y=\"0\" height=\"2\" width=\"2\" class=\"back\"></use><use xlink:href=\"#frontal-face\" x=\"0\" y=\"0\" height=\"2\" width=\"2\" class=\"front\"></use></g><text x=\"1\" y=\"0.27586206896551724\" text-anchor=\"middle\"><tspan class=\"label\" x=\"1\" dy=\"0.5517241379310345\" style=\"font-size:0.4597701149425288px;\">label: alt face</tspan><tspan class=\"weight\" x=\"1\" dy=\"0.5517241379310345\" style=\"font-size:0.4597701149425288px;\">weight: 0.774</tspan></text></svg></svg></div><div class=\"infoBoxWrapper\"><div class=\"infoBox\"><div class=\"infoRow\"><div class=\"label\">left:</div><div class=\"value\">0.074</div></div><div class=\"infoRow\"><div class=\"label\">top:</div><div class=\"value\">0.125</div></div><div class=\"infoRow\"><div class=\"label\">right:</div><div class=\"value\">0.378</div></div><div class=\"infoRow\"><div class=\"label\">bottom:</div><div class=\"value\">0.937</div></div><div class=\"infoRow\"><div class=\"label\">x:</div><div class=\"value\">0.207</div></div><div class=\"infoRow\"><div class=\"label\">y:</div><div class=\"value\">0.743</div></div></div></div></div><div class=\"previewPanel\" style=\"flex-direction:row;\"><div class=\"previewWrapper infoParent\" style=\"flex:1;\"><svg class=\"previewImg\" style=\"background-image:url(Henri-Cartier-Bresson-Dessau-1945.jpg);background-position:80.9% 50.0%;background-repeat:no-repeat;background-size:148.8% auto;\" viewBox=\"0 0 1 1\"></svg><div class=\"infoBoxWrapper\"><div class=\"infoBox\"><div class=\"infoRow\"><div class=\"label\">position:</div><div class=\"value\">80.9% 50.0%</div></div><div class=\"infoRow\"><div class=\"label\">size:</div><div class=\"value\">148.8% auto</div></div><div class=\"infoRow\"><div class=\"label\">aspect ratio:</div><div class=\"value\">1</div></div></div></div></div><div class=\"previewWrapper infoParent\" style=\"flex:0.5;\"><svg class=\"previewImg\" style=\"background-image:url(Henri-Cartier-Bresson-Dessau-1945.jpg);background-position:86.6% 50.0%;background-repeat:no-repeat;background-size:297.6% auto;\" viewBox=\"0 0 0.5 1\"></svg><div class=\"infoBoxWrapper\"><div class=\"infoBox\"><div class=\"infoRow\"><div class=\"label\">position:</div><div class=\"value\">86.6% 50.0%</div></div><div class=\"infoRow\"><div class=\"label\">size:</div><div class=\"value\">297.6% auto</div></div><div class=\"infoRow\"><div class=\"label\">aspect ratio:</div><div class=\"value\">0.5</div></div></div></div></div><div class=\"previewWrapper infoParent\" style=\"flex:2.5;\"><svg class=\"previewImg\" style=\"background-image:url(Henri-Cartier-Bresson-Dessau-1945.jpg);background-position:66.6% 0.0%;background-repeat:no-repeat;background-size:123.1% auto;\" viewBox=\"0 0 2.5 1\"></svg><div class=\"infoBoxWrapper\"><div class=\"infoBox\"><div class=\"infoRow\"><div class=\"label\">position:</div><div class=\"value\">66.6% 0.0%</div></div><div class=\"infoRow\"><div class=\"label\">size:</div><div class=\"value\">123.1% auto</div></div><div class=\"infoRow\"><div class=\"label\">aspect ratio:</div><div class=\"value\">2.5</div></div></div></div></div></div></div>\n",
       "\n",
       "<h4>Henri-Cartier-Bresson-Hyeres-France-1932.jpg</h4><p>detect: 889ms render: 615ms</p><div class=\"cropboxWrapper\" style=\"flex-direction:column;display:flex;\"><div class=\"masterImgWrapper infoParent\"><img class=\"masterImg\" src=\"Henri-Cartier-Bresson-Hyeres-France-1932.jpg\"/><div class=\"overlayWrapper\"><svg class=\"overlay inactive\" viewBox=\"0 0 1 1\" preserveAspectRatio=\"none\" height=\"100%\" width=\"100%\"><symbol id=\"profile-face\" viewBox=\"0 0 100 100\"><path d=\"m15.3 69.6c-2.7-1.8-10.1-3.3-7.91-7.2 2.91-5.2 9.11-11.9\n",
       "              8.21-17.5-4-24.2 10-39.8 33.9-39.9 24-.09 37.5 12.8 37.5 38.2 0\n",
       "              35.7-51.1 60.8-59.8 48.5-8.8-12.6-7.6-17.4-11.9-22.1z\"></path></symbol><symbol id=\"frontal-face\" viewBox=\"0 0 100 100\"><path d=\"m50 5c-12.8 0-25.8 7.73-30 16.9-4.19 9.17-.562 14.4-.768\n",
       "              29.3-.205 15 6.92 30 13.4 34.9 6.49 4.88 11.3 8.89 17.3 8.89 6.04\n",
       "              0 10.8-4.01 17.3-8.89 6.6-4.9 13.7-19.9 13.5-34.9-.2-14.9\n",
       "              3.5-20.1-.7-29.3s-17.2-16.9-30-16.9z\"></path></symbol><path class=\"outside\" fill-rule=\"evenodd\" d=\"M0, 0H1V1H0ZM0.10450819672131148, 0.16463414634146342V0.7820121951219512H0.5368852459016393V0.16463414634146342Z\"></path><g class=\"inside\"><path class=\"box\" d=\"M0.10450819672131148, 0.16463414634146342V0.7820121951219512H0.5368852459016393V0.16463414634146342Z\"></path><svg class=\"handles\" viewBox=\"0 0 1 1\" preserveAspectRatio=\"none\" height=\"0.6173780487804877\" width=\"0.4323770491803278\" x=\"0.10450819672131148\" y=\"0.16463414634146342\"><rect class=\"1000\" width=\"0.1\" height=\"1.1\" x=\"-0.05\" y=\"-0.05\" style=\"cursor:ew-resize;\"></rect><rect class=\"0100\" width=\"1.1\" height=\"0.1\" x=\"-0.05\" y=\"-0.05\" style=\"cursor:ns-resize;\"></rect><rect class=\"0010\" width=\"0.1\" height=\"1.1\" x=\"0.95\" y=\"-0.05\" style=\"cursor:ew-resize;\"></rect><rect class=\"0001\" width=\"1.1\" height=\"0.1\" x=\"-0.05\" y=\"0.95\" style=\"cursor:ns-resize;\"></rect><rect class=\"1100\" width=\"0.1\" height=\"0.1\" x=\"-0.05\" y=\"-0.05\" style=\"cursor:nw-resize;\"></rect><rect class=\"0110\" width=\"0.1\" height=\"0.1\" x=\"0.95\" y=\"-0.05\" style=\"cursor:ne-resize;\"></rect><rect class=\"0011\" width=\"0.1\" height=\"0.1\" x=\"0.95\" y=\"0.95\" style=\"cursor:se-resize;\"></rect><rect class=\"1001\" width=\"0.1\" height=\"0.1\" x=\"-0.05\" y=\"0.95\" style=\"cursor:sw-resize;\"></rect></svg></g><g class=\"centerPoint\"><ellipse class=\"handle\" style=\"opacity:0;\" cx=\"0.2581967213114754\" cy=\"0.3018292682926829\" rx=\"0.05\" ry=\"0.07439222042139385\"></ellipse><path class=\"cross\" d=\"M0, 0.3018292682926829H1M0.2581967213114754, 0V1\"></path></g><svg class=\"feature ORB keypoint\" preserveAspectRatio=\"none\" viewBox=\"0 0 2 2\" x=\"0.166\" y=\"0.165\" width=\"0.184\" height=\"0.274\"><g><circle r=\"1\" cx=\"1\" cy=\"1\" class=\"back\"></circle><circle r=\"1\" cx=\"1\" cy=\"1\" class=\"front\"></circle><path class=\"cross\" d=\"M0,1h0.9m0.2,0h0.9M1,0v0.9m0,0.2v0.9\" transform=\"rotate(45 1 1)\"></path></g><text x=\"1\" y=\"0.13043478260869565\" text-anchor=\"middle\"><tspan class=\"label\" x=\"1\" dy=\"0.2608695652173913\" style=\"font-size:0.2173913043478261px;\">label: ORB keypoint</tspan><tspan class=\"weight\" x=\"1\" dy=\"0.2608695652173913\" style=\"font-size:0.2173913043478261px;\">weight: 18.016</tspan></text></svg><svg class=\"feature ORB keypoint\" preserveAspectRatio=\"none\" viewBox=\"0 0 2 2\" x=\"0.141\" y=\"0.54\" width=\"0.123\" height=\"0.183\"><g><circle r=\"1\" cx=\"1\" cy=\"1\" class=\"back\"></circle><circle r=\"1\" cx=\"1\" cy=\"1\" class=\"front\"></circle><path class=\"cross\" d=\"M0,1h0.9m0.2,0h0.9M1,0v0.9m0,0.2v0.9\" transform=\"rotate(45 1 1)\"></path></g><text x=\"1\" y=\"0.19512195121951217\" text-anchor=\"middle\"><tspan class=\"label\" x=\"1\" dy=\"0.39024390243902435\" style=\"font-size:0.3252032520325203px;\">label: ORB keypoint</tspan><tspan class=\"weight\" x=\"1\" dy=\"0.39024390243902435\" style=\"font-size:0.3252032520325203px;\">weight: 13.818</tspan></text></svg><svg class=\"feature ORB keypoint\" preserveAspectRatio=\"none\" viewBox=\"0 0 2 2\" x=\"0.197\" y=\"0.21\" width=\"0.123\" height=\"0.183\"><g><circle r=\"1\" cx=\"1\" cy=\"1\" class=\"back\"></circle><circle r=\"1\" cx=\"1\" cy=\"1\" class=\"front\"></circle><path class=\"cross\" d=\"M0,1h0.9m0.2,0h0.9M1,0v0.9m0,0.2v0.9\" transform=\"rotate(45 1 1)\"></path></g><text x=\"1\" y=\"0.19512195121951217\" text-anchor=\"middle\"><tspan class=\"label\" x=\"1\" dy=\"0.39024390243902435\" style=\"font-size:0.3252032520325203px;\">label: ORB keypoint</tspan><tspan class=\"weight\" x=\"1\" dy=\"0.39024390243902435\" style=\"font-size:0.3252032520325203px;\">weight: 13.675</tspan></text></svg><svg class=\"feature ORB keypoint\" preserveAspectRatio=\"none\" viewBox=\"0 0 2 2\" x=\"0.12\" y=\"0.508\" width=\"0.184\" height=\"0.274\"><g><circle r=\"1\" cx=\"1\" cy=\"1\" class=\"back\"></circle><circle r=\"1\" cx=\"1\" cy=\"1\" class=\"front\"></circle><path class=\"cross\" d=\"M0,1h0.9m0.2,0h0.9M1,0v0.9m0,0.2v0.9\" transform=\"rotate(45 1 1)\"></path></g><text x=\"1\" y=\"0.13043478260869565\" text-anchor=\"middle\"><tspan class=\"label\" x=\"1\" dy=\"0.2608695652173913\" style=\"font-size:0.2173913043478261px;\">label: ORB keypoint</tspan><tspan class=\"weight\" x=\"1\" dy=\"0.2608695652173913\" style=\"font-size:0.2173913043478261px;\">weight: 13.335</tspan></text></svg><svg class=\"feature ORB keypoint\" preserveAspectRatio=\"none\" viewBox=\"0 0 2 2\" x=\"0.105\" y=\"0.54\" width=\"0.123\" height=\"0.183\"><g><circle r=\"1\" cx=\"1\" cy=\"1\" class=\"back\"></circle><circle r=\"1\" cx=\"1\" cy=\"1\" class=\"front\"></circle><path class=\"cross\" d=\"M0,1h0.9m0.2,0h0.9M1,0v0.9m0,0.2v0.9\" transform=\"rotate(45 1 1)\"></path></g><text x=\"1\" y=\"0.19512195121951217\" text-anchor=\"middle\"><tspan class=\"label\" x=\"1\" dy=\"0.39024390243902435\" style=\"font-size:0.3252032520325203px;\">label: ORB keypoint</tspan><tspan class=\"weight\" x=\"1\" dy=\"0.39024390243902435\" style=\"font-size:0.3252032520325203px;\">weight: 11.48</tspan></text></svg><svg class=\"feature ORB keypoint\" preserveAspectRatio=\"none\" viewBox=\"0 0 2 2\" x=\"0.156\" y=\"0.573\" width=\"0.082\" height=\"0.122\"><g><circle r=\"1\" cx=\"1\" cy=\"1\" class=\"back\"></circle><circle r=\"1\" cx=\"1\" cy=\"1\" class=\"front\"></circle><path class=\"cross\" d=\"M0,1h0.9m0.2,0h0.9M1,0v0.9m0,0.2v0.9\" transform=\"rotate(45 1 1)\"></path></g><text x=\"1\" y=\"0.2926829268292683\" text-anchor=\"middle\"><tspan class=\"label\" x=\"1\" dy=\"0.5853658536585366\" style=\"font-size:0.4878048780487805px;\">label: ORB keypoint</tspan><tspan class=\"weight\" x=\"1\" dy=\"0.5853658536585366\" style=\"font-size:0.4878048780487805px;\">weight: 10.502</tspan></text></svg><svg class=\"feature ORB keypoint\" preserveAspectRatio=\"none\" viewBox=\"0 0 2 2\" x=\"0.455\" y=\"0.476\" width=\"0.082\" height=\"0.122\"><g><circle r=\"1\" cx=\"1\" cy=\"1\" class=\"back\"></circle><circle r=\"1\" cx=\"1\" cy=\"1\" class=\"front\"></circle><path class=\"cross\" d=\"M0,1h0.9m0.2,0h0.9M1,0v0.9m0,0.2v0.9\" transform=\"rotate(45 1 1)\"></path></g><text x=\"1\" y=\"0.2926829268292683\" text-anchor=\"middle\"><tspan class=\"label\" x=\"1\" dy=\"0.5853658536585366\" style=\"font-size:0.4878048780487805px;\">label: ORB keypoint</tspan><tspan class=\"weight\" x=\"1\" dy=\"0.5853658536585366\" style=\"font-size:0.4878048780487805px;\">weight: 7.653</tspan></text></svg><svg class=\"feature ORB keypoint\" preserveAspectRatio=\"none\" viewBox=\"0 0 2 2\" x=\"0.283\" y=\"0.573\" width=\"0.082\" height=\"0.122\"><g><circle r=\"1\" cx=\"1\" cy=\"1\" class=\"back\"></circle><circle r=\"1\" cx=\"1\" cy=\"1\" class=\"front\"></circle><path class=\"cross\" d=\"M0,1h0.9m0.2,0h0.9M1,0v0.9m0,0.2v0.9\" transform=\"rotate(45 1 1)\"></path></g><text x=\"1\" y=\"0.2926829268292683\" text-anchor=\"middle\"><tspan class=\"label\" x=\"1\" dy=\"0.5853658536585366\" style=\"font-size:0.4878048780487805px;\">label: ORB keypoint</tspan><tspan class=\"weight\" x=\"1\" dy=\"0.5853658536585366\" style=\"font-size:0.4878048780487805px;\">weight: 7.222</tspan></text></svg><svg class=\"feature ORB keypoint\" preserveAspectRatio=\"none\" viewBox=\"0 0 2 2\" x=\"0.27\" y=\"0.256\" width=\"0.082\" height=\"0.122\"><g><circle r=\"1\" cx=\"1\" cy=\"1\" class=\"back\"></circle><circle r=\"1\" cx=\"1\" cy=\"1\" class=\"front\"></circle><path class=\"cross\" d=\"M0,1h0.9m0.2,0h0.9M1,0v0.9m0,0.2v0.9\" transform=\"rotate(45 1 1)\"></path></g><text x=\"1\" y=\"0.2926829268292683\" text-anchor=\"middle\"><tspan class=\"label\" x=\"1\" dy=\"0.5853658536585366\" style=\"font-size:0.4878048780487805px;\">label: ORB keypoint</tspan><tspan class=\"weight\" x=\"1\" dy=\"0.5853658536585366\" style=\"font-size:0.4878048780487805px;\">weight: 7.053</tspan></text></svg><svg class=\"feature ORB keypoint\" preserveAspectRatio=\"none\" viewBox=\"0 0 2 2\" x=\"0.221\" y=\"0.247\" width=\"0.277\" height=\"0.412\"><g><circle r=\"1\" cx=\"1\" cy=\"1\" class=\"back\"></circle><circle r=\"1\" cx=\"1\" cy=\"1\" class=\"front\"></circle><path class=\"cross\" d=\"M0,1h0.9m0.2,0h0.9M1,0v0.9m0,0.2v0.9\" transform=\"rotate(45 1 1)\"></path></g><text x=\"1\" y=\"0.08664259927797834\" text-anchor=\"middle\"><tspan class=\"label\" x=\"1\" dy=\"0.17328519855595667\" style=\"font-size:0.1444043321299639px;\">label: ORB keypoint</tspan><tspan class=\"weight\" x=\"1\" dy=\"0.17328519855595667\" style=\"font-size:0.1444043321299639px;\">weight: 5.001</tspan></text></svg></svg></div><div class=\"infoBoxWrapper\"><div class=\"infoBox\"><div class=\"infoRow\"><div class=\"label\">left:</div><div class=\"value\">0.165</div></div><div class=\"infoRow\"><div class=\"label\">top:</div><div class=\"value\">0.105</div></div><div class=\"infoRow\"><div class=\"label\">right:</div><div class=\"value\">0.782</div></div><div class=\"infoRow\"><div class=\"label\">bottom:</div><div class=\"value\">0.537</div></div><div class=\"infoRow\"><div class=\"label\">x:</div><div class=\"value\">0.302</div></div><div class=\"infoRow\"><div class=\"label\">y:</div><div class=\"value\">0.258</div></div></div></div></div><div class=\"previewPanel\" style=\"flex-direction:row;\"><div class=\"previewWrapper infoParent\" style=\"flex:1;\"><svg class=\"previewImg\" style=\"background-image:url(Henri-Cartier-Bresson-Hyeres-France-1932.jpg);background-position:18.4% 42.5%;background-repeat:no-repeat;background-size:231.3% auto;\" viewBox=\"0 0 1 1\"></svg><div class=\"infoBoxWrapper\"><div class=\"infoBox\"><div class=\"infoRow\"><div class=\"label\">position:</div><div class=\"value\">18.4% 42.5%</div></div><div class=\"infoRow\"><div class=\"label\">size:</div><div class=\"value\">231.3% auto</div></div><div class=\"infoRow\"><div class=\"label\">aspect ratio:</div><div class=\"value\">1</div></div></div></div></div><div class=\"previewWrapper infoParent\" style=\"flex:0.5;\"><svg class=\"previewImg\" style=\"background-image:url(Henri-Cartier-Bresson-Hyeres-France-1932.jpg);background-position:15.7% 50.0%;background-repeat:no-repeat;background-size:297.6% auto;\" viewBox=\"0 0 0.5 1\"></svg><div class=\"infoBoxWrapper\"><div class=\"infoBox\"><div class=\"infoRow\"><div class=\"label\">position:</div><div class=\"value\">15.7% 50.0%</div></div><div class=\"infoRow\"><div class=\"label\">size:</div><div class=\"value\">297.6% auto</div></div><div class=\"infoRow\"><div class=\"label\">aspect ratio:</div><div class=\"value\">0.5</div></div></div></div></div><div class=\"previewWrapper infoParent\" style=\"flex:2.5;\"><svg class=\"previewImg\" style=\"background-image:url(Henri-Cartier-Bresson-Hyeres-France-1932.jpg);background-position:50.0% 40.7%;background-repeat:no-repeat;background-size:100.0% auto;\" viewBox=\"0 0 2.5 1\"></svg><div class=\"infoBoxWrapper\"><div class=\"infoBox\"><div class=\"infoRow\"><div class=\"label\">position:</div><div class=\"value\">50.0% 40.7%</div></div><div class=\"infoRow\"><div class=\"label\">size:</div><div class=\"value\">100.0% auto</div></div><div class=\"infoRow\"><div class=\"label\">aspect ratio:</div><div class=\"value\">2.5</div></div></div></div></div></div></div>\n",
       "\n",
       "<h4>Marc-Riboud-Washington-1967.jpg</h4><p>detect: 1078ms render: 402ms</p><div class=\"cropboxWrapper\" style=\"flex-direction:column;display:flex;\"><div class=\"masterImgWrapper infoParent\"><img class=\"masterImg\" src=\"Marc-Riboud-Washington-1967.jpg\"/><div class=\"overlayWrapper\"><svg class=\"overlay inactive\" viewBox=\"0 0 1 1\" preserveAspectRatio=\"none\" height=\"100%\" width=\"100%\"><symbol id=\"profile-face\" viewBox=\"0 0 100 100\"><path d=\"m15.3 69.6c-2.7-1.8-10.1-3.3-7.91-7.2 2.91-5.2 9.11-11.9\n",
       "              8.21-17.5-4-24.2 10-39.8 33.9-39.9 24-.09 37.5 12.8 37.5 38.2 0\n",
       "              35.7-51.1 60.8-59.8 48.5-8.8-12.6-7.6-17.4-11.9-22.1z\"></path></symbol><symbol id=\"frontal-face\" viewBox=\"0 0 100 100\"><path d=\"m50 5c-12.8 0-25.8 7.73-30 16.9-4.19 9.17-.562 14.4-.768\n",
       "              29.3-.205 15 6.92 30 13.4 34.9 6.49 4.88 11.3 8.89 17.3 8.89 6.04\n",
       "              0 10.8-4.01 17.3-8.89 6.6-4.9 13.7-19.9 13.5-34.9-.2-14.9\n",
       "              3.5-20.1-.7-29.3s-17.2-16.9-30-16.9z\"></path></symbol><path class=\"outside\" fill-rule=\"evenodd\" d=\"M0, 0H1V1H0ZM0.06707317073170732, 0.16147540983606556V0.8926380368098159H0.8200542005420055V0.16147540983606556Z\"></path><g class=\"inside\"><path class=\"box\" d=\"M0.06707317073170732, 0.16147540983606556V0.8926380368098159H0.8200542005420055V0.16147540983606556Z\"></path><svg class=\"handles\" viewBox=\"0 0 1 1\" preserveAspectRatio=\"none\" height=\"0.7311626269737503\" width=\"0.7529810298102981\" x=\"0.06707317073170732\" y=\"0.16147540983606556\"><rect class=\"1000\" width=\"0.1\" height=\"1.1\" x=\"-0.05\" y=\"-0.05\" style=\"cursor:ew-resize;\"></rect><rect class=\"0100\" width=\"1.1\" height=\"0.1\" x=\"-0.05\" y=\"-0.05\" style=\"cursor:ns-resize;\"></rect><rect class=\"0010\" width=\"0.1\" height=\"1.1\" x=\"0.95\" y=\"-0.05\" style=\"cursor:ew-resize;\"></rect><rect class=\"0001\" width=\"1.1\" height=\"0.1\" x=\"-0.05\" y=\"0.95\" style=\"cursor:ns-resize;\"></rect><rect class=\"1100\" width=\"0.1\" height=\"0.1\" x=\"-0.05\" y=\"-0.05\" style=\"cursor:nw-resize;\"></rect><rect class=\"0110\" width=\"0.1\" height=\"0.1\" x=\"0.95\" y=\"-0.05\" style=\"cursor:ne-resize;\"></rect><rect class=\"0011\" width=\"0.1\" height=\"0.1\" x=\"0.95\" y=\"0.95\" style=\"cursor:se-resize;\"></rect><rect class=\"1001\" width=\"0.1\" height=\"0.1\" x=\"-0.05\" y=\"0.95\" style=\"cursor:sw-resize;\"></rect></svg></g><g class=\"centerPoint\"><ellipse class=\"handle\" style=\"opacity:0;\" cx=\"0.7249322493224932\" cy=\"0.305327868852459\" rx=\"0.05\" ry=\"0.07554744525547445\"></ellipse><path class=\"cross\" d=\"M0, 0.305327868852459H1M0.7249322493224932, 0V1\"></path></g><svg class=\"feature profile face\" preserveAspectRatio=\"none\" viewBox=\"0 0 2 2\" x=\"0.63\" y=\"0.161\" width=\"0.19\" height=\"0.288\"><g><use xlink:href=\"#profile-face\" x=\"0\" y=\"0\" height=\"2\" width=\"2\" class=\"back\"></use><use xlink:href=\"#profile-face\" x=\"0\" y=\"0\" height=\"2\" width=\"2\" class=\"front\"></use></g><text x=\"1\" y=\"0.1263157894736842\" text-anchor=\"middle\"><tspan class=\"label\" x=\"1\" dy=\"0.2526315789473684\" style=\"font-size:0.21052631578947367px;\">label: profile face</tspan><tspan class=\"weight\" x=\"1\" dy=\"0.2526315789473684\" style=\"font-size:0.21052631578947367px;\">weight: 2.534</tspan></text></svg><svg class=\"feature ORB keypoint\" preserveAspectRatio=\"none\" viewBox=\"0 0 2 2\" x=\"0.22\" y=\"0.709\" width=\"0.122\" height=\"0.184\"><g><circle r=\"1\" cx=\"1\" cy=\"1\" class=\"back\"></circle><circle r=\"1\" cx=\"1\" cy=\"1\" class=\"front\"></circle><path class=\"cross\" d=\"M0,1h0.9m0.2,0h0.9M1,0v0.9m0,0.2v0.9\" transform=\"rotate(45 1 1)\"></path></g><text x=\"1\" y=\"0.19672131147540986\" text-anchor=\"middle\"><tspan class=\"label\" x=\"1\" dy=\"0.3934426229508197\" style=\"font-size:0.3278688524590164px;\">label: ORB keypoint</tspan><tspan class=\"weight\" x=\"1\" dy=\"0.3934426229508197\" style=\"font-size:0.3278688524590164px;\">weight: 12.391</tspan></text></svg><svg class=\"feature ORB keypoint\" preserveAspectRatio=\"none\" viewBox=\"0 0 2 2\" x=\"0.634\" y=\"0.583\" width=\"0.081\" height=\"0.123\"><g><circle r=\"1\" cx=\"1\" cy=\"1\" class=\"back\"></circle><circle r=\"1\" cx=\"1\" cy=\"1\" class=\"front\"></circle><path class=\"cross\" d=\"M0,1h0.9m0.2,0h0.9M1,0v0.9m0,0.2v0.9\" transform=\"rotate(45 1 1)\"></path></g><text x=\"1\" y=\"0.2962962962962963\" text-anchor=\"middle\"><tspan class=\"label\" x=\"1\" dy=\"0.5925925925925926\" style=\"font-size:0.49382716049382713px;\">label: ORB keypoint</tspan><tspan class=\"weight\" x=\"1\" dy=\"0.5925925925925926\" style=\"font-size:0.49382716049382713px;\">weight: 11.852</tspan></text></svg><svg class=\"feature ORB keypoint\" preserveAspectRatio=\"none\" viewBox=\"0 0 2 2\" x=\"0.494\" y=\"0.179\" width=\"0.183\" height=\"0.276\"><g><circle r=\"1\" cx=\"1\" cy=\"1\" class=\"back\"></circle><circle r=\"1\" cx=\"1\" cy=\"1\" class=\"front\"></circle><path class=\"cross\" d=\"M0,1h0.9m0.2,0h0.9M1,0v0.9m0,0.2v0.9\" transform=\"rotate(45 1 1)\"></path></g><text x=\"1\" y=\"0.13114754098360656\" text-anchor=\"middle\"><tspan class=\"label\" x=\"1\" dy=\"0.26229508196721313\" style=\"font-size:0.21857923497267762px;\">label: ORB keypoint</tspan><tspan class=\"weight\" x=\"1\" dy=\"0.26229508196721313\" style=\"font-size:0.21857923497267762px;\">weight: 8.628</tspan></text></svg><svg class=\"feature ORB keypoint\" preserveAspectRatio=\"none\" viewBox=\"0 0 2 2\" x=\"0.244\" y=\"0.736\" width=\"0.081\" height=\"0.123\"><g><circle r=\"1\" cx=\"1\" cy=\"1\" class=\"back\"></circle><circle r=\"1\" cx=\"1\" cy=\"1\" class=\"front\"></circle><path class=\"cross\" d=\"M0,1h0.9m0.2,0h0.9M1,0v0.9m0,0.2v0.9\" transform=\"rotate(45 1 1)\"></path></g><text x=\"1\" y=\"0.2962962962962963\" text-anchor=\"middle\"><tspan class=\"label\" x=\"1\" dy=\"0.5925925925925926\" style=\"font-size:0.49382716049382713px;\">label: ORB keypoint</tspan><tspan class=\"weight\" x=\"1\" dy=\"0.5925925925925926\" style=\"font-size:0.49382716049382713px;\">weight: 8.352</tspan></text></svg><svg class=\"feature ORB keypoint\" preserveAspectRatio=\"none\" viewBox=\"0 0 2 2\" x=\"0.067\" y=\"0.543\" width=\"0.122\" height=\"0.184\"><g><circle r=\"1\" cx=\"1\" cy=\"1\" class=\"back\"></circle><circle r=\"1\" cx=\"1\" cy=\"1\" class=\"front\"></circle><path class=\"cross\" d=\"M0,1h0.9m0.2,0h0.9M1,0v0.9m0,0.2v0.9\" transform=\"rotate(45 1 1)\"></path></g><text x=\"1\" y=\"0.19672131147540986\" text-anchor=\"middle\"><tspan class=\"label\" x=\"1\" dy=\"0.3934426229508197\" style=\"font-size:0.3278688524590164px;\">label: ORB keypoint</tspan><tspan class=\"weight\" x=\"1\" dy=\"0.3934426229508197\" style=\"font-size:0.3278688524590164px;\">weight: 8.194</tspan></text></svg><svg class=\"feature ORB keypoint\" preserveAspectRatio=\"none\" viewBox=\"0 0 2 2\" x=\"0.201\" y=\"0.663\" width=\"0.122\" height=\"0.184\"><g><circle r=\"1\" cx=\"1\" cy=\"1\" class=\"back\"></circle><circle r=\"1\" cx=\"1\" cy=\"1\" class=\"front\"></circle><path class=\"cross\" d=\"M0,1h0.9m0.2,0h0.9M1,0v0.9m0,0.2v0.9\" transform=\"rotate(45 1 1)\"></path></g><text x=\"1\" y=\"0.19672131147540986\" text-anchor=\"middle\"><tspan class=\"label\" x=\"1\" dy=\"0.3934426229508197\" style=\"font-size:0.3278688524590164px;\">label: ORB keypoint</tspan><tspan class=\"weight\" x=\"1\" dy=\"0.3934426229508197\" style=\"font-size:0.3278688524590164px;\">weight: 8.084</tspan></text></svg><svg class=\"feature ORB keypoint\" preserveAspectRatio=\"none\" viewBox=\"0 0 2 2\" x=\"0.22\" y=\"0.693\" width=\"0.081\" height=\"0.123\"><g><circle r=\"1\" cx=\"1\" cy=\"1\" class=\"back\"></circle><circle r=\"1\" cx=\"1\" cy=\"1\" class=\"front\"></circle><path class=\"cross\" d=\"M0,1h0.9m0.2,0h0.9M1,0v0.9m0,0.2v0.9\" transform=\"rotate(45 1 1)\"></path></g><text x=\"1\" y=\"0.2962962962962963\" text-anchor=\"middle\"><tspan class=\"label\" x=\"1\" dy=\"0.5925925925925926\" style=\"font-size:0.49382716049382713px;\">label: ORB keypoint</tspan><tspan class=\"weight\" x=\"1\" dy=\"0.5925925925925926\" style=\"font-size:0.49382716049382713px;\">weight: 7.551</tspan></text></svg><svg class=\"feature ORB keypoint\" preserveAspectRatio=\"none\" viewBox=\"0 0 2 2\" x=\"0.285\" y=\"0.356\" width=\"0.081\" height=\"0.123\"><g><circle r=\"1\" cx=\"1\" cy=\"1\" class=\"back\"></circle><circle r=\"1\" cx=\"1\" cy=\"1\" class=\"front\"></circle><path class=\"cross\" d=\"M0,1h0.9m0.2,0h0.9M1,0v0.9m0,0.2v0.9\" transform=\"rotate(45 1 1)\"></path></g><text x=\"1\" y=\"0.2962962962962963\" text-anchor=\"middle\"><tspan class=\"label\" x=\"1\" dy=\"0.5925925925925926\" style=\"font-size:0.49382716049382713px;\">label: ORB keypoint</tspan><tspan class=\"weight\" x=\"1\" dy=\"0.5925925925925926\" style=\"font-size:0.49382716049382713px;\">weight: 7.292</tspan></text></svg><svg class=\"feature ORB keypoint\" preserveAspectRatio=\"none\" viewBox=\"0 0 2 2\" x=\"0.549\" y=\"0.525\" width=\"0.183\" height=\"0.276\"><g><circle r=\"1\" cx=\"1\" cy=\"1\" class=\"back\"></circle><circle r=\"1\" cx=\"1\" cy=\"1\" class=\"front\"></circle><path class=\"cross\" d=\"M0,1h0.9m0.2,0h0.9M1,0v0.9m0,0.2v0.9\" transform=\"rotate(45 1 1)\"></path></g><text x=\"1\" y=\"0.13114754098360656\" text-anchor=\"middle\"><tspan class=\"label\" x=\"1\" dy=\"0.26229508196721313\" style=\"font-size:0.21857923497267762px;\">label: ORB keypoint</tspan><tspan class=\"weight\" x=\"1\" dy=\"0.26229508196721313\" style=\"font-size:0.21857923497267762px;\">weight: 7.039</tspan></text></svg></svg></div><div class=\"infoBoxWrapper\"><div class=\"infoBox\"><div class=\"infoRow\"><div class=\"label\">left:</div><div class=\"value\">0.161</div></div><div class=\"infoRow\"><div class=\"label\">top:</div><div class=\"value\">0.067</div></div><div class=\"infoRow\"><div class=\"label\">right:</div><div class=\"value\">0.893</div></div><div class=\"infoRow\"><div class=\"label\">bottom:</div><div class=\"value\">0.820</div></div><div class=\"infoRow\"><div class=\"label\">x:</div><div class=\"value\">0.305</div></div><div class=\"infoRow\"><div class=\"label\">y:</div><div class=\"value\">0.725</div></div></div></div></div><div class=\"previewPanel\" style=\"flex-direction:row;\"><div class=\"previewWrapper infoParent\" style=\"flex:1;\"><svg class=\"previewImg\" style=\"background-image:url(Marc-Riboud-Washington-1967.jpg);background-position:46.8% 50.0%;background-repeat:no-repeat;background-size:151.1% auto;\" viewBox=\"0 0 1 1\"></svg><div class=\"infoBoxWrapper\"><div class=\"infoBox\"><div class=\"infoRow\"><div class=\"label\">position:</div><div class=\"value\">46.8% 50.0%</div></div><div class=\"infoRow\"><div class=\"label\">size:</div><div class=\"value\">151.1% auto</div></div><div class=\"infoRow\"><div class=\"label\">aspect ratio:</div><div class=\"value\">1</div></div></div></div></div><div class=\"previewWrapper infoParent\" style=\"flex:0.5;\"><svg class=\"previewImg\" style=\"background-image:url(Marc-Riboud-Washington-1967.jpg);background-position:73.1% 50.0%;background-repeat:no-repeat;background-size:302.2% auto;\" viewBox=\"0 0 0.5 1\"></svg><div class=\"infoBoxWrapper\"><div class=\"infoBox\"><div class=\"infoRow\"><div class=\"label\">position:</div><div class=\"value\">73.1% 50.0%</div></div><div class=\"infoRow\"><div class=\"label\">size:</div><div class=\"value\">302.2% auto</div></div><div class=\"infoRow\"><div class=\"label\">aspect ratio:</div><div class=\"value\">0.5</div></div></div></div></div><div class=\"previewWrapper infoParent\" style=\"flex:2.5;\"><svg class=\"previewImg\" style=\"background-image:url(Marc-Riboud-Washington-1967.jpg);background-position:50.0% 40.8%;background-repeat:no-repeat;background-size:100.0% auto;\" viewBox=\"0 0 2.5 1\"></svg><div class=\"infoBoxWrapper\"><div class=\"infoBox\"><div class=\"infoRow\"><div class=\"label\">position:</div><div class=\"value\">50.0% 40.8%</div></div><div class=\"infoRow\"><div class=\"label\">size:</div><div class=\"value\">100.0% auto</div></div><div class=\"infoRow\"><div class=\"label\">aspect ratio:</div><div class=\"value\">2.5</div></div></div></div></div></div></div>\n",
       "\n",
       "<h4>Gordon-Parks-New-York-1958.jpg</h4><p>detect: 1041ms render: 473ms</p><div class=\"cropboxWrapper\" style=\"flex-direction:column;display:flex;\"><div class=\"masterImgWrapper infoParent\"><img class=\"masterImg\" src=\"Gordon-Parks-New-York-1958.jpg\"/><div class=\"overlayWrapper\"><svg class=\"overlay inactive\" viewBox=\"0 0 1 1\" preserveAspectRatio=\"none\" height=\"100%\" width=\"100%\"><symbol id=\"profile-face\" viewBox=\"0 0 100 100\"><path d=\"m15.3 69.6c-2.7-1.8-10.1-3.3-7.91-7.2 2.91-5.2 9.11-11.9\n",
       "              8.21-17.5-4-24.2 10-39.8 33.9-39.9 24-.09 37.5 12.8 37.5 38.2 0\n",
       "              35.7-51.1 60.8-59.8 48.5-8.8-12.6-7.6-17.4-11.9-22.1z\"></path></symbol><symbol id=\"frontal-face\" viewBox=\"0 0 100 100\"><path d=\"m50 5c-12.8 0-25.8 7.73-30 16.9-4.19 9.17-.562 14.4-.768\n",
       "              29.3-.205 15 6.92 30 13.4 34.9 6.49 4.88 11.3 8.89 17.3 8.89 6.04\n",
       "              0 10.8-4.01 17.3-8.89 6.6-4.9 13.7-19.9 13.5-34.9-.2-14.9\n",
       "              3.5-20.1-.7-29.3s-17.2-16.9-30-16.9z\"></path></symbol><path class=\"outside\" fill-rule=\"evenodd\" d=\"M0, 0H1V1H0ZM0.36587257617728536, 0.08867469879518074V0.7319277108433735H0.7562240663900415V0.08867469879518074Z\"></path><g class=\"inside\"><path class=\"box\" d=\"M0.36587257617728536, 0.08867469879518074V0.7319277108433735H0.7562240663900415V0.08867469879518074Z\"></path><svg class=\"handles\" viewBox=\"0 0 1 1\" preserveAspectRatio=\"none\" height=\"0.6432530120481927\" width=\"0.3903514902127561\" x=\"0.36587257617728536\" y=\"0.08867469879518074\"><rect class=\"1000\" width=\"0.1\" height=\"1.1\" x=\"-0.05\" y=\"-0.05\" style=\"cursor:ew-resize;\"></rect><rect class=\"0100\" width=\"1.1\" height=\"0.1\" x=\"-0.05\" y=\"-0.05\" style=\"cursor:ns-resize;\"></rect><rect class=\"0010\" width=\"0.1\" height=\"1.1\" x=\"0.95\" y=\"-0.05\" style=\"cursor:ew-resize;\"></rect><rect class=\"0001\" width=\"1.1\" height=\"0.1\" x=\"-0.05\" y=\"0.95\" style=\"cursor:ns-resize;\"></rect><rect class=\"1100\" width=\"0.1\" height=\"0.1\" x=\"-0.05\" y=\"-0.05\" style=\"cursor:nw-resize;\"></rect><rect class=\"0110\" width=\"0.1\" height=\"0.1\" x=\"0.95\" y=\"-0.05\" style=\"cursor:ne-resize;\"></rect><rect class=\"0011\" width=\"0.1\" height=\"0.1\" x=\"0.95\" y=\"0.95\" style=\"cursor:se-resize;\"></rect><rect class=\"1001\" width=\"0.1\" height=\"0.1\" x=\"-0.05\" y=\"0.95\" style=\"cursor:sw-resize;\"></rect></svg></g><g class=\"centerPoint\"><ellipse class=\"handle\" style=\"opacity:0;\" cx=\"0.43767313019390586\" cy=\"0.1927710843373494\" rx=\"0.05\" ry=\"0.07246376811594203\"></ellipse><path class=\"cross\" d=\"M0, 0.1927710843373494H1M0.43767313019390586, 0V1\"></path></g><svg class=\"feature alt face\" preserveAspectRatio=\"none\" viewBox=\"0 0 2 2\" x=\"0.366\" y=\"0.089\" width=\"0.144\" height=\"0.208\"><g><use xlink:href=\"#frontal-face\" x=\"0\" y=\"0\" height=\"2\" width=\"2\" class=\"back\"></use><use xlink:href=\"#frontal-face\" x=\"0\" y=\"0\" height=\"2\" width=\"2\" class=\"front\"></use></g><text x=\"1\" y=\"0.16666666666666666\" text-anchor=\"middle\"><tspan class=\"label\" x=\"1\" dy=\"0.3333333333333333\" style=\"font-size:0.2777777777777778px;\">label: alt face</tspan><tspan class=\"weight\" x=\"1\" dy=\"0.3333333333333333\" style=\"font-size:0.2777777777777778px;\">weight: 2.076</tspan></text></svg><svg class=\"feature frontal face\" preserveAspectRatio=\"none\" viewBox=\"0 0 2 2\" x=\"0.383\" y=\"0.111\" width=\"0.113\" height=\"0.164\"><g><use xlink:href=\"#frontal-face\" x=\"0\" y=\"0\" height=\"2\" width=\"2\" class=\"back\"></use><use xlink:href=\"#frontal-face\" x=\"0\" y=\"0\" height=\"2\" width=\"2\" class=\"front\"></use></g><text x=\"1\" y=\"0.21238938053097345\" text-anchor=\"middle\"><tspan class=\"label\" x=\"1\" dy=\"0.4247787610619469\" style=\"font-size:0.35398230088495575px;\">label: frontal face</tspan><tspan class=\"weight\" x=\"1\" dy=\"0.4247787610619469\" style=\"font-size:0.35398230088495575px;\">weight: 1.543</tspan></text></svg><svg class=\"feature ORB keypoint\" preserveAspectRatio=\"none\" viewBox=\"0 0 2 2\" x=\"0.639\" y=\"0.548\" width=\"0.083\" height=\"0.12\"><g><circle r=\"1\" cx=\"1\" cy=\"1\" class=\"back\"></circle><circle r=\"1\" cx=\"1\" cy=\"1\" class=\"front\"></circle><path class=\"cross\" d=\"M0,1h0.9m0.2,0h0.9M1,0v0.9m0,0.2v0.9\" transform=\"rotate(45 1 1)\"></path></g><text x=\"1\" y=\"0.2891566265060241\" text-anchor=\"middle\"><tspan class=\"label\" x=\"1\" dy=\"0.5783132530120482\" style=\"font-size:0.4819277108433735px;\">label: ORB keypoint</tspan><tspan class=\"weight\" x=\"1\" dy=\"0.5783132530120482\" style=\"font-size:0.4819277108433735px;\">weight: 7.055</tspan></text></svg><svg class=\"feature ORB keypoint\" preserveAspectRatio=\"none\" viewBox=\"0 0 2 2\" x=\"0.616\" y=\"0.515\" width=\"0.124\" height=\"0.181\"><g><circle r=\"1\" cx=\"1\" cy=\"1\" class=\"back\"></circle><circle r=\"1\" cx=\"1\" cy=\"1\" class=\"front\"></circle><path class=\"cross\" d=\"M0,1h0.9m0.2,0h0.9M1,0v0.9m0,0.2v0.9\" transform=\"rotate(45 1 1)\"></path></g><text x=\"1\" y=\"0.1935483870967742\" text-anchor=\"middle\"><tspan class=\"label\" x=\"1\" dy=\"0.3870967741935484\" style=\"font-size:0.3225806451612903px;\">label: ORB keypoint</tspan><tspan class=\"weight\" x=\"1\" dy=\"0.3870967741935484\" style=\"font-size:0.3225806451612903px;\">weight: 6.434</tspan></text></svg><svg class=\"feature ORB keypoint\" preserveAspectRatio=\"none\" viewBox=\"0 0 2 2\" x=\"0.591\" y=\"0.524\" width=\"0.124\" height=\"0.181\"><g><circle r=\"1\" cx=\"1\" cy=\"1\" class=\"back\"></circle><circle r=\"1\" cx=\"1\" cy=\"1\" class=\"front\"></circle><path class=\"cross\" d=\"M0,1h0.9m0.2,0h0.9M1,0v0.9m0,0.2v0.9\" transform=\"rotate(45 1 1)\"></path></g><text x=\"1\" y=\"0.1935483870967742\" text-anchor=\"middle\"><tspan class=\"label\" x=\"1\" dy=\"0.3870967741935484\" style=\"font-size:0.3225806451612903px;\">label: ORB keypoint</tspan><tspan class=\"weight\" x=\"1\" dy=\"0.3870967741935484\" style=\"font-size:0.3225806451612903px;\">weight: 6.434</tspan></text></svg><svg class=\"feature ORB keypoint\" preserveAspectRatio=\"none\" viewBox=\"0 0 2 2\" x=\"0.614\" y=\"0.548\" width=\"0.083\" height=\"0.12\"><g><circle r=\"1\" cx=\"1\" cy=\"1\" class=\"back\"></circle><circle r=\"1\" cx=\"1\" cy=\"1\" class=\"front\"></circle><path class=\"cross\" d=\"M0,1h0.9m0.2,0h0.9M1,0v0.9m0,0.2v0.9\" transform=\"rotate(45 1 1)\"></path></g><text x=\"1\" y=\"0.2891566265060241\" text-anchor=\"middle\"><tspan class=\"label\" x=\"1\" dy=\"0.5783132530120482\" style=\"font-size:0.4819277108433735px;\">label: ORB keypoint</tspan><tspan class=\"weight\" x=\"1\" dy=\"0.5783132530120482\" style=\"font-size:0.4819277108433735px;\">weight: 6.161</tspan></text></svg><svg class=\"feature ORB keypoint\" preserveAspectRatio=\"none\" viewBox=\"0 0 2 2\" x=\"0.585\" y=\"0.542\" width=\"0.083\" height=\"0.12\"><g><circle r=\"1\" cx=\"1\" cy=\"1\" class=\"back\"></circle><circle r=\"1\" cx=\"1\" cy=\"1\" class=\"front\"></circle><path class=\"cross\" d=\"M0,1h0.9m0.2,0h0.9M1,0v0.9m0,0.2v0.9\" transform=\"rotate(45 1 1)\"></path></g><text x=\"1\" y=\"0.2891566265060241\" text-anchor=\"middle\"><tspan class=\"label\" x=\"1\" dy=\"0.5783132530120482\" style=\"font-size:0.4819277108433735px;\">label: ORB keypoint</tspan><tspan class=\"weight\" x=\"1\" dy=\"0.5783132530120482\" style=\"font-size:0.4819277108433735px;\">weight: 5.928</tspan></text></svg><svg class=\"feature ORB keypoint\" preserveAspectRatio=\"none\" viewBox=\"0 0 2 2\" x=\"0.476\" y=\"0.264\" width=\"0.28\" height=\"0.407\"><g><circle r=\"1\" cx=\"1\" cy=\"1\" class=\"back\"></circle><circle r=\"1\" cx=\"1\" cy=\"1\" class=\"front\"></circle><path class=\"cross\" d=\"M0,1h0.9m0.2,0h0.9M1,0v0.9m0,0.2v0.9\" transform=\"rotate(45 1 1)\"></path></g><text x=\"1\" y=\"0.0857142857142857\" text-anchor=\"middle\"><tspan class=\"label\" x=\"1\" dy=\"0.1714285714285714\" style=\"font-size:0.14285714285714285px;\">label: ORB keypoint</tspan><tspan class=\"weight\" x=\"1\" dy=\"0.1714285714285714\" style=\"font-size:0.14285714285714285px;\">weight: 5.673</tspan></text></svg><svg class=\"feature ORB keypoint\" preserveAspectRatio=\"none\" viewBox=\"0 0 2 2\" x=\"0.485\" y=\"0.461\" width=\"0.187\" height=\"0.271\"><g><circle r=\"1\" cx=\"1\" cy=\"1\" class=\"back\"></circle><circle r=\"1\" cx=\"1\" cy=\"1\" class=\"front\"></circle><path class=\"cross\" d=\"M0,1h0.9m0.2,0h0.9M1,0v0.9m0,0.2v0.9\" transform=\"rotate(45 1 1)\"></path></g><text x=\"1\" y=\"0.1283422459893048\" text-anchor=\"middle\"><tspan class=\"label\" x=\"1\" dy=\"0.2566844919786096\" style=\"font-size:0.21390374331550802px;\">label: ORB keypoint</tspan><tspan class=\"weight\" x=\"1\" dy=\"0.2566844919786096\" style=\"font-size:0.21390374331550802px;\">weight: 5.292</tspan></text></svg><svg class=\"feature ORB keypoint\" preserveAspectRatio=\"none\" viewBox=\"0 0 2 2\" x=\"0.551\" y=\"0.298\" width=\"0.187\" height=\"0.271\"><g><circle r=\"1\" cx=\"1\" cy=\"1\" class=\"back\"></circle><circle r=\"1\" cx=\"1\" cy=\"1\" class=\"front\"></circle><path class=\"cross\" d=\"M0,1h0.9m0.2,0h0.9M1,0v0.9m0,0.2v0.9\" transform=\"rotate(45 1 1)\"></path></g><text x=\"1\" y=\"0.1283422459893048\" text-anchor=\"middle\"><tspan class=\"label\" x=\"1\" dy=\"0.2566844919786096\" style=\"font-size:0.21390374331550802px;\">label: ORB keypoint</tspan><tspan class=\"weight\" x=\"1\" dy=\"0.2566844919786096\" style=\"font-size:0.21390374331550802px;\">weight: 4.657</tspan></text></svg></svg></div><div class=\"infoBoxWrapper\"><div class=\"infoBox\"><div class=\"infoRow\"><div class=\"label\">left:</div><div class=\"value\">0.089</div></div><div class=\"infoRow\"><div class=\"label\">top:</div><div class=\"value\">0.366</div></div><div class=\"infoRow\"><div class=\"label\">right:</div><div class=\"value\">0.732</div></div><div class=\"infoRow\"><div class=\"label\">bottom:</div><div class=\"value\">0.756</div></div><div class=\"infoRow\"><div class=\"label\">x:</div><div class=\"value\">0.193</div></div><div class=\"infoRow\"><div class=\"label\">y:</div><div class=\"value\">0.438</div></div></div></div></div><div class=\"previewPanel\" style=\"flex-direction:row;\"><div class=\"previewWrapper infoParent\" style=\"flex:1;\"><svg class=\"previewImg\" style=\"background-image:url(Gordon-Parks-New-York-1958.jpg);background-position:61.0% 24.9%;background-repeat:no-repeat;background-size:225.3% auto;\" viewBox=\"0 0 1 1\"></svg><div class=\"infoBoxWrapper\"><div class=\"infoBox\"><div class=\"infoRow\"><div class=\"label\">position:</div><div class=\"value\">61.0% 24.9%</div></div><div class=\"infoRow\"><div class=\"label\">size:</div><div class=\"value\">225.3% auto</div></div><div class=\"infoRow\"><div class=\"label\">aspect ratio:</div><div class=\"value\">1</div></div></div></div></div><div class=\"previewWrapper infoParent\" style=\"flex:0.5;\"><svg class=\"previewImg\" style=\"background-image:url(Gordon-Parks-New-York-1958.jpg);background-position:55.9% 50.0%;background-repeat:no-repeat;background-size:289.9% auto;\" viewBox=\"0 0 0.5 1\"></svg><div class=\"infoBoxWrapper\"><div class=\"infoBox\"><div class=\"infoRow\"><div class=\"label\">position:</div><div class=\"value\">55.9% 50.0%</div></div><div class=\"infoRow\"><div class=\"label\">size:</div><div class=\"value\">289.9% auto</div></div><div class=\"infoRow\"><div class=\"label\">aspect ratio:</div><div class=\"value\">0.5</div></div></div></div></div><div class=\"previewWrapper infoParent\" style=\"flex:2.5;\"><svg class=\"previewImg\" style=\"background-image:url(Gordon-Parks-New-York-1958.jpg);background-position:50.0% 21.1%;background-repeat:no-repeat;background-size:100.0% auto;\" viewBox=\"0 0 2.5 1\"></svg><div class=\"infoBoxWrapper\"><div class=\"infoBox\"><div class=\"infoRow\"><div class=\"label\">position:</div><div class=\"value\">50.0% 21.1%</div></div><div class=\"infoRow\"><div class=\"label\">size:</div><div class=\"value\">100.0% auto</div></div><div class=\"infoRow\"><div class=\"label\">aspect ratio:</div><div class=\"value\">2.5</div></div></div></div></div></div></div>\n"
      ],
      "text/plain": [
       "<IPython.core.display.HTML object>"
      ]
     },
     "execution_count": 20,
     "metadata": {},
     "output_type": "execute_result"
    }
   ],
   "source": [
    "images = [\n",
    "    'Sebastiao-Salgado-Serra-Pelada-1986.jpg',\n",
    "    'Henri-Cartier-Bresson-Ann-Arbor-1960.jpg',\n",
    "    'Henri-Cartier-Bresson-Dessau-1945.jpg',\n",
    "    'Henri-Cartier-Bresson-Hyeres-France-1932.jpg',\n",
    "    'Marc-Riboud-Washington-1967.jpg',\n",
    "    'Gordon-Parks-New-York-1958.jpg',\n",
    "]\n",
    "display.croppify_all(detector, images, preview=True)"
   ]
  },
  {
   "cell_type": "code",
   "execution_count": 21,
   "metadata": {
    "collapsed": false
   },
   "outputs": [
    {
     "name": "stdout",
     "output_type": "stream",
     "text": [
      "logging    100\n",
      "numpy      599\n",
      "cv2       1481\n",
      "os         333\n",
      "xml         10\n",
      "PIL         30\n",
      "curses     298\n",
      "shutil      67\n",
      "mimetypes   29\n",
      "urllib      10\n",
      "http        12\n"
     ]
    }
   ],
   "source": [
    "import importlib\n",
    "modules = 'logging numpy cv2 os xml PIL curses shutil mimetypes urllib http'.split()\n",
    "\n",
    "for module_name in modules:\n",
    "    m = importlib.import_module(module_name)\n",
    "    print('{:10}{:4}'.format(m.__name__, len(dir(m))))"
   ]
  },
  {
   "cell_type": "code",
   "execution_count": null,
   "metadata": {
    "collapsed": true
   },
   "outputs": [],
   "source": []
  }
 ],
 "metadata": {
  "celltoolbar": "Raw Cell Format",
  "kernelspec": {
   "display_name": "Python 3",
   "language": "python",
   "name": "python3"
  },
  "language_info": {
   "codemirror_mode": {
    "name": "ipython",
    "version": 3
   },
   "file_extension": ".py",
   "mimetype": "text/x-python",
   "name": "python",
   "nbconvert_exporter": "python",
   "pygments_lexer": "ipython3",
   "version": "3.5.1+"
  }
 },
 "nbformat": 4,
 "nbformat_minor": 0
}
