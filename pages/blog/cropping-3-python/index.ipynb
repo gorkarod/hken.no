{
 "cells": [
  {
   "cell_type": "raw",
   "metadata": {},
   "source": [
    "---\n",
    "title: 'How to use computer vision to crop images'\n",
    "date: '2016-03-23'\n",
    "path: /faces-and-stuff/\n",
    "readNext: /python_oop/2-classes-and-members/\n",
    "---"
   ]
  },
  {
   "cell_type": "markdown",
   "metadata": {},
   "source": [
    "## 1: Introduction\n",
    "* The problem \n",
    "    * Quality > Performance\n",
    "* Existing solutions\n",
    "    * cropping as a service\n",
    "        https://github.com/thumbor/thumbor\n",
    "    \n",
    "* What I want\n",
    "    * self-contained\n",
    "    * flexible\n",
    "    * tweakable"
   ]
  },
  {
   "cell_type": "markdown",
   "metadata": {},
   "source": [
    "## 2: Tools – OpenCV\n",
    "\n",
    "* What is it?\n",
    "* Specific libraries:\n",
    "    * Haar-cascade classifiers\n",
    "    http://docs.opencv.org/3.1.0/d7/d8b/tutorial_py_face_detection.html#gsc.tab=0\n",
    "    https://en.wikipedia.org/wiki/Viola%E2%80%93Jones_object_detection_framework\n",
    "    * ORB feature detection\n",
    "    https://en.wikipedia.org/wiki/ORB_(feature_descriptor)\n",
    "    http://docs.opencv.org/3.0-beta/doc/py_tutorials/py_feature2d/py_orb/py_orb.html\n",
    "* How to install\n",
    "    http://www.pyimagesearch.com/2015/07/20/install-opencv-3-0-and-python-3-4-on-ubuntu/\n",
    "* Read more\n",
    "    pyimagesearch\n",
    "    opencv docs"
   ]
  },
  {
   "cell_type": "markdown",
   "metadata": {},
   "source": [
    "## 3: Dummy feature detector\n",
    "* What output do I want?"
   ]
  },
  {
   "cell_type": "code",
   "execution_count": null,
   "metadata": {
    "collapsed": true
   },
   "outputs": [],
   "source": []
  },
  {
   "cell_type": "markdown",
   "metadata": {},
   "source": [
    "* code \n",
    "* json output\n",
    "* react widget\n",
    "* discussion:\n",
    "    * How can I use this?"
   ]
  },
  {
   "cell_type": "markdown",
   "metadata": {},
   "source": [
    "## 4: Feature detector\n",
    "* What is ORB?\n",
    "* link to documentation\n",
    "* code\n",
    "* output\n",
    "* discussion"
   ]
  },
  {
   "cell_type": "markdown",
   "metadata": {},
   "source": [
    "## 5: Face detection\n",
    "* What are Haas-cascades?\n",
    "* code\n",
    "* output\n",
    "* discussion"
   ]
  },
  {
   "cell_type": "markdown",
   "metadata": {},
   "source": [
    "## 6: Combined feature detector\n",
    "* explanation\n",
    "* code \n",
    "* output\n",
    "* discussion"
   ]
  },
  {
   "cell_type": "markdown",
   "metadata": {},
   "source": [
    "## 7: Summary\n",
    "* it's easy!\n",
    "* links\n",
    "    * OpenCV guy\n",
    "    * documentation\n",
    "    * sorl-thumbnail\n",
    "* My own stuff\n",
    "    * Algorithm\n",
    "    * React component"
   ]
  },
  {
   "cell_type": "code",
   "execution_count": 9,
   "metadata": {
    "collapsed": false,
    "hide": true
   },
   "outputs": [
    {
     "data": {
      "text/html": [
       "<style>.infoParent {\n",
       "  position: relative; }\n",
       "  .infoParent:hover .infoBox {\n",
       "    transform: translateY(0); }\n",
       "\n",
       ".infoBoxWrapper {\n",
       "  pointer-events: none;\n",
       "  overflow: hidden;\n",
       "  position: absolute;\n",
       "  bottom: 0;\n",
       "  left: 0;\n",
       "  right: 0;\n",
       "  z-index: 80; }\n",
       "  .infoBoxWrapper .infoBox {\n",
       "    display: block;\n",
       "    top: inherit;\n",
       "    transform: translateY(105%);\n",
       "    transition: transform 100ms ease;\n",
       "    background: rgba(0, 0, 0, 0.8);\n",
       "    font-size: 13px;\n",
       "    line-height: 1.2;\n",
       "    color: white;\n",
       "    padding: .3em;\n",
       "    margin: 0; }\n",
       "    .infoBoxWrapper .infoBox div {\n",
       "      display: inline-block; }\n",
       "    .infoBoxWrapper .infoBox .infoRow {\n",
       "      padding-right: 1em; }\n",
       "      .infoBoxWrapper .infoBox .infoRow .value {\n",
       "        font-weight: 500; }\n",
       "      .infoBoxWrapper .infoBox .infoRow .label {\n",
       "        padding-right: .2em; }\n",
       ".previewPanel {\n",
       "  display: flex;\n",
       "  flex: 3;\n",
       "  margin: -0.3vw;\n",
       "  padding: 0.6vw 0 0 0; }\n",
       "  .previewPanel .previewWrapper {\n",
       "    position: relative;\n",
       "    margin: 0.3vw; }\n",
       "    .previewPanel .previewWrapper svg.previewImg {\n",
       "      display: block; }\n",
       ".cropInfo {\n",
       "  top: 0;\n",
       "  left: 0;\n",
       "  position: absolute;\n",
       "  display: table; }\n",
       "  .cropInfo .infoRow {\n",
       "    display: table-row; }\n",
       "    .cropInfo .infoRow .label, .cropInfo .infoRow .value {\n",
       "      display: table-cell; }\n",
       "\n",
       "symbol {\n",
       "  overflow: visible; }\n",
       "\n",
       "@keyframes spin {\n",
       "  from {\n",
       "    transform: rotate(0deg); }\n",
       "  to {\n",
       "    transform: rotate(360deg); } }\n",
       "\n",
       ".overlayWrapper svg.overlay .feature {\n",
       "  shape-rendering: geometricPrecision;\n",
       "  overflow: visible;\n",
       "  transition: all 500ms; }\n",
       "  .overlayWrapper svg.overlay .feature text {\n",
       "    transition: inherit;\n",
       "    opacity: 0;\n",
       "    pointer-events: none; }\n",
       "    .overlayWrapper svg.overlay .feature text tspan {\n",
       "      fill: white;\n",
       "      vector-effect: non-scaling-stroke;\n",
       "      stroke: black;\n",
       "      stroke-opacity: 0.4;\n",
       "      stroke-width: 4;\n",
       "      font-weight: 500;\n",
       "      paint-order: stroke; }\n",
       "  .overlayWrapper svg.overlay .feature circle, .overlayWrapper svg.overlay .feature path, .overlayWrapper svg.overlay .feature rect, .overlayWrapper svg.overlay .feature use {\n",
       "    overflow: visible;\n",
       "    vector-effect: non-scaling-stroke;\n",
       "    fill: none;\n",
       "    stroke: white; }\n",
       "  .overlayWrapper svg.overlay .feature .front {\n",
       "    transition: all 300ms;\n",
       "    stroke-opacity: 0.8;\n",
       "    stroke-width: 1.2;\n",
       "    pointer-events: none; }\n",
       "  .overlayWrapper svg.overlay .feature .back {\n",
       "    stroke-opacity: 0.0;\n",
       "    stroke-width: 15;\n",
       "    pointer-events: stroke; }\n",
       "  .overlayWrapper svg.overlay .feature .cross {\n",
       "    transition: all 300ms;\n",
       "    pointer-events: none;\n",
       "    stroke-opacity: 0.0; }\n",
       "  .overlayWrapper svg.overlay .feature:hover .cross {\n",
       "    stroke-opacity: 1; }\n",
       "  .overlayWrapper svg.overlay .feature:hover .front {\n",
       "    stroke-opacity: 1;\n",
       "    stroke-width: 3; }\n",
       "  .overlayWrapper svg.overlay .feature:hover text {\n",
       "    opacity: 1; }\n",
       "\n",
       ".overlayWrapper .dragKing {\n",
       "  z-index: 100;\n",
       "  position: fixed;\n",
       "  top: 0;\n",
       "  left: 0;\n",
       "  right: 0;\n",
       "  bottom: 0;\n",
       "  cursor: move; }\n",
       "\n",
       ".overlayWrapper svg.overlay {\n",
       "  height: 100%;\n",
       "  z-index: 10;\n",
       "  shape-rendering: crispEdges;\n",
       "  position: absolute;\n",
       "  top: 0;\n",
       "  left: 0;\n",
       "  right: 0; }\n",
       "  .overlayWrapper svg.overlay path, .overlayWrapper svg.overlay rect, .overlayWrapper svg.overlay ellipse {\n",
       "    vector-effect: non-scaling-stroke;\n",
       "    fill: transparent; }\n",
       "  .overlayWrapper svg.overlay .outside {\n",
       "    fill: rgba(0, 0, 0, 0.5); }\n",
       "  .overlayWrapper svg.overlay .centerPoint {\n",
       "    position: relative; }\n",
       "    .overlayWrapper svg.overlay .centerPoint .handle {\n",
       "      cursor: crosshair;\n",
       "      opacity: 0; }\n",
       "      .overlayWrapper svg.overlay .centerPoint .handle:hover + .cross {\n",
       "        stroke: yellow; }\n",
       "    .overlayWrapper svg.overlay .centerPoint .cross {\n",
       "      pointer-events: none;\n",
       "      stroke: rgba(255, 255, 0, 0.5); }\n",
       "  .overlayWrapper svg.overlay .inside .box {\n",
       "    stroke: rgba(255, 255, 255, 0.3);\n",
       "    cursor: move; }\n",
       "  .overlayWrapper svg.overlay .inside:hover .box {\n",
       "    stroke: rgba(255, 255, 255, 0.8); }\n",
       "  .overlayWrapper svg.overlay .inside .handles {\n",
       "    overflow: visible; }\n",
       "  .overlayWrapper svg.overlay.inactive .inside, .overlayWrapper svg.overlay.inactive .handle {\n",
       "    pointer-events: none; }\n",
       ".cropboxWrapper {\n",
       "  max-width: 50em;\n",
       "  position: relative;\n",
       "  display: flex;\n",
       "  user-select: none;\n",
       "  -webkit-user-select: none;\n",
       "  margin: 1rem 0; }\n",
       "  .cropboxWrapper img {\n",
       "    display: block; }\n",
       "  .cropboxWrapper .masterImgWrapper {\n",
       "    flex: 11;\n",
       "    align-self: center; }\n",
       "</style>"
      ],
      "text/plain": [
       "<IPython.core.display.HTML object>"
      ]
     },
     "execution_count": 9,
     "metadata": {},
     "output_type": "execute_result"
    }
   ],
   "source": [
    "from IPython.display import HTML\n",
    "from utils import cropengine, reactjs\n",
    "import json\n",
    "HTML(reactjs.css())"
   ]
  },
  {
   "cell_type": "code",
   "execution_count": 6,
   "metadata": {
    "collapsed": false
   },
   "outputs": [],
   "source": [
    "import cv2\n",
    "from utils.boundingbox import Box\n",
    "from typing import List, Dict, Union\n",
    "from collections import OrderedDict\n",
    "import numpy\n",
    "\n",
    "FileName = str  # for type annotation\n",
    "\n",
    "\n",
    "def opencv_image(image_file: FileName, maxsize: int) -> numpy.ndarray:\n",
    "    \"\"\"Read a image file, convert to grayscale opencv image format\n",
    "\n",
    "    Our OpenCV algorithms works on a two dimensional numpy array integers\n",
    "    where 0 is black and 255 is white. We don't care about the colour channels.\n",
    "    \"\"\"\n",
    "    cv_image = cv2.imread(image_file)\n",
    "    imgheight, imgwidth = cv_image.shape[:2]\n",
    "    if imgwidth > imgheight:\n",
    "        dimensions = maxsize, maxsize * imgheight // imgwidth\n",
    "    else:\n",
    "        dimensions = maxsize * imgwidth // imgheight, maxsize\n",
    "    cv_image = cv2.resize(cv_image, dimensions)\n",
    "    return cv2.cvtColor(cv_image, cv2.COLOR_BGR2GRAY)\n",
    "\n",
    "\n",
    "def normalize_box(box: Box, image_width: int, image_height: int) -> Box:\n",
    "    \"\"\" Converts a Box to a relative coordinate system from 0,0 to 1,1\n",
    "\n",
    "    The input box, width and height are the actual pixel values of the input\n",
    "    image. The output will be in a normalized coordinate system where the image\n",
    "    width and height are both 1. Any part of the Box that overflows the image\n",
    "    frame is truncated. \"\"\"\n",
    "    return Box(0, 0, 1, 1) & Box(\n",
    "        left=box.left / image_width,\n",
    "        top=box.top / image_height,\n",
    "        right=box.right / image_width,\n",
    "        bottom=box.bottom / image_height,\n",
    "    )\n",
    "\n",
    "\n",
    "class Feature(Box):\n",
    "    \"\"\"Salient feature in an image\"\"\"\n",
    "\n",
    "    def __init__(self, value: float, className: str, *args, **kwargs) -> None:\n",
    "        super().__init__(*args, **kwargs)\n",
    "        self.value = value\n",
    "        self.className = className\n",
    "\n",
    "    def serialize(self) -> Dict[str, Union[str, float]]:\n",
    "        \"\"\"Create a dictionary with the properties needed to visualize the\n",
    "        feature\"\"\"\n",
    "\n",
    "        return OrderedDict([\n",
    "            ('className', self.className),\n",
    "            ('x', round(self.left, 3)),\n",
    "            ('y', round(self.top, 3)),\n",
    "            ('width', round(self.width, 3)),\n",
    "            ('height', round(self.height, 3)),\n",
    "            ('value', round(self.value, 3)),\n",
    "        ])\n",
    "\n",
    "\n",
    "class BaseCropEngine:\n",
    "\n",
    "    def __init__(self, padding: float=0.6) -> None:\n",
    "        self.padding = padding\n",
    "\n",
    "    def find_features(self, image_file: FileName) -> List[Feature]:\n",
    "        \"\"\" Finds the most salient features of the image \"\"\"\n",
    "        box = Box(0, 0, 1, 1) * self.padding\n",
    "        middle = Feature(1, 'base', **box.geometry)\n",
    "        return [middle]\n",
    "\n",
    "\n",
    "class KeypointCropEngine(BaseCropEngine):\n",
    "\n",
    "    def __init__(\n",
    "        self, n: int=10, imgsize: int=300, padding: float=1.0, **kwargs\n",
    "    ) -> None:\n",
    "        self.imagesize = imgsize\n",
    "        self.padding = padding\n",
    "        self.number = n\n",
    "        arguments = dict(\n",
    "            nfeatures=self.number + 1,\n",
    "            scaleFactor=1.4,\n",
    "            patchSize=self.imagesize // 8,\n",
    "            edgeThreshold=self.imagesize // 8,\n",
    "            WTA_K=2,\n",
    "            scoreType=cv2.ORB_FAST_SCORE,\n",
    "        )\n",
    "        arguments.update(kwargs)\n",
    "        self.feature_detector = cv2.ORB_create(**arguments)\n",
    "\n",
    "    def find_features(self, image_file: FileName) -> List[Feature]:\n",
    "        features = []\n",
    "        cv_image = opencv_image(image_file, self.imagesize)\n",
    "        imgheight, imgwidth = cv_image.shape[:2]\n",
    "        keypoints = self.feature_detector.detectAndCompute(\n",
    "            image=cv_image, mask=None)[0]\n",
    "\n",
    "        def normalize_value(box: Box, kp: cv2.KeyPoint) -> float:\n",
    "            return 0.001 * box.size * kp.response ** 2\n",
    "\n",
    "        for keypoint in keypoints:\n",
    "            r = keypoint.size / 2\n",
    "            x, y = keypoint.pt\n",
    "            box = Box(x - r, y - r, x + r, y + r) * self.padding\n",
    "            box = normalize_box(box, imgwidth, imgheight)\n",
    "            feature = Feature(\n",
    "                value=normalize_value(box, keypoint),\n",
    "                className='ORB keypoint',\n",
    "                **box.geometry,\n",
    "            )\n",
    "            features.append(feature)\n",
    "\n",
    "        features.sort(key=lambda b: -b.value)\n",
    "        return features[:self.number]\n",
    "    \n",
    "#     def plot_keypoints(self, image_file: FileName) -> None:\n",
    "#         cv_image = opencv_image(image_file, self.imagesize)\n",
    "#         keypoints = self.feature_detector.detectAndCompute(\n",
    "#             image=cv_image, mask=None)[0]\n",
    "#         cv_image = cv2.drawKeypoints(\n",
    "#             image=cv_image, keypoints=keypoints, outImage=cv_image, \n",
    "#             flags=cv2.DRAW_MATCHES_FLAGS_DRAW_RICH_KEYPOINTS)\n",
    "#         return cv_image\n",
    "\n",
    "    \n",
    "\n",
    "# import uuid, os\n",
    "# img = KeypointCropEngine().plot_keypoints('./kids_in_the_hall.jpg')\n",
    "# fn = 'tmp-{}.jpg'.format(uuid.uuid1().hex)\n",
    "# cv2.imwrite(fn, img)\n",
    "# HTML('<img src={} />'.format(fn))"
   ]
  },
  {
   "cell_type": "code",
   "execution_count": 7,
   "metadata": {
    "collapsed": false,
    "scrolled": false
   },
   "outputs": [],
   "source": [
    "def croppify(image_file, crop_engine = KeypointCropEngine()):\n",
    "    features = crop_engine.find_features(image_file)\n",
    "    # print (json.dumps([f.serialize() for f in features], indent=2))\n",
    "    return HTML(reactjs.render(image_file, features))\n"
   ]
  },
  {
   "cell_type": "code",
   "execution_count": 8,
   "metadata": {
    "collapsed": false
   },
   "outputs": [
    {
     "data": {
      "text/html": [
       "<div class=\"cropboxWrapper\" style=\"flex-direction:column;display:flex;\"><div class=\"masterImgWrapper infoParent\"><img class=\"masterImg\" src=\"./kids_in_the_hall.jpg\"/><div class=\"overlayWrapper\"><svg class=\"overlay inactive\" viewBox=\"0 0 1 1\" preserveAspectRatio=\"none\" height=\"100%\" width=\"100%\"><symbol id=\"profile-face\" viewBox=\"0 0 100 100\"><path d=\"m15.3 69.6c-2.7-1.8-10.1-3.3-7.91-7.2 2.91-5.2 9.11-11.9\n",
       "              8.21-17.5-4-24.2 10-39.8 33.9-39.9 24-.09 37.5 12.8 37.5 38.2 0\n",
       "              35.7-51.1 60.8-59.8 48.5-8.8-12.6-7.6-17.4-11.9-22.1z\"></path></symbol><symbol id=\"frontal-face\" viewBox=\"0 0 100 100\"><path d=\"m50 5c-12.8 0-25.8 7.73-30 16.9-4.19 9.17-.562 14.4-.768\n",
       "              29.3-.205 15 6.92 30 13.4 34.9 6.49 4.88 11.3 8.89 17.3 8.89 6.04\n",
       "              0 10.8-4.01 17.3-8.89 6.6-4.9 13.7-19.9 13.5-34.9-.2-14.9\n",
       "              3.5-20.1-.7-29.3s-17.2-16.9-30-16.9z\"></path></symbol><path class=\"outside\" fill-rule=\"evenodd\" d=\"M0, 0H1V1H0ZM0.06833333333333333, 0.1685082872928177V0.8469613322895535H0.9083333333333333V0.1685082872928177Z\"></path><g class=\"inside\"><path class=\"box\" d=\"M0.06833333333333333, 0.1685082872928177V0.8469613322895535H0.9083333333333333V0.1685082872928177Z\"></path><svg class=\"handles\" viewBox=\"0 0 1 1\" preserveAspectRatio=\"none\" height=\"0.6784530449967359\" width=\"0.84\" x=\"0.06833333333333333\" y=\"0.1685082872928177\"><rect class=\"1000\" width=\"0.1\" height=\"1.1\" x=\"-0.05\" y=\"-0.05\" style=\"cursor:ew-resize;\"></rect><rect class=\"0100\" width=\"1.1\" height=\"0.1\" x=\"-0.05\" y=\"-0.05\" style=\"cursor:ns-resize;\"></rect><rect class=\"0010\" width=\"0.1\" height=\"1.1\" x=\"0.95\" y=\"-0.05\" style=\"cursor:ew-resize;\"></rect><rect class=\"0001\" width=\"1.1\" height=\"0.1\" x=\"-0.05\" y=\"0.95\" style=\"cursor:ns-resize;\"></rect><rect class=\"1100\" width=\"0.1\" height=\"0.1\" x=\"-0.05\" y=\"-0.05\" style=\"cursor:nw-resize;\"></rect><rect class=\"0110\" width=\"0.1\" height=\"0.1\" x=\"0.95\" y=\"-0.05\" style=\"cursor:ne-resize;\"></rect><rect class=\"0011\" width=\"0.1\" height=\"0.1\" x=\"0.95\" y=\"0.95\" style=\"cursor:se-resize;\"></rect><rect class=\"1001\" width=\"0.1\" height=\"0.1\" x=\"-0.05\" y=\"0.95\" style=\"cursor:sw-resize;\"></rect></svg></g><g class=\"centerPoint\"><ellipse class=\"handle\" style=\"opacity:0;\" cx=\"0.2613333129882812\" cy=\"0.4548066281482001\" rx=\"0.05\" ry=\"0.082569558101473\"></ellipse><path class=\"cross\" d=\"M0, 0.4548066281482001H1M0.2613333129882812, 0V1\"></path></g><svg class=\"feature ORB keypoint\" preserveAspectRatio=\"none\" viewBox=\"0 0 2 2\" x=\"0.14\" y=\"0.254\" width=\"0.242\" height=\"0.401\"><text x=\"1\" y=\"0.09917355371900827\" text-anchor=\"middle\"><tspan class=\"className\" x=\"1\" dy=\"-0.19834710743801653\" style=\"font-size:0.1652892561983471px;\">className: ORB keypoint</tspan><tspan class=\"value\" x=\"1\" dy=\"-0.19834710743801653\" style=\"font-size:0.1652892561983471px;\">value: 1.871</tspan></text><g><circle r=\"1\" cx=\"1\" cy=\"1\" class=\"back\"></circle><circle r=\"1\" cx=\"1\" cy=\"1\" class=\"front\"></circle><path class=\"cross\" d=\"M0,1h0.9m0.2,0h0.9M1,0v0.9m0,0.2v0.9\" transform=\"rotate(45 1 1)\"></path></g></svg><svg class=\"feature ORB keypoint\" preserveAspectRatio=\"none\" viewBox=\"0 0 2 2\" x=\"0.369\" y=\"0.254\" width=\"0.242\" height=\"0.401\"><text x=\"1\" y=\"0.09917355371900827\" text-anchor=\"middle\"><tspan class=\"className\" x=\"1\" dy=\"-0.19834710743801653\" style=\"font-size:0.1652892561983471px;\">className: ORB keypoint</tspan><tspan class=\"value\" x=\"1\" dy=\"-0.19834710743801653\" style=\"font-size:0.1652892561983471px;\">value: 1.395</tspan></text><g><circle r=\"1\" cx=\"1\" cy=\"1\" class=\"back\"></circle><circle r=\"1\" cx=\"1\" cy=\"1\" class=\"front\"></circle><path class=\"cross\" d=\"M0,1h0.9m0.2,0h0.9M1,0v0.9m0,0.2v0.9\" transform=\"rotate(45 1 1)\"></path></g></svg><svg class=\"feature ORB keypoint\" preserveAspectRatio=\"none\" viewBox=\"0 0 2 2\" x=\"0.578\" y=\"0.254\" width=\"0.242\" height=\"0.401\"><text x=\"1\" y=\"0.09917355371900827\" text-anchor=\"middle\"><tspan class=\"className\" x=\"1\" dy=\"-0.19834710743801653\" style=\"font-size:0.1652892561983471px;\">className: ORB keypoint</tspan><tspan class=\"value\" x=\"1\" dy=\"-0.19834710743801653\" style=\"font-size:0.1652892561983471px;\">value: 1.215</tspan></text><g><circle r=\"1\" cx=\"1\" cy=\"1\" class=\"back\"></circle><circle r=\"1\" cx=\"1\" cy=\"1\" class=\"front\"></circle><path class=\"cross\" d=\"M0,1h0.9m0.2,0h0.9M1,0v0.9m0,0.2v0.9\" transform=\"rotate(45 1 1)\"></path></g></svg><svg class=\"feature ORB keypoint\" preserveAspectRatio=\"none\" viewBox=\"0 0 2 2\" x=\"0.14\" y=\"0.276\" width=\"0.242\" height=\"0.401\"><text x=\"1\" y=\"0.09917355371900827\" text-anchor=\"middle\"><tspan class=\"className\" x=\"1\" dy=\"-0.19834710743801653\" style=\"font-size:0.1652892561983471px;\">className: ORB keypoint</tspan><tspan class=\"value\" x=\"1\" dy=\"-0.19834710743801653\" style=\"font-size:0.1652892561983471px;\">value: 1.068</tspan></text><g><circle r=\"1\" cx=\"1\" cy=\"1\" class=\"back\"></circle><circle r=\"1\" cx=\"1\" cy=\"1\" class=\"front\"></circle><path class=\"cross\" d=\"M0,1h0.9m0.2,0h0.9M1,0v0.9m0,0.2v0.9\" transform=\"rotate(45 1 1)\"></path></g></svg><svg class=\"feature ORB keypoint\" preserveAspectRatio=\"none\" viewBox=\"0 0 2 2\" x=\"0.441\" y=\"0.254\" width=\"0.242\" height=\"0.401\"><text x=\"1\" y=\"0.09917355371900827\" text-anchor=\"middle\"><tspan class=\"className\" x=\"1\" dy=\"-0.19834710743801653\" style=\"font-size:0.1652892561983471px;\">className: ORB keypoint</tspan><tspan class=\"value\" x=\"1\" dy=\"-0.19834710743801653\" style=\"font-size:0.1652892561983471px;\">value: 1.028</tspan></text><g><circle r=\"1\" cx=\"1\" cy=\"1\" class=\"back\"></circle><circle r=\"1\" cx=\"1\" cy=\"1\" class=\"front\"></circle><path class=\"cross\" d=\"M0,1h0.9m0.2,0h0.9M1,0v0.9m0,0.2v0.9\" transform=\"rotate(45 1 1)\"></path></g></svg><svg class=\"feature ORB keypoint\" preserveAspectRatio=\"none\" viewBox=\"0 0 2 2\" x=\"0.338\" y=\"0.483\" width=\"0.173\" height=\"0.286\"><text x=\"1\" y=\"0.13872832369942198\" text-anchor=\"middle\"><tspan class=\"className\" x=\"1\" dy=\"-0.27745664739884396\" style=\"font-size:0.23121387283236997px;\">className: ORB keypoint</tspan><tspan class=\"value\" x=\"1\" dy=\"-0.27745664739884396\" style=\"font-size:0.23121387283236997px;\">value: 0.835</tspan></text><g><circle r=\"1\" cx=\"1\" cy=\"1\" class=\"back\"></circle><circle r=\"1\" cx=\"1\" cy=\"1\" class=\"front\"></circle><path class=\"cross\" d=\"M0,1h0.9m0.2,0h0.9M1,0v0.9m0,0.2v0.9\" transform=\"rotate(45 1 1)\"></path></g></svg><svg class=\"feature ORB keypoint\" preserveAspectRatio=\"none\" viewBox=\"0 0 2 2\" x=\"0.562\" y=\"0.36\" width=\"0.173\" height=\"0.286\"><text x=\"1\" y=\"0.13872832369942198\" text-anchor=\"middle\"><tspan class=\"className\" x=\"1\" dy=\"-0.27745664739884396\" style=\"font-size:0.23121387283236997px;\">className: ORB keypoint</tspan><tspan class=\"value\" x=\"1\" dy=\"-0.27745664739884396\" style=\"font-size:0.23121387283236997px;\">value: 0.785</tspan></text><g><circle r=\"1\" cx=\"1\" cy=\"1\" class=\"back\"></circle><circle r=\"1\" cx=\"1\" cy=\"1\" class=\"front\"></circle><path class=\"cross\" d=\"M0,1h0.9m0.2,0h0.9M1,0v0.9m0,0.2v0.9\" transform=\"rotate(45 1 1)\"></path></g></svg><svg class=\"feature ORB keypoint\" preserveAspectRatio=\"none\" viewBox=\"0 0 2 2\" x=\"0.404\" y=\"0.313\" width=\"0.173\" height=\"0.286\"><text x=\"1\" y=\"0.13872832369942198\" text-anchor=\"middle\"><tspan class=\"className\" x=\"1\" dy=\"-0.27745664739884396\" style=\"font-size:0.23121387283236997px;\">className: ORB keypoint</tspan><tspan class=\"value\" x=\"1\" dy=\"-0.27745664739884396\" style=\"font-size:0.23121387283236997px;\">value: 0.772</tspan></text><g><circle r=\"1\" cx=\"1\" cy=\"1\" class=\"back\"></circle><circle r=\"1\" cx=\"1\" cy=\"1\" class=\"front\"></circle><path class=\"cross\" d=\"M0,1h0.9m0.2,0h0.9M1,0v0.9m0,0.2v0.9\" transform=\"rotate(45 1 1)\"></path></g></svg><svg class=\"feature ORB keypoint\" preserveAspectRatio=\"none\" viewBox=\"0 0 2 2\" x=\"0.152\" y=\"0.561\" width=\"0.173\" height=\"0.286\"><text x=\"1\" y=\"0.13872832369942198\" text-anchor=\"middle\"><tspan class=\"className\" x=\"1\" dy=\"-0.27745664739884396\" style=\"font-size:0.23121387283236997px;\">className: ORB keypoint</tspan><tspan class=\"value\" x=\"1\" dy=\"-0.27745664739884396\" style=\"font-size:0.23121387283236997px;\">value: 0.723</tspan></text><g><circle r=\"1\" cx=\"1\" cy=\"1\" class=\"back\"></circle><circle r=\"1\" cx=\"1\" cy=\"1\" class=\"front\"></circle><path class=\"cross\" d=\"M0,1h0.9m0.2,0h0.9M1,0v0.9m0,0.2v0.9\" transform=\"rotate(45 1 1)\"></path></g></svg><svg class=\"feature ORB keypoint\" preserveAspectRatio=\"none\" viewBox=\"0 0 2 2\" x=\"0.618\" y=\"0.313\" width=\"0.173\" height=\"0.286\"><text x=\"1\" y=\"0.13872832369942198\" text-anchor=\"middle\"><tspan class=\"className\" x=\"1\" dy=\"-0.27745664739884396\" style=\"font-size:0.23121387283236997px;\">className: ORB keypoint</tspan><tspan class=\"value\" x=\"1\" dy=\"-0.27745664739884396\" style=\"font-size:0.23121387283236997px;\">value: 0.7</tspan></text><g><circle r=\"1\" cx=\"1\" cy=\"1\" class=\"back\"></circle><circle r=\"1\" cx=\"1\" cy=\"1\" class=\"front\"></circle><path class=\"cross\" d=\"M0,1h0.9m0.2,0h0.9M1,0v0.9m0,0.2v0.9\" transform=\"rotate(45 1 1)\"></path></g></svg><svg class=\"feature ORB keypoint\" preserveAspectRatio=\"none\" viewBox=\"0 0 2 2\" x=\"0.156\" y=\"0.522\" width=\"0.173\" height=\"0.286\"><text x=\"1\" y=\"0.13872832369942198\" text-anchor=\"middle\"><tspan class=\"className\" x=\"1\" dy=\"-0.27745664739884396\" style=\"font-size:0.23121387283236997px;\">className: ORB keypoint</tspan><tspan class=\"value\" x=\"1\" dy=\"-0.27745664739884396\" style=\"font-size:0.23121387283236997px;\">value: 0.654</tspan></text><g><circle r=\"1\" cx=\"1\" cy=\"1\" class=\"back\"></circle><circle r=\"1\" cx=\"1\" cy=\"1\" class=\"front\"></circle><path class=\"cross\" d=\"M0,1h0.9m0.2,0h0.9M1,0v0.9m0,0.2v0.9\" transform=\"rotate(45 1 1)\"></path></g></svg><svg class=\"feature ORB keypoint\" preserveAspectRatio=\"none\" viewBox=\"0 0 2 2\" x=\"0.175\" y=\"0.336\" width=\"0.173\" height=\"0.286\"><text x=\"1\" y=\"0.13872832369942198\" text-anchor=\"middle\"><tspan class=\"className\" x=\"1\" dy=\"-0.27745664739884396\" style=\"font-size:0.23121387283236997px;\">className: ORB keypoint</tspan><tspan class=\"value\" x=\"1\" dy=\"-0.27745664739884396\" style=\"font-size:0.23121387283236997px;\">value: 0.555</tspan></text><g><circle r=\"1\" cx=\"1\" cy=\"1\" class=\"back\"></circle><circle r=\"1\" cx=\"1\" cy=\"1\" class=\"front\"></circle><path class=\"cross\" d=\"M0,1h0.9m0.2,0h0.9M1,0v0.9m0,0.2v0.9\" transform=\"rotate(45 1 1)\"></path></g></svg><svg class=\"feature ORB keypoint\" preserveAspectRatio=\"none\" viewBox=\"0 0 2 2\" x=\"0.482\" y=\"0.395\" width=\"0.123\" height=\"0.204\"><text x=\"1\" y=\"0.19512195121951217\" text-anchor=\"middle\"><tspan class=\"className\" x=\"1\" dy=\"-0.39024390243902435\" style=\"font-size:0.3252032520325203px;\">className: ORB keypoint</tspan><tspan class=\"value\" x=\"1\" dy=\"-0.39024390243902435\" style=\"font-size:0.3252032520325203px;\">value: 0.516</tspan></text><g><circle r=\"1\" cx=\"1\" cy=\"1\" class=\"back\"></circle><circle r=\"1\" cx=\"1\" cy=\"1\" class=\"front\"></circle><path class=\"cross\" d=\"M0,1h0.9m0.2,0h0.9M1,0v0.9m0,0.2v0.9\" transform=\"rotate(45 1 1)\"></path></g></svg><svg class=\"feature ORB keypoint\" preserveAspectRatio=\"none\" viewBox=\"0 0 2 2\" x=\"0.178\" y=\"0.605\" width=\"0.123\" height=\"0.204\"><text x=\"1\" y=\"0.19512195121951217\" text-anchor=\"middle\"><tspan class=\"className\" x=\"1\" dy=\"-0.39024390243902435\" style=\"font-size:0.3252032520325203px;\">className: ORB keypoint</tspan><tspan class=\"value\" x=\"1\" dy=\"-0.39024390243902435\" style=\"font-size:0.3252032520325203px;\">value: 0.473</tspan></text><g><circle r=\"1\" cx=\"1\" cy=\"1\" class=\"back\"></circle><circle r=\"1\" cx=\"1\" cy=\"1\" class=\"front\"></circle><path class=\"cross\" d=\"M0,1h0.9m0.2,0h0.9M1,0v0.9m0,0.2v0.9\" transform=\"rotate(45 1 1)\"></path></g></svg><svg class=\"feature ORB keypoint\" preserveAspectRatio=\"none\" viewBox=\"0 0 2 2\" x=\"0.425\" y=\"0.351\" width=\"0.123\" height=\"0.204\"><text x=\"1\" y=\"0.19512195121951217\" text-anchor=\"middle\"><tspan class=\"className\" x=\"1\" dy=\"-0.39024390243902435\" style=\"font-size:0.3252032520325203px;\">className: ORB keypoint</tspan><tspan class=\"value\" x=\"1\" dy=\"-0.39024390243902435\" style=\"font-size:0.3252032520325203px;\">value: 0.426</tspan></text><g><circle r=\"1\" cx=\"1\" cy=\"1\" class=\"back\"></circle><circle r=\"1\" cx=\"1\" cy=\"1\" class=\"front\"></circle><path class=\"cross\" d=\"M0,1h0.9m0.2,0h0.9M1,0v0.9m0,0.2v0.9\" transform=\"rotate(45 1 1)\"></path></g></svg><svg class=\"feature ORB keypoint\" preserveAspectRatio=\"none\" viewBox=\"0 0 2 2\" x=\"0.068\" y=\"0.218\" width=\"0.123\" height=\"0.204\"><text x=\"1\" y=\"0.19512195121951217\" text-anchor=\"middle\"><tspan class=\"className\" x=\"1\" dy=\"-0.39024390243902435\" style=\"font-size:0.3252032520325203px;\">className: ORB keypoint</tspan><tspan class=\"value\" x=\"1\" dy=\"-0.39024390243902435\" style=\"font-size:0.3252032520325203px;\">value: 0.426</tspan></text><g><circle r=\"1\" cx=\"1\" cy=\"1\" class=\"back\"></circle><circle r=\"1\" cx=\"1\" cy=\"1\" class=\"front\"></circle><path class=\"cross\" d=\"M0,1h0.9m0.2,0h0.9M1,0v0.9m0,0.2v0.9\" transform=\"rotate(45 1 1)\"></path></g></svg><svg class=\"feature ORB keypoint\" preserveAspectRatio=\"none\" viewBox=\"0 0 2 2\" x=\"0.182\" y=\"0.616\" width=\"0.123\" height=\"0.204\"><text x=\"1\" y=\"0.19512195121951217\" text-anchor=\"middle\"><tspan class=\"className\" x=\"1\" dy=\"-0.39024390243902435\" style=\"font-size:0.3252032520325203px;\">className: ORB keypoint</tspan><tspan class=\"value\" x=\"1\" dy=\"-0.39024390243902435\" style=\"font-size:0.3252032520325203px;\">value: 0.426</tspan></text><g><circle r=\"1\" cx=\"1\" cy=\"1\" class=\"back\"></circle><circle r=\"1\" cx=\"1\" cy=\"1\" class=\"front\"></circle><path class=\"cross\" d=\"M0,1h0.9m0.2,0h0.9M1,0v0.9m0,0.2v0.9\" transform=\"rotate(45 1 1)\"></path></g></svg><svg class=\"feature ORB keypoint\" preserveAspectRatio=\"none\" viewBox=\"0 0 2 2\" x=\"0.202\" y=\"0.378\" width=\"0.123\" height=\"0.204\"><text x=\"1\" y=\"0.19512195121951217\" text-anchor=\"middle\"><tspan class=\"className\" x=\"1\" dy=\"-0.39024390243902435\" style=\"font-size:0.3252032520325203px;\">className: ORB keypoint</tspan><tspan class=\"value\" x=\"1\" dy=\"-0.39024390243902435\" style=\"font-size:0.3252032520325203px;\">value: 0.413</tspan></text><g><circle r=\"1\" cx=\"1\" cy=\"1\" class=\"back\"></circle><circle r=\"1\" cx=\"1\" cy=\"1\" class=\"front\"></circle><path class=\"cross\" d=\"M0,1h0.9m0.2,0h0.9M1,0v0.9m0,0.2v0.9\" transform=\"rotate(45 1 1)\"></path></g></svg><svg class=\"feature ORB keypoint\" preserveAspectRatio=\"none\" viewBox=\"0 0 2 2\" x=\"0.368\" y=\"0.522\" width=\"0.123\" height=\"0.204\"><text x=\"1\" y=\"0.19512195121951217\" text-anchor=\"middle\"><tspan class=\"className\" x=\"1\" dy=\"-0.39024390243902435\" style=\"font-size:0.3252032520325203px;\">className: ORB keypoint</tspan><tspan class=\"value\" x=\"1\" dy=\"-0.39024390243902435\" style=\"font-size:0.3252032520325203px;\">value: 0.413</tspan></text><g><circle r=\"1\" cx=\"1\" cy=\"1\" class=\"back\"></circle><circle r=\"1\" cx=\"1\" cy=\"1\" class=\"front\"></circle><path class=\"cross\" d=\"M0,1h0.9m0.2,0h0.9M1,0v0.9m0,0.2v0.9\" transform=\"rotate(45 1 1)\"></path></g></svg><svg class=\"feature ORB keypoint\" preserveAspectRatio=\"none\" viewBox=\"0 0 2 2\" x=\"0.588\" y=\"0.401\" width=\"0.123\" height=\"0.204\"><text x=\"1\" y=\"0.19512195121951217\" text-anchor=\"middle\"><tspan class=\"className\" x=\"1\" dy=\"-0.39024390243902435\" style=\"font-size:0.3252032520325203px;\">className: ORB keypoint</tspan><tspan class=\"value\" x=\"1\" dy=\"-0.39024390243902435\" style=\"font-size:0.3252032520325203px;\">value: 0.4</tspan></text><g><circle r=\"1\" cx=\"1\" cy=\"1\" class=\"back\"></circle><circle r=\"1\" cx=\"1\" cy=\"1\" class=\"front\"></circle><path class=\"cross\" d=\"M0,1h0.9m0.2,0h0.9M1,0v0.9m0,0.2v0.9\" transform=\"rotate(45 1 1)\"></path></g></svg><svg class=\"feature ORB keypoint\" preserveAspectRatio=\"none\" viewBox=\"0 0 2 2\" x=\"0.785\" y=\"0.169\" width=\"0.123\" height=\"0.204\"><text x=\"1\" y=\"0.19512195121951217\" text-anchor=\"middle\"><tspan class=\"className\" x=\"1\" dy=\"-0.39024390243902435\" style=\"font-size:0.3252032520325203px;\">className: ORB keypoint</tspan><tspan class=\"value\" x=\"1\" dy=\"-0.39024390243902435\" style=\"font-size:0.3252032520325203px;\">value: 0.394</tspan></text><g><circle r=\"1\" cx=\"1\" cy=\"1\" class=\"back\"></circle><circle r=\"1\" cx=\"1\" cy=\"1\" class=\"front\"></circle><path class=\"cross\" d=\"M0,1h0.9m0.2,0h0.9M1,0v0.9m0,0.2v0.9\" transform=\"rotate(45 1 1)\"></path></g></svg><svg class=\"feature ORB keypoint\" preserveAspectRatio=\"none\" viewBox=\"0 0 2 2\" x=\"0.298\" y=\"0.633\" width=\"0.123\" height=\"0.204\"><text x=\"1\" y=\"0.19512195121951217\" text-anchor=\"middle\"><tspan class=\"className\" x=\"1\" dy=\"-0.39024390243902435\" style=\"font-size:0.3252032520325203px;\">className: ORB keypoint</tspan><tspan class=\"value\" x=\"1\" dy=\"-0.39024390243902435\" style=\"font-size:0.3252032520325203px;\">value: 0.388</tspan></text><g><circle r=\"1\" cx=\"1\" cy=\"1\" class=\"back\"></circle><circle r=\"1\" cx=\"1\" cy=\"1\" class=\"front\"></circle><path class=\"cross\" d=\"M0,1h0.9m0.2,0h0.9M1,0v0.9m0,0.2v0.9\" transform=\"rotate(45 1 1)\"></path></g></svg></svg></div><div class=\"infoBoxWrapper\"><div class=\"infoBox\"><div class=\"infoRow\"><div class=\"label\">left:</div><div class=\"value\">0.169</div></div><div class=\"infoRow\"><div class=\"label\">top:</div><div class=\"value\">0.068</div></div><div class=\"infoRow\"><div class=\"label\">right:</div><div class=\"value\">0.847</div></div><div class=\"infoRow\"><div class=\"label\">bottom:</div><div class=\"value\">0.908</div></div><div class=\"infoRow\"><div class=\"label\">x:</div><div class=\"value\">0.455</div></div><div class=\"infoRow\"><div class=\"label\">y:</div><div class=\"value\">0.261</div></div></div></div></div><div class=\"previewPanel\" style=\"flex-direction:row;\"><div class=\"previewWrapper infoParent\" style=\"flex:1;\"><svg class=\"previewImg\" style=\"background-image:url(./kids_in_the_hall.jpg);background-position:17% 50%;background-repeat:no-repeat;background-size:165% auto;\" viewBox=\"0 0 1 1\"></svg><div class=\"infoBoxWrapper\"><div class=\"infoBox\"><div class=\"infoRow\"><div class=\"label\">position:</div><div class=\"value\">17% 50%</div></div><div class=\"infoRow\"><div class=\"label\">size:</div><div class=\"value\">165% auto</div></div><div class=\"infoRow\"><div class=\"label\">aspect ratio:</div><div class=\"value\">1</div></div></div></div></div><div class=\"previewWrapper infoParent\" style=\"flex:0.5;\"><svg class=\"previewImg\" style=\"background-image:url(./kids_in_the_hall.jpg);background-position:16% 50%;background-repeat:no-repeat;background-size:330% auto;\" viewBox=\"0 0 0.5 1\"></svg><div class=\"infoBoxWrapper\"><div class=\"infoBox\"><div class=\"infoRow\"><div class=\"label\">position:</div><div class=\"value\">16% 50%</div></div><div class=\"infoRow\"><div class=\"label\">size:</div><div class=\"value\">330% auto</div></div><div class=\"infoRow\"><div class=\"label\">aspect ratio:</div><div class=\"value\">0.5</div></div></div></div></div><div class=\"previewWrapper infoParent\" style=\"flex:2.5;\"><svg class=\"previewImg\" style=\"background-image:url(./kids_in_the_hall.jpg);background-position:50% 50%;background-repeat:no-repeat;background-size:100% auto;\" viewBox=\"0 0 2.5 1\"></svg><div class=\"infoBoxWrapper\"><div class=\"infoBox\"><div class=\"infoRow\"><div class=\"label\">position:</div><div class=\"value\">50% 50%</div></div><div class=\"infoRow\"><div class=\"label\">size:</div><div class=\"value\">100% auto</div></div><div class=\"infoRow\"><div class=\"label\">aspect ratio:</div><div class=\"value\">2.5</div></div></div></div></div></div></div>\n"
      ],
      "text/plain": [
       "<IPython.core.display.HTML object>"
      ]
     },
     "execution_count": 8,
     "metadata": {},
     "output_type": "execute_result"
    }
   ],
   "source": [
    "#os.remove(fn)\n",
    "croppify('./kids_in_the_hall.jpg', KeypointCropEngine(n=30))"
   ]
  },
  {
   "cell_type": "code",
   "execution_count": 10,
   "metadata": {
    "collapsed": false
   },
   "outputs": [
    {
     "data": {
      "text/html": [
       "<div class=\"cropboxWrapper\" style=\"flex-direction:column;display:flex;\"><div class=\"masterImgWrapper infoParent\"><img class=\"masterImg\" src=\"./kids_in_the_hall.jpg\"/><div class=\"overlayWrapper\"><svg class=\"overlay inactive\" viewBox=\"0 0 1 1\" preserveAspectRatio=\"none\" height=\"100%\" width=\"100%\"><symbol id=\"profile-face\" viewBox=\"0 0 100 100\"><path d=\"m15.3 69.6c-2.7-1.8-10.1-3.3-7.91-7.2 2.91-5.2 9.11-11.9\n",
       "              8.21-17.5-4-24.2 10-39.8 33.9-39.9 24-.09 37.5 12.8 37.5 38.2 0\n",
       "              35.7-51.1 60.8-59.8 48.5-8.8-12.6-7.6-17.4-11.9-22.1z\"></path></symbol><symbol id=\"frontal-face\" viewBox=\"0 0 100 100\"><path d=\"m50 5c-12.8 0-25.8 7.73-30 16.9-4.19 9.17-.562 14.4-.768\n",
       "              29.3-.205 15 6.92 30 13.4 34.9 6.49 4.88 11.3 8.89 17.3 8.89 6.04\n",
       "              0 10.8-4.01 17.3-8.89 6.6-4.9 13.7-19.9 13.5-34.9-.2-14.9\n",
       "              3.5-20.1-.7-29.3s-17.2-16.9-30-16.9z\"></path></symbol><path class=\"outside\" fill-rule=\"evenodd\" d=\"M0, 0H1V1H0ZM0.205, 0.30578512396694213V0.6776859504132231H0.43V0.30578512396694213Z\"></path><g class=\"inside\"><path class=\"box\" d=\"M0.205, 0.30578512396694213V0.6776859504132231H0.43V0.30578512396694213Z\"></path><svg class=\"handles\" viewBox=\"0 0 1 1\" preserveAspectRatio=\"none\" height=\"0.371900826446281\" width=\"0.225\" x=\"0.205\" y=\"0.30578512396694213\"><rect class=\"1000\" width=\"0.1\" height=\"1.1\" x=\"-0.05\" y=\"-0.05\" style=\"cursor:ew-resize;\"></rect><rect class=\"0100\" width=\"1.1\" height=\"0.1\" x=\"-0.05\" y=\"-0.05\" style=\"cursor:ns-resize;\"></rect><rect class=\"0010\" width=\"0.1\" height=\"1.1\" x=\"0.95\" y=\"-0.05\" style=\"cursor:ew-resize;\"></rect><rect class=\"0001\" width=\"1.1\" height=\"0.1\" x=\"-0.05\" y=\"0.95\" style=\"cursor:ns-resize;\"></rect><rect class=\"1100\" width=\"0.1\" height=\"0.1\" x=\"-0.05\" y=\"-0.05\" style=\"cursor:nw-resize;\"></rect><rect class=\"0110\" width=\"0.1\" height=\"0.1\" x=\"0.95\" y=\"-0.05\" style=\"cursor:ne-resize;\"></rect><rect class=\"0011\" width=\"0.1\" height=\"0.1\" x=\"0.95\" y=\"0.95\" style=\"cursor:se-resize;\"></rect><rect class=\"1001\" width=\"0.1\" height=\"0.1\" x=\"-0.05\" y=\"0.95\" style=\"cursor:sw-resize;\"></rect></svg></g><g class=\"centerPoint\"><ellipse class=\"handle\" style=\"opacity:0;\" cx=\"0.3175\" cy=\"0.4917355371900826\" rx=\"0.05\" ry=\"0.082569558101473\"></ellipse><path class=\"cross\" d=\"M0, 0.4917355371900826H1M0.3175, 0V1\"></path></g><svg class=\"feature frontal face\" preserveAspectRatio=\"none\" viewBox=\"0 0 2 2\" x=\"0.205\" y=\"0.306\" width=\"0.225\" height=\"0.372\"><text x=\"1\" y=\"0.10666666666666667\" text-anchor=\"middle\"><tspan class=\"className\" x=\"1\" dy=\"-0.21333333333333335\" style=\"font-size:0.17777777777777778px;\">className: frontal face</tspan><tspan class=\"value\" x=\"1\" dy=\"-0.21333333333333335\" style=\"font-size:0.17777777777777778px;\">value: 16.736</tspan></text><g><use xlink:href=\"#frontal-face\" x=\"0\" y=\"0\" height=\"2\" width=\"2\" class=\"back\"></use><use xlink:href=\"#frontal-face\" x=\"0\" y=\"0\" height=\"2\" width=\"2\" class=\"front\"></use></g></svg></svg></div><div class=\"infoBoxWrapper\"><div class=\"infoBox\"><div class=\"infoRow\"><div class=\"label\">left:</div><div class=\"value\">0.306</div></div><div class=\"infoRow\"><div class=\"label\">top:</div><div class=\"value\">0.205</div></div><div class=\"infoRow\"><div class=\"label\">right:</div><div class=\"value\">0.678</div></div><div class=\"infoRow\"><div class=\"label\">bottom:</div><div class=\"value\">0.430</div></div><div class=\"infoRow\"><div class=\"label\">x:</div><div class=\"value\">0.492</div></div><div class=\"infoRow\"><div class=\"label\">y:</div><div class=\"value\">0.318</div></div></div></div></div><div class=\"previewPanel\" style=\"flex-direction:row;\"><div class=\"previewWrapper infoParent\" style=\"flex:1;\"><svg class=\"previewImg\" style=\"background-image:url(./kids_in_the_hall.jpg);background-position:26% 49%;background-repeat:no-repeat;background-size:444% auto;\" viewBox=\"0 0 1 1\"></svg><div class=\"infoBoxWrapper\"><div class=\"infoBox\"><div class=\"infoRow\"><div class=\"label\">position:</div><div class=\"value\">26% 49%</div></div><div class=\"infoRow\"><div class=\"label\">size:</div><div class=\"value\">444% auto</div></div><div class=\"infoRow\"><div class=\"label\">aspect ratio:</div><div class=\"value\">1</div></div></div></div></div><div class=\"previewWrapper infoParent\" style=\"flex:0.5;\"><svg class=\"previewImg\" style=\"background-image:url(./kids_in_the_hall.jpg);background-position:26% 47%;background-repeat:no-repeat;background-size:444% auto;\" viewBox=\"0 0 0.5 1\"></svg><div class=\"infoBoxWrapper\"><div class=\"infoBox\"><div class=\"infoRow\"><div class=\"label\">position:</div><div class=\"value\">26% 47%</div></div><div class=\"infoRow\"><div class=\"label\">size:</div><div class=\"value\">444% auto</div></div><div class=\"infoRow\"><div class=\"label\">aspect ratio:</div><div class=\"value\">0.5</div></div></div></div></div><div class=\"previewWrapper infoParent\" style=\"flex:2.5;\"><svg class=\"previewImg\" style=\"background-image:url(./kids_in_the_hall.jpg);background-position:8% 49%;background-repeat:no-repeat;background-size:178% auto;\" viewBox=\"0 0 2.5 1\"></svg><div class=\"infoBoxWrapper\"><div class=\"infoBox\"><div class=\"infoRow\"><div class=\"label\">position:</div><div class=\"value\">8% 49%</div></div><div class=\"infoRow\"><div class=\"label\">size:</div><div class=\"value\">178% auto</div></div><div class=\"infoRow\"><div class=\"label\">aspect ratio:</div><div class=\"value\">2.5</div></div></div></div></div></div></div>\n"
      ],
      "text/plain": [
       "<IPython.core.display.HTML object>"
      ]
     },
     "execution_count": 10,
     "metadata": {},
     "output_type": "execute_result"
    }
   ],
   "source": [
    "croppify('./kids_in_the_hall.jpg', cropengine.FaceCropEngine())"
   ]
  },
  {
   "cell_type": "code",
   "execution_count": 11,
   "metadata": {
    "collapsed": false,
    "scrolled": false
   },
   "outputs": [
    {
     "data": {
      "text/html": [
       "<div class=\"cropboxWrapper\" style=\"flex-direction:column;display:flex;\"><div class=\"masterImgWrapper infoParent\"><img class=\"masterImg\" src=\"11-NYH-nyhklarefors-01-SGS.jpg\"/><div class=\"overlayWrapper\"><svg class=\"overlay inactive\" viewBox=\"0 0 1 1\" preserveAspectRatio=\"none\" height=\"100%\" width=\"100%\"><symbol id=\"profile-face\" viewBox=\"0 0 100 100\"><path d=\"m15.3 69.6c-2.7-1.8-10.1-3.3-7.91-7.2 2.91-5.2 9.11-11.9\n",
       "              8.21-17.5-4-24.2 10-39.8 33.9-39.9 24-.09 37.5 12.8 37.5 38.2 0\n",
       "              35.7-51.1 60.8-59.8 48.5-8.8-12.6-7.6-17.4-11.9-22.1z\"></path></symbol><symbol id=\"frontal-face\" viewBox=\"0 0 100 100\"><path d=\"m50 5c-12.8 0-25.8 7.73-30 16.9-4.19 9.17-.562 14.4-.768\n",
       "              29.3-.205 15 6.92 30 13.4 34.9 6.49 4.88 11.3 8.89 17.3 8.89 6.04\n",
       "              0 10.8-4.01 17.3-8.89 6.6-4.9 13.7-19.9 13.5-34.9-.2-14.9\n",
       "              3.5-20.1-.7-29.3s-17.2-16.9-30-16.9z\"></path></symbol><path class=\"outside\" fill-rule=\"evenodd\" d=\"M0, 0H1V1H0ZM0.24989998817443848, 0.15625V0.8348214285714286H0.8715000152587891V0.15625Z\"></path><g class=\"inside\"><path class=\"box\" d=\"M0.24989998817443848, 0.15625V0.8348214285714286H0.8715000152587891V0.15625Z\"></path><svg class=\"handles\" viewBox=\"0 0 1 1\" preserveAspectRatio=\"none\" height=\"0.6785714285714286\" width=\"0.6216000270843506\" x=\"0.24989998817443848\" y=\"0.15625\"><rect class=\"1000\" width=\"0.1\" height=\"1.1\" x=\"-0.05\" y=\"-0.05\" style=\"cursor:ew-resize;\"></rect><rect class=\"0100\" width=\"1.1\" height=\"0.1\" x=\"-0.05\" y=\"-0.05\" style=\"cursor:ns-resize;\"></rect><rect class=\"0010\" width=\"0.1\" height=\"1.1\" x=\"0.95\" y=\"-0.05\" style=\"cursor:ew-resize;\"></rect><rect class=\"0001\" width=\"1.1\" height=\"0.1\" x=\"-0.05\" y=\"0.95\" style=\"cursor:ns-resize;\"></rect><rect class=\"1100\" width=\"0.1\" height=\"0.1\" x=\"-0.05\" y=\"-0.05\" style=\"cursor:nw-resize;\"></rect><rect class=\"0110\" width=\"0.1\" height=\"0.1\" x=\"0.95\" y=\"-0.05\" style=\"cursor:ne-resize;\"></rect><rect class=\"0011\" width=\"0.1\" height=\"0.1\" x=\"0.95\" y=\"0.95\" style=\"cursor:se-resize;\"></rect><rect class=\"1001\" width=\"0.1\" height=\"0.1\" x=\"-0.05\" y=\"0.95\" style=\"cursor:sw-resize;\"></rect></svg></g><g class=\"centerPoint\"><ellipse class=\"handle\" style=\"opacity:0;\" cx=\"0.5739999771118164\" cy=\"0.36249998637608116\" rx=\"0.05\" ry=\"0.08891656288916563\"></ellipse><path class=\"cross\" d=\"M0, 0.36249998637608116H1M0.5739999771118164, 0V1\"></path></g><svg class=\"feature ORB keypoint\" preserveAspectRatio=\"none\" viewBox=\"0 0 2 2\" x=\"0.486\" y=\"0.206\" width=\"0.175\" height=\"0.312\"><text x=\"1\" y=\"0.13714285714285715\" text-anchor=\"middle\"><tspan class=\"className\" x=\"1\" dy=\"-0.2742857142857143\" style=\"font-size:0.2285714285714286px;\">className: ORB keypoint</tspan><tspan class=\"value\" x=\"1\" dy=\"-0.2742857142857143\" style=\"font-size:0.2285714285714286px;\">value: 1.831</tspan></text><g><circle r=\"1\" cx=\"1\" cy=\"1\" class=\"back\"></circle><circle r=\"1\" cx=\"1\" cy=\"1\" class=\"front\"></circle><path class=\"cross\" d=\"M0,1h0.9m0.2,0h0.9M1,0v0.9m0,0.2v0.9\" transform=\"rotate(45 1 1)\"></path></g></svg><svg class=\"feature ORB keypoint\" preserveAspectRatio=\"none\" viewBox=\"0 0 2 2\" x=\"0.697\" y=\"0.181\" width=\"0.175\" height=\"0.312\"><text x=\"1\" y=\"0.13714285714285715\" text-anchor=\"middle\"><tspan class=\"className\" x=\"1\" dy=\"-0.2742857142857143\" style=\"font-size:0.2285714285714286px;\">className: ORB keypoint</tspan><tspan class=\"value\" x=\"1\" dy=\"-0.2742857142857143\" style=\"font-size:0.2285714285714286px;\">value: 1.4</tspan></text><g><circle r=\"1\" cx=\"1\" cy=\"1\" class=\"back\"></circle><circle r=\"1\" cx=\"1\" cy=\"1\" class=\"front\"></circle><path class=\"cross\" d=\"M0,1h0.9m0.2,0h0.9M1,0v0.9m0,0.2v0.9\" transform=\"rotate(45 1 1)\"></path></g></svg><svg class=\"feature ORB keypoint\" preserveAspectRatio=\"none\" viewBox=\"0 0 2 2\" x=\"0.25\" y=\"0.254\" width=\"0.245\" height=\"0.437\"><text x=\"1\" y=\"0.0979591836734694\" text-anchor=\"middle\"><tspan class=\"className\" x=\"1\" dy=\"-0.1959183673469388\" style=\"font-size:0.163265306122449px;\">className: ORB keypoint</tspan><tspan class=\"value\" x=\"1\" dy=\"-0.1959183673469388\" style=\"font-size:0.163265306122449px;\">value: 1.369</tspan></text><g><circle r=\"1\" cx=\"1\" cy=\"1\" class=\"back\"></circle><circle r=\"1\" cx=\"1\" cy=\"1\" class=\"front\"></circle><path class=\"cross\" d=\"M0,1h0.9m0.2,0h0.9M1,0v0.9m0,0.2v0.9\" transform=\"rotate(45 1 1)\"></path></g></svg><svg class=\"feature ORB keypoint\" preserveAspectRatio=\"none\" viewBox=\"0 0 2 2\" x=\"0.416\" y=\"0.289\" width=\"0.245\" height=\"0.437\"><text x=\"1\" y=\"0.0979591836734694\" text-anchor=\"middle\"><tspan class=\"className\" x=\"1\" dy=\"-0.1959183673469388\" style=\"font-size:0.163265306122449px;\">className: ORB keypoint</tspan><tspan class=\"value\" x=\"1\" dy=\"-0.1959183673469388\" style=\"font-size:0.163265306122449px;\">value: 1.345</tspan></text><g><circle r=\"1\" cx=\"1\" cy=\"1\" class=\"back\"></circle><circle r=\"1\" cx=\"1\" cy=\"1\" class=\"front\"></circle><path class=\"cross\" d=\"M0,1h0.9m0.2,0h0.9M1,0v0.9m0,0.2v0.9\" transform=\"rotate(45 1 1)\"></path></g></svg><svg class=\"feature ORB keypoint\" preserveAspectRatio=\"none\" viewBox=\"0 0 2 2\" x=\"0.486\" y=\"0.244\" width=\"0.175\" height=\"0.312\"><text x=\"1\" y=\"0.13714285714285715\" text-anchor=\"middle\"><tspan class=\"className\" x=\"1\" dy=\"-0.2742857142857143\" style=\"font-size:0.2285714285714286px;\">className: ORB keypoint</tspan><tspan class=\"value\" x=\"1\" dy=\"-0.2742857142857143\" style=\"font-size:0.2285714285714286px;\">value: 1.182</tspan></text><g><circle r=\"1\" cx=\"1\" cy=\"1\" class=\"back\"></circle><circle r=\"1\" cx=\"1\" cy=\"1\" class=\"front\"></circle><path class=\"cross\" d=\"M0,1h0.9m0.2,0h0.9M1,0v0.9m0,0.2v0.9\" transform=\"rotate(45 1 1)\"></path></g></svg><svg class=\"feature ORB keypoint\" preserveAspectRatio=\"none\" viewBox=\"0 0 2 2\" x=\"0.367\" y=\"0.456\" width=\"0.175\" height=\"0.312\"><text x=\"1\" y=\"0.13714285714285715\" text-anchor=\"middle\"><tspan class=\"className\" x=\"1\" dy=\"-0.2742857142857143\" style=\"font-size:0.2285714285714286px;\">className: ORB keypoint</tspan><tspan class=\"value\" x=\"1\" dy=\"-0.2742857142857143\" style=\"font-size:0.2285714285714286px;\">value: 1.166</tspan></text><g><circle r=\"1\" cx=\"1\" cy=\"1\" class=\"back\"></circle><circle r=\"1\" cx=\"1\" cy=\"1\" class=\"front\"></circle><path class=\"cross\" d=\"M0,1h0.9m0.2,0h0.9M1,0v0.9m0,0.2v0.9\" transform=\"rotate(45 1 1)\"></path></g></svg><svg class=\"feature ORB keypoint\" preserveAspectRatio=\"none\" viewBox=\"0 0 2 2\" x=\"0.276\" y=\"0.156\" width=\"0.175\" height=\"0.312\"><text x=\"1\" y=\"0.13714285714285715\" text-anchor=\"middle\"><tspan class=\"className\" x=\"1\" dy=\"-0.2742857142857143\" style=\"font-size:0.2285714285714286px;\">className: ORB keypoint</tspan><tspan class=\"value\" x=\"1\" dy=\"-0.2742857142857143\" style=\"font-size:0.2285714285714286px;\">value: 1.118</tspan></text><g><circle r=\"1\" cx=\"1\" cy=\"1\" class=\"back\"></circle><circle r=\"1\" cx=\"1\" cy=\"1\" class=\"front\"></circle><path class=\"cross\" d=\"M0,1h0.9m0.2,0h0.9M1,0v0.9m0,0.2v0.9\" transform=\"rotate(45 1 1)\"></path></g></svg><svg class=\"feature ORB keypoint\" preserveAspectRatio=\"none\" viewBox=\"0 0 2 2\" x=\"0.253\" y=\"0.612\" width=\"0.125\" height=\"0.223\"><text x=\"1\" y=\"0.192\" text-anchor=\"middle\"><tspan class=\"className\" x=\"1\" dy=\"-0.384\" style=\"font-size:0.32px;\">className: ORB keypoint</tspan><tspan class=\"value\" x=\"1\" dy=\"-0.384\" style=\"font-size:0.32px;\">value: 1.061</tspan></text><g><circle r=\"1\" cx=\"1\" cy=\"1\" class=\"back\"></circle><circle r=\"1\" cx=\"1\" cy=\"1\" class=\"front\"></circle><path class=\"cross\" d=\"M0,1h0.9m0.2,0h0.9M1,0v0.9m0,0.2v0.9\" transform=\"rotate(45 1 1)\"></path></g></svg><svg class=\"feature ORB keypoint\" preserveAspectRatio=\"none\" viewBox=\"0 0 2 2\" x=\"0.502\" y=\"0.192\" width=\"0.125\" height=\"0.223\"><text x=\"1\" y=\"0.192\" text-anchor=\"middle\"><tspan class=\"className\" x=\"1\" dy=\"-0.384\" style=\"font-size:0.32px;\">className: ORB keypoint</tspan><tspan class=\"value\" x=\"1\" dy=\"-0.384\" style=\"font-size:0.32px;\">value: 1.018</tspan></text><g><circle r=\"1\" cx=\"1\" cy=\"1\" class=\"back\"></circle><circle r=\"1\" cx=\"1\" cy=\"1\" class=\"front\"></circle><path class=\"cross\" d=\"M0,1h0.9m0.2,0h0.9M1,0v0.9m0,0.2v0.9\" transform=\"rotate(45 1 1)\"></path></g></svg><svg class=\"feature ORB keypoint\" preserveAspectRatio=\"none\" viewBox=\"0 0 2 2\" x=\"0.492\" y=\"0.201\" width=\"0.125\" height=\"0.223\"><text x=\"1\" y=\"0.192\" text-anchor=\"middle\"><tspan class=\"className\" x=\"1\" dy=\"-0.384\" style=\"font-size:0.32px;\">className: ORB keypoint</tspan><tspan class=\"value\" x=\"1\" dy=\"-0.384\" style=\"font-size:0.32px;\">value: 0.976</tspan></text><g><circle r=\"1\" cx=\"1\" cy=\"1\" class=\"back\"></circle><circle r=\"1\" cx=\"1\" cy=\"1\" class=\"front\"></circle><path class=\"cross\" d=\"M0,1h0.9m0.2,0h0.9M1,0v0.9m0,0.2v0.9\" transform=\"rotate(45 1 1)\"></path></g></svg><svg class=\"feature ORB keypoint\" preserveAspectRatio=\"none\" viewBox=\"0 0 2 2\" x=\"0.453\" y=\"0.46\" width=\"0.125\" height=\"0.223\"><text x=\"1\" y=\"0.192\" text-anchor=\"middle\"><tspan class=\"className\" x=\"1\" dy=\"-0.384\" style=\"font-size:0.32px;\">className: ORB keypoint</tspan><tspan class=\"value\" x=\"1\" dy=\"-0.384\" style=\"font-size:0.32px;\">value: 0.934</tspan></text><g><circle r=\"1\" cx=\"1\" cy=\"1\" class=\"back\"></circle><circle r=\"1\" cx=\"1\" cy=\"1\" class=\"front\"></circle><path class=\"cross\" d=\"M0,1h0.9m0.2,0h0.9M1,0v0.9m0,0.2v0.9\" transform=\"rotate(45 1 1)\"></path></g></svg><svg class=\"feature ORB keypoint\" preserveAspectRatio=\"none\" viewBox=\"0 0 2 2\" x=\"0.723\" y=\"0.219\" width=\"0.125\" height=\"0.223\"><text x=\"1\" y=\"0.192\" text-anchor=\"middle\"><tspan class=\"className\" x=\"1\" dy=\"-0.384\" style=\"font-size:0.32px;\">className: ORB keypoint</tspan><tspan class=\"value\" x=\"1\" dy=\"-0.384\" style=\"font-size:0.32px;\">value: 0.924</tspan></text><g><circle r=\"1\" cx=\"1\" cy=\"1\" class=\"back\"></circle><circle r=\"1\" cx=\"1\" cy=\"1\" class=\"front\"></circle><path class=\"cross\" d=\"M0,1h0.9m0.2,0h0.9M1,0v0.9m0,0.2v0.9\" transform=\"rotate(45 1 1)\"></path></g></svg><svg class=\"feature ORB keypoint\" preserveAspectRatio=\"none\" viewBox=\"0 0 2 2\" x=\"0.603\" y=\"0.254\" width=\"0.245\" height=\"0.437\"><text x=\"1\" y=\"0.0979591836734694\" text-anchor=\"middle\"><tspan class=\"className\" x=\"1\" dy=\"-0.1959183673469388\" style=\"font-size:0.163265306122449px;\">className: ORB keypoint</tspan><tspan class=\"value\" x=\"1\" dy=\"-0.1959183673469388\" style=\"font-size:0.163265306122449px;\">value: 0.907</tspan></text><g><circle r=\"1\" cx=\"1\" cy=\"1\" class=\"back\"></circle><circle r=\"1\" cx=\"1\" cy=\"1\" class=\"front\"></circle><path class=\"cross\" d=\"M0,1h0.9m0.2,0h0.9M1,0v0.9m0,0.2v0.9\" transform=\"rotate(45 1 1)\"></path></g></svg><svg class=\"feature ORB keypoint\" preserveAspectRatio=\"none\" viewBox=\"0 0 2 2\" x=\"0.532\" y=\"0.335\" width=\"0.125\" height=\"0.223\"><text x=\"1\" y=\"0.192\" text-anchor=\"middle\"><tspan class=\"className\" x=\"1\" dy=\"-0.384\" style=\"font-size:0.32px;\">className: ORB keypoint</tspan><tspan class=\"value\" x=\"1\" dy=\"-0.384\" style=\"font-size:0.32px;\">value: 0.884</tspan></text><g><circle r=\"1\" cx=\"1\" cy=\"1\" class=\"back\"></circle><circle r=\"1\" cx=\"1\" cy=\"1\" class=\"front\"></circle><path class=\"cross\" d=\"M0,1h0.9m0.2,0h0.9M1,0v0.9m0,0.2v0.9\" transform=\"rotate(45 1 1)\"></path></g></svg></svg></div><div class=\"infoBoxWrapper\"><div class=\"infoBox\"><div class=\"infoRow\"><div class=\"label\">left:</div><div class=\"value\">0.156</div></div><div class=\"infoRow\"><div class=\"label\">top:</div><div class=\"value\">0.250</div></div><div class=\"infoRow\"><div class=\"label\">right:</div><div class=\"value\">0.835</div></div><div class=\"infoRow\"><div class=\"label\">bottom:</div><div class=\"value\">0.872</div></div><div class=\"infoRow\"><div class=\"label\">x:</div><div class=\"value\">0.362</div></div><div class=\"infoRow\"><div class=\"label\">y:</div><div class=\"value\">0.574</div></div></div></div></div><div class=\"previewPanel\" style=\"flex-direction:row;\"><div class=\"previewWrapper infoParent\" style=\"flex:1;\"><svg class=\"previewImg\" style=\"background-image:url(11-NYH-nyhklarefors-01-SGS.jpg);background-position:67% 50%;background-repeat:no-repeat;background-size:178% auto;\" viewBox=\"0 0 1 1\"></svg><div class=\"infoBoxWrapper\"><div class=\"infoBox\"><div class=\"infoRow\"><div class=\"label\">position:</div><div class=\"value\">67% 50%</div></div><div class=\"infoRow\"><div class=\"label\">size:</div><div class=\"value\">178% auto</div></div><div class=\"infoRow\"><div class=\"label\">aspect ratio:</div><div class=\"value\">1</div></div></div></div></div><div class=\"previewWrapper infoParent\" style=\"flex:0.5;\"><svg class=\"previewImg\" style=\"background-image:url(11-NYH-nyhklarefors-01-SGS.jpg);background-position:60% 50%;background-repeat:no-repeat;background-size:356% auto;\" viewBox=\"0 0 0.5 1\"></svg><div class=\"infoBoxWrapper\"><div class=\"infoBox\"><div class=\"infoRow\"><div class=\"label\">position:</div><div class=\"value\">60% 50%</div></div><div class=\"infoRow\"><div class=\"label\">size:</div><div class=\"value\">356% auto</div></div><div class=\"infoRow\"><div class=\"label\">aspect ratio:</div><div class=\"value\">0.5</div></div></div></div></div><div class=\"previewWrapper infoParent\" style=\"flex:2.5;\"><svg class=\"previewImg\" style=\"background-image:url(11-NYH-nyhklarefors-01-SGS.jpg);background-position:100% 49%;background-repeat:no-repeat;background-size:105% auto;\" viewBox=\"0 0 2.5 1\"></svg><div class=\"infoBoxWrapper\"><div class=\"infoBox\"><div class=\"infoRow\"><div class=\"label\">position:</div><div class=\"value\">100% 49%</div></div><div class=\"infoRow\"><div class=\"label\">size:</div><div class=\"value\">105% auto</div></div><div class=\"infoRow\"><div class=\"label\">aspect ratio:</div><div class=\"value\">2.5</div></div></div></div></div></div></div>\n"
      ],
      "text/plain": [
       "<IPython.core.display.HTML object>"
      ]
     },
     "execution_count": 11,
     "metadata": {},
     "output_type": "execute_result"
    }
   ],
   "source": [
    "croppify('11-NYH-nyhklarefors-01-SGS.jpg', KeypointCropEngine(imgsize=200, n=20))"
   ]
  },
  {
   "cell_type": "code",
   "execution_count": null,
   "metadata": {
    "collapsed": false
   },
   "outputs": [],
   "source": [
    "croppify('./kids_in_the_hall.jpg', cropengine.KeypointCropEngine())"
   ]
  },
  {
   "cell_type": "code",
   "execution_count": null,
   "metadata": {
    "collapsed": false
   },
   "outputs": [],
   "source": [
    "croppify('./forlag.jpg', cropengine.FaceCropEngine())"
   ]
  },
  {
   "cell_type": "code",
   "execution_count": null,
   "metadata": {
    "collapsed": true
   },
   "outputs": [],
   "source": []
  }
 ],
 "metadata": {
  "kernelspec": {
   "display_name": "Python 3",
   "language": "python",
   "name": "python3"
  },
  "language_info": {
   "codemirror_mode": {
    "name": "ipython",
    "version": 3
   },
   "file_extension": ".py",
   "mimetype": "text/x-python",
   "name": "python",
   "nbconvert_exporter": "python",
   "pygments_lexer": "ipython3",
   "version": "3.5.1+"
  }
 },
 "nbformat": 4,
 "nbformat_minor": 0
}
